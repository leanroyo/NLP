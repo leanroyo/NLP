{
  "cells": [
    {
      "cell_type": "markdown",
      "metadata": {
        "id": "zq6j8LsYq1Dr"
      },
      "source": [
        "### Vectorización de texto y modelo de clasificación Naïve Bayes con el dataset 20 newsgroups"
      ]
    },
    {
      "cell_type": "code",
      "execution_count": null,
      "metadata": {
        "id": "l7cXR6CI30ry"
      },
      "outputs": [],
      "source": [
        "from sklearn.feature_extraction.text import CountVectorizer, TfidfVectorizer\n",
        "from sklearn.metrics.pairwise import cosine_similarity\n",
        "from sklearn.naive_bayes import MultinomialNB, ComplementNB\n",
        "from sklearn.metrics import f1_score\n",
        "\n",
        "# 20newsgroups por ser un dataset clásico de NLP ya viene incluido y formateado\n",
        "# en sklearn\n",
        "from sklearn.datasets import fetch_20newsgroups\n",
        "import numpy as np"
      ]
    },
    {
      "cell_type": "markdown",
      "metadata": {
        "id": "yD-pVDWV_rQc"
      },
      "source": [
        "## Carga de datos"
      ]
    },
    {
      "cell_type": "code",
      "execution_count": null,
      "metadata": {
        "id": "Ech9qJaUo9vK"
      },
      "outputs": [],
      "source": [
        "# cargamos los datos (ya separados de forma predeterminada en train y test)\n",
        "newsgroups_train = fetch_20newsgroups(subset='train', remove=('headers', 'footers', 'quotes'))\n",
        "newsgroups_test = fetch_20newsgroups(subset='test', remove=('headers', 'footers', 'quotes'))"
      ]
    },
    {
      "cell_type": "markdown",
      "metadata": {
        "id": "UxjSI7su_uWI"
      },
      "source": [
        "## Vectorización"
      ]
    },
    {
      "cell_type": "code",
      "execution_count": null,
      "metadata": {
        "id": "-94VP0QYCzDn"
      },
      "outputs": [],
      "source": [
        "# instanciamos un vectorizador\n",
        "# ver diferentes parámetros de instanciación en la documentación de sklearn\n",
        "tfidfvect = TfidfVectorizer()"
      ]
    },
    {
      "cell_type": "code",
      "execution_count": null,
      "metadata": {
        "colab": {
          "base_uri": "https://localhost:8080/",
          "height": 122
        },
        "id": "ftPlyanuak8n",
        "outputId": "00894a54-134a-46f9-9ed2-3246e02aa0eb"
      },
      "outputs": [
        {
          "output_type": "execute_result",
          "data": {
            "text/plain": [
              "'I was wondering if anyone out there could enlighten me on this car I saw\\nthe other day. It was a 2-door sports car, looked to be from the late 60s/\\nearly 70s. It was called a Bricklin. The doors were really small. In addition,\\nthe front bumper was separate from the rest of the body. This is \\nall I know. If anyone can tellme a model name, engine specs, years\\nof production, where this car is made, history, or whatever info you\\nhave on this funky looking car, please e-mail.'"
            ],
            "application/vnd.google.colaboratory.intrinsic+json": {
              "type": "string"
            }
          },
          "metadata": {},
          "execution_count": 4
        }
      ],
      "source": [
        "# en el atributo `data` accedemos al texto\n",
        "newsgroups_train.data[0]"
      ]
    },
    {
      "cell_type": "code",
      "execution_count": null,
      "metadata": {
        "id": "1zxcXV6aC_oL"
      },
      "outputs": [],
      "source": [
        "# con la interfaz habitual de sklearn podemos fitear el vectorizador\n",
        "# (obtener el vocabulario y calcular el vector IDF)\n",
        "# y transformar directamente los datos\n",
        "X_train = tfidfvect.fit_transform(newsgroups_train.data)\n",
        "# `X_train` la podemos denominar como la matriz documento-término"
      ]
    },
    {
      "cell_type": "code",
      "execution_count": null,
      "metadata": {
        "colab": {
          "base_uri": "https://localhost:8080/"
        },
        "id": "4Sv7TXbda41-",
        "outputId": "d85a6c78-3ab6-40a4-f9f0-74875aaab755"
      },
      "outputs": [
        {
          "output_type": "stream",
          "name": "stdout",
          "text": [
            "<class 'scipy.sparse._csr.csr_matrix'>\n",
            "shape: (11314, 101631)\n",
            "cantidad de documentos: 11314\n",
            "tamaño del vocabulario (dimensionalidad de los vectores): 101631\n"
          ]
        }
      ],
      "source": [
        "# recordar que las vectorizaciones por conteos son esparsas\n",
        "# por ello sklearn convenientemente devuelve los vectores de documentos\n",
        "# como matrices esparsas\n",
        "print(type(X_train))\n",
        "print(f'shape: {X_train.shape}')\n",
        "print(f'cantidad de documentos: {X_train.shape[0]}')\n",
        "print(f'tamaño del vocabulario (dimensionalidad de los vectores): {X_train.shape[1]}')"
      ]
    },
    {
      "cell_type": "code",
      "execution_count": null,
      "metadata": {
        "colab": {
          "base_uri": "https://localhost:8080/"
        },
        "id": "dgydNTZ2pAgR",
        "outputId": "663cb9c9-f273-442c-d803-65ad960a2c29"
      },
      "outputs": [
        {
          "output_type": "execute_result",
          "data": {
            "text/plain": [
              "25775"
            ]
          },
          "metadata": {},
          "execution_count": 7
        }
      ],
      "source": [
        "# una vez fiteado el vectorizador, podemos acceder a atributos como el vocabulario\n",
        "# aprendido. Es un diccionario que va de términos a índices.\n",
        "# El índice es la posición en el vector de documento.\n",
        "tfidfvect.vocabulary_['car']"
      ]
    },
    {
      "cell_type": "code",
      "execution_count": null,
      "metadata": {
        "id": "xnTSZuvyrTcP"
      },
      "outputs": [],
      "source": [
        "# es muy útil tener el diccionario opuesto que va de índices a términos\n",
        "idx2word = {v: k for k,v in tfidfvect.vocabulary_.items()}"
      ]
    },
    {
      "cell_type": "code",
      "execution_count": null,
      "metadata": {
        "colab": {
          "base_uri": "https://localhost:8080/"
        },
        "id": "swa-AgWrMSHM",
        "outputId": "67f0af5a-f06d-4742-fdc7-8ce6c4ee37d7"
      },
      "outputs": [
        {
          "output_type": "execute_result",
          "data": {
            "text/plain": [
              "array([ 7,  4,  4,  1, 14, 16, 13,  3,  2,  4])"
            ]
          },
          "metadata": {},
          "execution_count": 9
        }
      ],
      "source": [
        "# en `y_train` guardamos los targets que son enteros\n",
        "y_train = newsgroups_train.target\n",
        "y_train[:10]"
      ]
    },
    {
      "cell_type": "code",
      "execution_count": null,
      "metadata": {
        "colab": {
          "base_uri": "https://localhost:8080/"
        },
        "id": "je5kxvQMDLvf",
        "outputId": "b8974ef0-494d-46bc-8f23-2051af3fba55"
      },
      "outputs": [
        {
          "output_type": "stream",
          "name": "stdout",
          "text": [
            "clases [ 0  1  2  3  4  5  6  7  8  9 10 11 12 13 14 15 16 17 18 19]\n"
          ]
        },
        {
          "output_type": "execute_result",
          "data": {
            "text/plain": [
              "['alt.atheism',\n",
              " 'comp.graphics',\n",
              " 'comp.os.ms-windows.misc',\n",
              " 'comp.sys.ibm.pc.hardware',\n",
              " 'comp.sys.mac.hardware',\n",
              " 'comp.windows.x',\n",
              " 'misc.forsale',\n",
              " 'rec.autos',\n",
              " 'rec.motorcycles',\n",
              " 'rec.sport.baseball',\n",
              " 'rec.sport.hockey',\n",
              " 'sci.crypt',\n",
              " 'sci.electronics',\n",
              " 'sci.med',\n",
              " 'sci.space',\n",
              " 'soc.religion.christian',\n",
              " 'talk.politics.guns',\n",
              " 'talk.politics.mideast',\n",
              " 'talk.politics.misc',\n",
              " 'talk.religion.misc']"
            ]
          },
          "metadata": {},
          "execution_count": 10
        }
      ],
      "source": [
        "# hay 20 clases correspondientes a los 20 grupos de noticias\n",
        "print(f'clases {np.unique(newsgroups_test.target)}')\n",
        "newsgroups_test.target_names"
      ]
    },
    {
      "cell_type": "markdown",
      "metadata": {
        "id": "SXCICFSd_y90"
      },
      "source": [
        "## Similaridad de documentos"
      ]
    },
    {
      "cell_type": "code",
      "execution_count": null,
      "metadata": {
        "colab": {
          "base_uri": "https://localhost:8080/"
        },
        "id": "_pki_olShnyE",
        "outputId": "3cf322e3-c59c-4b5a-eaaa-e33dd2549b40"
      },
      "outputs": [
        {
          "output_type": "stream",
          "name": "stdout",
          "text": [
            "Could someone please post any info on these systems.\n",
            "\n",
            "Thanks.\n",
            "BoB\n",
            "-- \n",
            "---------------------------------------------------------------------- \n",
            "Robert Novitskey | \"Pursuing women is similar to banging one's head\n",
            "rrn@po.cwru.edu  |  against a wall...with less opportunity for reward\" \n"
          ]
        }
      ],
      "source": [
        "# Veamos similaridad de documentos. Tomemos algún documento\n",
        "idx = 7492\n",
        "print(newsgroups_train.data[idx])"
      ]
    },
    {
      "cell_type": "code",
      "execution_count": null,
      "metadata": {
        "id": "Ssa9bqJ-hA_v"
      },
      "outputs": [],
      "source": [
        "# midamos la similaridad coseno con todos los documentos de train\n",
        "cossim = cosine_similarity(X_train[idx], X_train)[0]"
      ]
    },
    {
      "cell_type": "code",
      "execution_count": null,
      "metadata": {
        "colab": {
          "base_uri": "https://localhost:8080/"
        },
        "id": "p_mDA7p3AzcQ",
        "outputId": "6aa026c0-fa77-496b-f921-d3bc1ce08649"
      },
      "outputs": [
        {
          "output_type": "execute_result",
          "data": {
            "text/plain": [
              "array([1.        , 0.70930477, 0.67474953, ..., 0.        , 0.        ,\n",
              "       0.        ])"
            ]
          },
          "metadata": {},
          "execution_count": 15
        }
      ],
      "source": [
        "# podemos ver los valores de similaridad ordenados de mayor a menos\n",
        "np.sort(cossim)[::-1]"
      ]
    },
    {
      "cell_type": "code",
      "execution_count": null,
      "metadata": {
        "colab": {
          "base_uri": "https://localhost:8080/"
        },
        "id": "0OIhDA1jAryX",
        "outputId": "90971339-8ea7-4781-9d17-b79f9235dd9e"
      },
      "outputs": [
        {
          "output_type": "execute_result",
          "data": {
            "text/plain": [
              "array([ 4811,  6635,  4253, ...,  1534, 10055,  4750])"
            ]
          },
          "metadata": {},
          "execution_count": 16
        }
      ],
      "source": [
        "# y a qué documentos corresponden\n",
        "np.argsort(cossim)[::-1]"
      ]
    },
    {
      "cell_type": "code",
      "execution_count": null,
      "metadata": {
        "id": "hP7qLS4ZBLps"
      },
      "outputs": [],
      "source": [
        "# los 5 documentos más similares:\n",
        "mostsim = np.argsort(cossim)[::-1][1:6]"
      ]
    },
    {
      "cell_type": "code",
      "execution_count": null,
      "metadata": {
        "colab": {
          "base_uri": "https://localhost:8080/",
          "height": 35
        },
        "id": "QdJLHPJACvaj",
        "outputId": "acf3e377-78aa-4ea8-c352-d197104b915e"
      },
      "outputs": [
        {
          "output_type": "execute_result",
          "data": {
            "text/plain": [
              "'talk.politics.misc'"
            ],
            "application/vnd.google.colaboratory.intrinsic+json": {
              "type": "string"
            }
          },
          "metadata": {},
          "execution_count": 18
        }
      ],
      "source": [
        "# el documento original pertenece a la clase:\n",
        "newsgroups_train.target_names[y_train[idx]]"
      ]
    },
    {
      "cell_type": "code",
      "execution_count": null,
      "metadata": {
        "colab": {
          "base_uri": "https://localhost:8080/"
        },
        "id": "RWy_73epCbFG",
        "outputId": "a5333384-2403-44e0-c24e-a9c0217cbb02"
      },
      "outputs": [
        {
          "output_type": "stream",
          "name": "stdout",
          "text": [
            "talk.politics.misc\n",
            "talk.politics.misc\n",
            "talk.politics.misc\n",
            "talk.politics.misc\n",
            "talk.politics.misc\n"
          ]
        }
      ],
      "source": [
        "# y los 5 más similares son de las clases:\n",
        "for i in mostsim:\n",
        "  print(newsgroups_train.target_names[y_train[i]])"
      ]
    },
    {
      "cell_type": "markdown",
      "metadata": {
        "id": "zRoNnKwhBqzq"
      },
      "source": [
        "### Modelo de clasificación Naïve Bayes"
      ]
    },
    {
      "cell_type": "code",
      "execution_count": null,
      "metadata": {
        "colab": {
          "base_uri": "https://localhost:8080/",
          "height": 74
        },
        "id": "TPM0thDaLk0R",
        "outputId": "eb5d2787-1361-4248-c0a1-5a01d3f4f378"
      },
      "outputs": [
        {
          "output_type": "execute_result",
          "data": {
            "text/plain": [
              "MultinomialNB()"
            ],
            "text/html": [
              "<style>#sk-container-id-1 {color: black;background-color: white;}#sk-container-id-1 pre{padding: 0;}#sk-container-id-1 div.sk-toggleable {background-color: white;}#sk-container-id-1 label.sk-toggleable__label {cursor: pointer;display: block;width: 100%;margin-bottom: 0;padding: 0.3em;box-sizing: border-box;text-align: center;}#sk-container-id-1 label.sk-toggleable__label-arrow:before {content: \"▸\";float: left;margin-right: 0.25em;color: #696969;}#sk-container-id-1 label.sk-toggleable__label-arrow:hover:before {color: black;}#sk-container-id-1 div.sk-estimator:hover label.sk-toggleable__label-arrow:before {color: black;}#sk-container-id-1 div.sk-toggleable__content {max-height: 0;max-width: 0;overflow: hidden;text-align: left;background-color: #f0f8ff;}#sk-container-id-1 div.sk-toggleable__content pre {margin: 0.2em;color: black;border-radius: 0.25em;background-color: #f0f8ff;}#sk-container-id-1 input.sk-toggleable__control:checked~div.sk-toggleable__content {max-height: 200px;max-width: 100%;overflow: auto;}#sk-container-id-1 input.sk-toggleable__control:checked~label.sk-toggleable__label-arrow:before {content: \"▾\";}#sk-container-id-1 div.sk-estimator input.sk-toggleable__control:checked~label.sk-toggleable__label {background-color: #d4ebff;}#sk-container-id-1 div.sk-label input.sk-toggleable__control:checked~label.sk-toggleable__label {background-color: #d4ebff;}#sk-container-id-1 input.sk-hidden--visually {border: 0;clip: rect(1px 1px 1px 1px);clip: rect(1px, 1px, 1px, 1px);height: 1px;margin: -1px;overflow: hidden;padding: 0;position: absolute;width: 1px;}#sk-container-id-1 div.sk-estimator {font-family: monospace;background-color: #f0f8ff;border: 1px dotted black;border-radius: 0.25em;box-sizing: border-box;margin-bottom: 0.5em;}#sk-container-id-1 div.sk-estimator:hover {background-color: #d4ebff;}#sk-container-id-1 div.sk-parallel-item::after {content: \"\";width: 100%;border-bottom: 1px solid gray;flex-grow: 1;}#sk-container-id-1 div.sk-label:hover label.sk-toggleable__label {background-color: #d4ebff;}#sk-container-id-1 div.sk-serial::before {content: \"\";position: absolute;border-left: 1px solid gray;box-sizing: border-box;top: 0;bottom: 0;left: 50%;z-index: 0;}#sk-container-id-1 div.sk-serial {display: flex;flex-direction: column;align-items: center;background-color: white;padding-right: 0.2em;padding-left: 0.2em;position: relative;}#sk-container-id-1 div.sk-item {position: relative;z-index: 1;}#sk-container-id-1 div.sk-parallel {display: flex;align-items: stretch;justify-content: center;background-color: white;position: relative;}#sk-container-id-1 div.sk-item::before, #sk-container-id-1 div.sk-parallel-item::before {content: \"\";position: absolute;border-left: 1px solid gray;box-sizing: border-box;top: 0;bottom: 0;left: 50%;z-index: -1;}#sk-container-id-1 div.sk-parallel-item {display: flex;flex-direction: column;z-index: 1;position: relative;background-color: white;}#sk-container-id-1 div.sk-parallel-item:first-child::after {align-self: flex-end;width: 50%;}#sk-container-id-1 div.sk-parallel-item:last-child::after {align-self: flex-start;width: 50%;}#sk-container-id-1 div.sk-parallel-item:only-child::after {width: 0;}#sk-container-id-1 div.sk-dashed-wrapped {border: 1px dashed gray;margin: 0 0.4em 0.5em 0.4em;box-sizing: border-box;padding-bottom: 0.4em;background-color: white;}#sk-container-id-1 div.sk-label label {font-family: monospace;font-weight: bold;display: inline-block;line-height: 1.2em;}#sk-container-id-1 div.sk-label-container {text-align: center;}#sk-container-id-1 div.sk-container {/* jupyter's `normalize.less` sets `[hidden] { display: none; }` but bootstrap.min.css set `[hidden] { display: none !important; }` so we also need the `!important` here to be able to override the default hidden behavior on the sphinx rendered scikit-learn.org. See: https://github.com/scikit-learn/scikit-learn/issues/21755 */display: inline-block !important;position: relative;}#sk-container-id-1 div.sk-text-repr-fallback {display: none;}</style><div id=\"sk-container-id-1\" class=\"sk-top-container\"><div class=\"sk-text-repr-fallback\"><pre>MultinomialNB()</pre><b>In a Jupyter environment, please rerun this cell to show the HTML representation or trust the notebook. <br />On GitHub, the HTML representation is unable to render, please try loading this page with nbviewer.org.</b></div><div class=\"sk-container\" hidden><div class=\"sk-item\"><div class=\"sk-estimator sk-toggleable\"><input class=\"sk-toggleable__control sk-hidden--visually\" id=\"sk-estimator-id-1\" type=\"checkbox\" checked><label for=\"sk-estimator-id-1\" class=\"sk-toggleable__label sk-toggleable__label-arrow\">MultinomialNB</label><div class=\"sk-toggleable__content\"><pre>MultinomialNB()</pre></div></div></div></div></div>"
            ]
          },
          "metadata": {},
          "execution_count": 20
        }
      ],
      "source": [
        "# es muy fácil instanciar un modelo de clasificación Naïve Bayes y entrenarlo con sklearn\n",
        "clf = MultinomialNB()\n",
        "clf.fit(X_train, y_train)"
      ]
    },
    {
      "cell_type": "code",
      "execution_count": null,
      "metadata": {
        "id": "NrQjzM48Mu4T"
      },
      "outputs": [],
      "source": [
        "# con nuestro vectorizador ya fiteado en train, vectorizamos los textos\n",
        "# del conjunto de test\n",
        "X_test = tfidfvect.transform(newsgroups_test.data)\n",
        "y_test = newsgroups_test.target\n",
        "y_pred =  clf.predict(X_test)"
      ]
    },
    {
      "cell_type": "code",
      "execution_count": null,
      "metadata": {
        "colab": {
          "base_uri": "https://localhost:8080/"
        },
        "id": "UkGJhetEPdA4",
        "outputId": "7225f909-f41d-4f05-d318-aaea5603aae3"
      },
      "outputs": [
        {
          "output_type": "execute_result",
          "data": {
            "text/plain": [
              "0.5854345727938506"
            ]
          },
          "metadata": {},
          "execution_count": 22
        }
      ],
      "source": [
        "# el F1-score es una metrica adecuada para reportar desempeño de modelos de claificación\n",
        "# es robusta al desbalance de clases. El promediado 'macro' es el promedio de los\n",
        "# F1-score de cada clase. El promedio 'micro' es equivalente a la accuracy que no\n",
        "# es una buena métrica cuando los datasets son desbalanceados\n",
        "f1_score(y_test, y_pred, average='macro')"
      ]
    },
    {
      "cell_type": "markdown",
      "metadata": {
        "id": "McArD4rSDR2K"
      },
      "source": [
        "### Consigna del desafío 1"
      ]
    },
    {
      "cell_type": "markdown",
      "metadata": {
        "id": "lJgf6GQIIEH1"
      },
      "source": [
        "**1**. Vectorizar documentos. Tomar 5 documentos al azar y medir similaridad con el resto de los documentos.\n",
        "Estudiar los 5 documentos más similares de cada uno analizar si tiene sentido\n",
        "la similaridad según el contenido del texto y la etiqueta de clasificación.\n",
        "\n",
        "**2**. Entrenar modelos de clasificación Naïve Bayes para maximizar el desempeño de clasificación\n",
        "(f1-score macro) en el conjunto de datos de test. Considerar cambiar parámteros\n",
        "de instanciación del vectorizador y los modelos y probar modelos de Naïve Bayes Multinomial\n",
        "y ComplementNB.\n",
        "\n",
        "**3**. Transponer la matriz documento-término. De esa manera se obtiene una matriz\n",
        "término-documento que puede ser interpretada como una colección de vectorización de palabras.\n",
        "Estudiar ahora similaridad entre palabras tomando 5 palabras y estudiando sus 5 más similares.\n"
      ]
    },
    {
      "cell_type": "markdown",
      "source": [
        "Consigna 1 - Vectorizar documentos:"
      ],
      "metadata": {
        "id": "sshm6lA5ShX8"
      }
    },
    {
      "cell_type": "code",
      "source": [
        "# Cargar los datos\n",
        "newsgroups_train = fetch_20newsgroups(subset='train', remove=('headers', 'footers', 'quotes'))\n",
        "newsgroups_test = fetch_20newsgroups(subset='test', remove=('headers', 'footers', 'quotes'))\n",
        "\n",
        "# Instanciar y fit el vectorizador TF-IDF\n",
        "tfidfvect = TfidfVectorizer()\n",
        "X_train = tfidfvect.fit_transform(newsgroups_train.data)\n",
        "y_train = newsgroups_train.target\n",
        "\n"
      ],
      "metadata": {
        "id": "FMSa4zSvXre7"
      },
      "execution_count": null,
      "outputs": []
    },
    {
      "cell_type": "code",
      "source": [
        "# Tomar 5 documentos al azar\n",
        "np.random.seed(42)\n",
        "random_indices = np.random.choice(X_train.shape[0], 5, replace=False)\n",
        "random_indices"
      ],
      "metadata": {
        "colab": {
          "base_uri": "https://localhost:8080/"
        },
        "id": "fy5qp3kTekoy",
        "outputId": "11eec312-3631-4c85-a33c-f237884d75e8"
      },
      "execution_count": null,
      "outputs": [
        {
          "output_type": "execute_result",
          "data": {
            "text/plain": [
              "array([7492, 3546, 5582, 4793, 3813])"
            ]
          },
          "metadata": {},
          "execution_count": 17
        }
      ]
    },
    {
      "cell_type": "code",
      "source": [
        "print(newsgroups_train.data[7492])"
      ],
      "metadata": {
        "colab": {
          "base_uri": "https://localhost:8080/"
        },
        "id": "XRzz9jCqeoXo",
        "outputId": "eae020a2-2eb7-42fd-b56b-f86565d20395"
      },
      "execution_count": null,
      "outputs": [
        {
          "output_type": "stream",
          "name": "stdout",
          "text": [
            "Could someone please post any info on these systems.\n",
            "\n",
            "Thanks.\n",
            "BoB\n",
            "-- \n",
            "---------------------------------------------------------------------- \n",
            "Robert Novitskey | \"Pursuing women is similar to banging one's head\n",
            "rrn@po.cwru.edu  |  against a wall...with less opportunity for reward\" \n"
          ]
        }
      ]
    },
    {
      "cell_type": "code",
      "source": [
        "cossim = cosine_similarity(X_train[random_indices[0]], X_train)[0]\n",
        "mostsim = np.argsort(cossim)[::-1][1:6]\n",
        "mostsim"
      ],
      "metadata": {
        "colab": {
          "base_uri": "https://localhost:8080/"
        },
        "id": "w-Cb4NZDe1mZ",
        "outputId": "1a3ef5ec-2eb1-4d5a-bd2e-663e9b31c0ba"
      },
      "execution_count": null,
      "outputs": [
        {
          "output_type": "execute_result",
          "data": {
            "text/plain": [
              "array([10935,  7258,  4971,  4303,   645])"
            ]
          },
          "metadata": {},
          "execution_count": 19
        }
      ]
    },
    {
      "cell_type": "code",
      "source": [
        "for idx in mostsim:\n",
        "    print(f\"\\n-------------- Documento Similar {idx}:\")\n",
        "    print(newsgroups_train.data[idx][:500])  # Mostrar un extracto del documento original\n"
      ],
      "metadata": {
        "colab": {
          "base_uri": "https://localhost:8080/"
        },
        "id": "AR8oY2EZfHRZ",
        "outputId": "eabb02a6-428a-485a-a23d-9758174522be"
      },
      "execution_count": null,
      "outputs": [
        {
          "output_type": "stream",
          "name": "stdout",
          "text": [
            "\n",
            "-------------- Documento Similar 10935:\n",
            "Hey everybody:\n",
            "\n",
            "   I want to buy a mac and I want to get a good price...who doesn't?  So,\n",
            "could anyone out there who has found a really good deal on a Centris 650\n",
            "send me the price.  I don't want to know where, unless it is mail order or\n",
            "areound cleveland, Ohio.  Also, should I buy now or wait for the Power PC.\n",
            "\n",
            "Thanks.\n",
            "BoB\n",
            "reply via post or e-mail at rrn@po.cwru.edu\n",
            "-- \n",
            "---------------------------------------------------------------------- \n",
            "Robert Novitskey | \"Pursuing women is similar to bangi\n",
            "\n",
            "-------------- Documento Similar 7258:\n",
            "Hay all:\n",
            "\n",
            "    Has anyone out there heard of any performance stats on the fabled p24t.\n",
            " I was wondering what it's performance compared to the 486/66 and/or\n",
            "pentium would be.  Any info would be helpful.\n",
            "\n",
            "Later\n",
            "BoB\n",
            "-- \n",
            "Robert Novitskey | rrn@po.cwru.edu | (216)754-2134 | CWRU Cleve. Ohio\n",
            "----------------------------------------------------------------------\n",
            "COMPUTER ENGINEER AND C PROGRAMMER |  NOW SEEKING SUMMER JOBS\n",
            "\n",
            "-------------- Documento Similar 4971:\n",
            "Could someone please send instructions for installing simms and vram to \n",
            "jmk13@po.cwru.edu?  He's just gotten his 700 and wants to drop in some \n",
            "extra simms and vram that he has for it.\n",
            "\n",
            "-------------- Documento Similar 4303:\n",
            "For sale:\n",
            "\n",
            "Roland D-50: $700 or best offer.\n",
            "Excellent condition.\n",
            "Includes over 1000 patches on disk (In cakewalk sysex format)\n",
            "\n",
            "Buyer must pay COD shipping.\n",
            "\n",
            "Please e-mail responses to:\n",
            "gms2@po.cwru.edu\n",
            "\n",
            "Thanks.\n",
            "\n",
            "George\n",
            "\n",
            "\n",
            "-------------- Documento Similar 645:\n",
            "I'd appreciate it greatly if someone could E-mail me the following:\n",
            "(if you only know one, that's fine)\n",
            "1) Specs for the 68040 (esp. how it compares to the Pentium)\n",
            "2) Specs for the 68060 with estimated cost, release date, etc...\n",
            "\n",
            "I'm interested in speeds, systems it can run (Windows NT, RISC, or whatever),\n",
            "costs, bus info, register info.  All the technical info.\n",
            "\n",
            "I am hoping that the 68040 can win yet another battle against the intel people.\n",
            " \n",
            ":)  Thanks for any info you can give.\n",
            "\n",
            "Thanks.\n"
          ]
        }
      ]
    },
    {
      "cell_type": "code",
      "source": [
        "# Medir similaridad y analizar\n",
        "for idx in random_indices:\n",
        "    print(f\"\\n------------------- Documento {idx}:\")\n",
        "    print(f\"Clase: {newsgroups_train.target_names[y_train[idx]]}\")\n",
        "\n",
        "    cossim = cosine_similarity(X_train[idx], X_train)[0]\n",
        "    mostsim = np.argsort(cossim)[::-1][1:6]\n",
        "\n",
        "    for i in mostsim:\n",
        "        print(f\"\\nDocumento similar {i}:\")\n",
        "        print(f\"Clase: {newsgroups_train.target_names[y_train[i]]}\")\n"
      ],
      "metadata": {
        "colab": {
          "base_uri": "https://localhost:8080/"
        },
        "id": "Nwa3aIvR0CQw",
        "outputId": "041ca161-04b6-471a-ebce-c6181a47db3e"
      },
      "execution_count": null,
      "outputs": [
        {
          "output_type": "stream",
          "name": "stdout",
          "text": [
            "\n",
            "------------------- Documento 7492:\n",
            "Clase: comp.sys.mac.hardware\n",
            "\n",
            "Documento similar 10935:\n",
            "Clase: comp.sys.mac.hardware\n",
            "\n",
            "Documento similar 7258:\n",
            "Clase: comp.sys.ibm.pc.hardware\n",
            "\n",
            "Documento similar 4971:\n",
            "Clase: comp.sys.mac.hardware\n",
            "\n",
            "Documento similar 4303:\n",
            "Clase: misc.forsale\n",
            "\n",
            "Documento similar 645:\n",
            "Clase: comp.sys.mac.hardware\n",
            "\n",
            "------------------- Documento 3546:\n",
            "Clase: comp.os.ms-windows.misc\n",
            "\n",
            "Documento similar 5665:\n",
            "Clase: comp.sys.ibm.pc.hardware\n",
            "\n",
            "Documento similar 2011:\n",
            "Clase: comp.sys.ibm.pc.hardware\n",
            "\n",
            "Documento similar 8643:\n",
            "Clase: comp.sys.ibm.pc.hardware\n",
            "\n",
            "Documento similar 1546:\n",
            "Clase: comp.sys.ibm.pc.hardware\n",
            "\n",
            "Documento similar 8765:\n",
            "Clase: comp.sys.ibm.pc.hardware\n",
            "\n",
            "------------------- Documento 5582:\n",
            "Clase: misc.forsale\n",
            "\n",
            "Documento similar 5510:\n",
            "Clase: misc.forsale\n",
            "\n",
            "Documento similar 4922:\n",
            "Clase: misc.forsale\n",
            "\n",
            "Documento similar 4347:\n",
            "Clase: comp.graphics\n",
            "\n",
            "Documento similar 8057:\n",
            "Clase: misc.forsale\n",
            "\n",
            "Documento similar 4028:\n",
            "Clase: comp.graphics\n",
            "\n",
            "------------------- Documento 4793:\n",
            "Clase: talk.politics.guns\n",
            "\n",
            "Documento similar 6894:\n",
            "Clase: talk.politics.guns\n",
            "\n",
            "Documento similar 5856:\n",
            "Clase: sci.crypt\n",
            "\n",
            "Documento similar 4271:\n",
            "Clase: talk.politics.misc\n",
            "\n",
            "Documento similar 3141:\n",
            "Clase: talk.politics.guns\n",
            "\n",
            "Documento similar 10836:\n",
            "Clase: alt.atheism\n",
            "\n",
            "------------------- Documento 3813:\n",
            "Clase: rec.sport.hockey\n",
            "\n",
            "Documento similar 10836:\n",
            "Clase: alt.atheism\n",
            "\n",
            "Documento similar 759:\n",
            "Clase: soc.religion.christian\n",
            "\n",
            "Documento similar 913:\n",
            "Clase: alt.atheism\n",
            "\n",
            "Documento similar 5826:\n",
            "Clase: soc.religion.christian\n",
            "\n",
            "Documento similar 5856:\n",
            "Clase: sci.crypt\n"
          ]
        }
      ]
    },
    {
      "cell_type": "markdown",
      "source": [
        "Podemos ver en varios casos que las subcategorías tienen alguna relación entre sí."
      ],
      "metadata": {
        "id": "BcXfzBy1IAPB"
      }
    },
    {
      "cell_type": "code",
      "source": [
        "# Medir similaridad y analizar\n",
        "for idx in random_indices:\n",
        "    print(f\"\\n--------------------------------- Documento {idx}:\")\n",
        "    print(newsgroups_train.data[idx][:500])  # Mostrar un extracto del documento original\n",
        "    print(f\"Clase: {newsgroups_train.target_names[y_train[idx]]}\")\n",
        "\n",
        "    cossim = cosine_similarity(X_train[idx], X_train)[0]\n",
        "    mostsim = np.argsort(cossim)[::-1][1:6]\n",
        "\n",
        "    for i in mostsim:\n",
        "        print(f\"\\n..............Documento similar {i}:\")\n",
        "        print(newsgroups_train.data[i][:500])  # Mostrar un extracto del documento similar\n",
        "        print(f\"Clase: {newsgroups_train.target_names[y_train[i]]}\")\n"
      ],
      "metadata": {
        "colab": {
          "base_uri": "https://localhost:8080/"
        },
        "id": "zzC7PyEKYbXB",
        "outputId": "3e21b8ad-1ea5-48cc-8f4f-5f3f5b4153e4"
      },
      "execution_count": null,
      "outputs": [
        {
          "output_type": "stream",
          "name": "stdout",
          "text": [
            "\n",
            "--------------------------------- Documento 7492:\n",
            "Could someone please post any info on these systems.\n",
            "\n",
            "Thanks.\n",
            "BoB\n",
            "-- \n",
            "---------------------------------------------------------------------- \n",
            "Robert Novitskey | \"Pursuing women is similar to banging one's head\n",
            "rrn@po.cwru.edu  |  against a wall...with less opportunity for reward\" \n",
            "Clase: comp.sys.mac.hardware\n",
            "\n",
            "..............Documento similar 10935:\n",
            "Hey everybody:\n",
            "\n",
            "   I want to buy a mac and I want to get a good price...who doesn't?  So,\n",
            "could anyone out there who has found a really good deal on a Centris 650\n",
            "send me the price.  I don't want to know where, unless it is mail order or\n",
            "areound cleveland, Ohio.  Also, should I buy now or wait for the Power PC.\n",
            "\n",
            "Thanks.\n",
            "BoB\n",
            "reply via post or e-mail at rrn@po.cwru.edu\n",
            "-- \n",
            "---------------------------------------------------------------------- \n",
            "Robert Novitskey | \"Pursuing women is similar to bangi\n",
            "Clase: comp.sys.mac.hardware\n",
            "\n",
            "..............Documento similar 7258:\n",
            "Hay all:\n",
            "\n",
            "    Has anyone out there heard of any performance stats on the fabled p24t.\n",
            " I was wondering what it's performance compared to the 486/66 and/or\n",
            "pentium would be.  Any info would be helpful.\n",
            "\n",
            "Later\n",
            "BoB\n",
            "-- \n",
            "Robert Novitskey | rrn@po.cwru.edu | (216)754-2134 | CWRU Cleve. Ohio\n",
            "----------------------------------------------------------------------\n",
            "COMPUTER ENGINEER AND C PROGRAMMER |  NOW SEEKING SUMMER JOBS\n",
            "Clase: comp.sys.ibm.pc.hardware\n",
            "\n",
            "..............Documento similar 4971:\n",
            "Could someone please send instructions for installing simms and vram to \n",
            "jmk13@po.cwru.edu?  He's just gotten his 700 and wants to drop in some \n",
            "extra simms and vram that he has for it.\n",
            "Clase: comp.sys.mac.hardware\n",
            "\n",
            "..............Documento similar 4303:\n",
            "For sale:\n",
            "\n",
            "Roland D-50: $700 or best offer.\n",
            "Excellent condition.\n",
            "Includes over 1000 patches on disk (In cakewalk sysex format)\n",
            "\n",
            "Buyer must pay COD shipping.\n",
            "\n",
            "Please e-mail responses to:\n",
            "gms2@po.cwru.edu\n",
            "\n",
            "Thanks.\n",
            "\n",
            "George\n",
            "\n",
            "Clase: misc.forsale\n",
            "\n",
            "..............Documento similar 645:\n",
            "I'd appreciate it greatly if someone could E-mail me the following:\n",
            "(if you only know one, that's fine)\n",
            "1) Specs for the 68040 (esp. how it compares to the Pentium)\n",
            "2) Specs for the 68060 with estimated cost, release date, etc...\n",
            "\n",
            "I'm interested in speeds, systems it can run (Windows NT, RISC, or whatever),\n",
            "costs, bus info, register info.  All the technical info.\n",
            "\n",
            "I am hoping that the 68040 can win yet another battle against the intel people.\n",
            " \n",
            ":)  Thanks for any info you can give.\n",
            "\n",
            "Thanks.\n",
            "Clase: comp.sys.mac.hardware\n",
            "\n",
            "--------------------------------- Documento 3546:\n",
            "\n",
            "\n",
            "     Don't bother if you have CPBackup or Fastback.  They all offer options \n",
            "not available in the stripped-down MS version (FROM CPS!).  Examples - no \n",
            "proprietary format (to save space), probably no direct DMA access, and no \n",
            "tape drive!\n",
            "Clase: comp.os.ms-windows.misc\n",
            "\n",
            "..............Documento similar 5665:\n",
            "\n",
            "By initiating a DMA xfer.  :)\n",
            "\n",
            "Seriously, busmastering adapter have their own DMA ability, they don't use\n",
            "the motherboards on-board DMA(which is *MUCH* slower).\n",
            "\n",
            "ISA has no bus arbitration, so if two busmastering cards in 1 ISA system\n",
            "try to do DMA xfers on the same DMA channel the system will lock or \n",
            "crash.(I forget)\n",
            "\n",
            "Their are 8 DMA channels in an ISA system. 0-7. 0-3 are 8-bit & 4-7 are\n",
            "16-bit.\n",
            "\n",
            "The system uses DMA 0, a SoundBlaster uses DMA 1.\n",
            "\n",
            "I could buy a busmastering XGA-2 video card &\n",
            "Clase: comp.sys.ibm.pc.hardware\n",
            "\n",
            "..............Documento similar 2011:\n",
            "\n",
            "\n",
            "IDE also uses DMA techniques.  I believe floppy controller also uses DMA,\n",
            "and most A/D boards also use DMA.  DMA is no big deal, and has nothing to\n",
            "do directly with SCSI.\n",
            "\n",
            "\n",
            "You can thank your software for that.  If DOS had a few more brains, it\n",
            "could format floppies etc. while you were doing something else.  The\n",
            "hardware will support it, but DOS (at least) won't.  Again, this has   \n",
            "nothing to do with SCSI.\n",
            "\n",
            "\n",
            "And if you stick with DOS you'll wonder why you can't multitask.\n",
            "Clase: comp.sys.ibm.pc.hardware\n",
            "\n",
            "..............Documento similar 8643:\n",
            "\n",
            "There would be no problems as long as the OS didn't set up a DMA transfer\n",
            "to an area above the 16 mb area (the DMA controller probably can't be\n",
            "programmed that way anyways, so there probably isin't a problem with this)\n",
            "Clase: comp.sys.ibm.pc.hardware\n",
            "\n",
            "..............Documento similar 1546:\n",
            "\n",
            "\n",
            "     Here's a document that I wrote some time back.  It's slightly\n",
            "out-of-date, now that DOS 6 has been released, but much of it is still\n",
            "useful.\n",
            "\n",
            "     -- Darryl Okahata\n",
            "\tInternet: darrylo@sr.hp.com\n",
            "\n",
            "DISCLAIMER: this message is the author's personal opinion and does not\n",
            "constitute the support, opinion or policy of Hewlett-Packard or of the\n",
            "little green men that have been following him all day.\n",
            "\n",
            "===============================================================================\n",
            "$Id: adaptec.txt 1.8\n",
            "Clase: comp.sys.ibm.pc.hardware\n",
            "\n",
            "..............Documento similar 8765:\n",
            "The floppy is served by DMA on the motherboard,\n",
            "and original DMA-controller can't reach more than the first\n",
            "16MB (The address-space of the ISA-bus)\n",
            "joerg\n",
            "\n",
            "Clase: comp.sys.ibm.pc.hardware\n",
            "\n",
            "--------------------------------- Documento 5582:\n",
            "5.25\" Internal Low density disk drive.\n",
            "\n",
            "Monochrome monitor\n",
            "\n",
            "8088 motherboard, built in parallel and serial ports, built in mono and\n",
            "color output, 7Mhz.\n",
            "\n",
            "Libertarian, atheist, semi-anarchal Techno-Rat.\n",
            "Clase: misc.forsale\n",
            "\n",
            "..............Documento similar 5510:\n",
            "I am looking for a 286 motherboard, preferable 12 or 16, 640k or 1 meg RAM. \n",
            "I am also looking for a VGA card.\n",
            "\n",
            "Am willing to trade 1200 external, 5.25\" LD Drive, 8088 motherboard,\n",
            "monochrome monitor, Game Boy, in some combination for the above.\n",
            "\n",
            "Libertarian, atheist, semi-anarchal Techno-Rat.\n",
            "Clase: misc.forsale\n",
            "\n",
            "..............Documento similar 4922:\n",
            "For sale:\n",
            "\n",
            "Nintendo Game Boy, Tetris, Castlevania Adventure, All-Star Challenge,\n",
            "Nemesis, Play-Action football, link cable.\n",
            "\n",
            "Make me an offer.\n",
            "\n",
            "Libertarian, atheist, semi-anarchal Techno-Rat.\n",
            "Clase: misc.forsale\n",
            "\n",
            "..............Documento similar 4347:\n",
            "\n",
            "\n",
            "It's really not that hard to do.  There are books out there which explain\n",
            "everything, and the basic 3D functions, translation, rotation, shading, and\n",
            "hidden line removal are pretty easy.  I wrote a program in a few weeks witht\n",
            "he help of a book, and would be happy to give you my source.\n",
            "\tAlso, Quickdraw has a lot of 3D functions built in, and Think pascal\n",
            "can access them, and I would expect that THINK C could as well.  If you can\n",
            "find out how to use the Quickdraw graphics library, it would be \n",
            "Clase: comp.graphics\n",
            "\n",
            "..............Documento similar 8057:\n",
            "Hello, I have a motherboard and a case for sale as a package.\n",
            "Both of them came from a CompuAdd computer I bought last August and am \n",
            "  presently upgrading.\n",
            "Here are the specs--\n",
            "\n",
            "Motherboard\n",
            "-----------\n",
            "Cyrix 486SL 25 MHz microprocessor\n",
            "Chips and Technology chipset (SCATsx V2.3.6 SLSLC)\n",
            "8 SIMM banks for a maximum of 32 Megs of RAM\n",
            "BUILT-IN Floppy and Hard Drive Controllers\n",
            "BUILT-IN ports--1 Parallel, 2 Serial (9 and 25 pin)\n",
            "BUILT-IN Paradise SVGA controller with 1 meg of RAM (Windows drivers inc\n",
            "Clase: misc.forsale\n",
            "\n",
            "..............Documento similar 4028:\n",
            "Hello, and thank you for reading this request.  I have a Mpeg viewer for x-windows and it did not run because I was running it on a monochrome monitor.  I need the mono-driver for mpeg_play.   \n",
            "Clase: comp.graphics\n",
            "\n",
            "--------------------------------- Documento 4793:\n",
            "Hi,\n",
            "\n",
            "In Canada, any gun that enters a National Park must be sealed (I think it's a\n",
            "small metal tag that's placed over the trigger).  The net result of this is\n",
            "that you _can't_ use a gun to protect yourself from bears (or psychos) in the\n",
            "National Parks.  Instead, one has to be sensitive to the dangers and annoyances\n",
            "of hiking in bear country, and take the appropriate precautions.\n",
            "\n",
            "I think this policy makes the users of the National Parks feel a little closer\n",
            "to Nature, that they are a part of Nat\n",
            "Clase: talk.politics.guns\n",
            "\n",
            "..............Documento similar 6894:\n",
            "Here is a press release from the White House.\n",
            "\n",
            " President Clinton's Remarks On Waco With Q/A\n",
            " To: National Desk\n",
            " Contact: White House Office of the Press Secretary, 202-456-2100\n",
            "\n",
            "   WASHINGTON, April 20 -- Following are remarks by President \n",
            "Clinton in a question and answer session with the press:\n",
            "\n",
            "1:36 P.M. EDT\n",
            "\n",
            "     THE PRESIDENT:  On February the 28th, four federal\n",
            "agents were killed in the line of duty trying to enforce the law\n",
            "against the Branch Davidian compound, which had illegally stockp\n",
            "Clase: talk.politics.guns\n",
            "\n",
            "..............Documento similar 5856:\n",
            "\n",
            "Thanks for posting this and making it available. This post will be LONG, I will\n",
            "comment on most of it, and am reluctantly leaving all of the original in place\n",
            "to provide context.\n",
            "\n",
            "Please note that an alt. group has been set up for the Clipper stuff.\n",
            "\n",
            "                                                     ^^^^^^^^^\n",
            "Hum, AT&T, VLSI and Mykotronx are 'industry'?\n",
            "Wonder what happened to IBM, this should be right up their street.\n",
            "And a mandateed scheme is voluntary? Mr Orwell would love this.\n",
            "\n",
            "       \n",
            "Clase: sci.crypt\n",
            "\n",
            "..............Documento similar 4271:\n",
            "THE WHITE HOUSE\n",
            "\n",
            "                    Office of the Press Secretary\n",
            "______________________________________________________________\n",
            "For Immediate Release                             April 13, 1993     \n",
            "\n",
            "\t     \n",
            "                      REMARKS BY THE PRESIDENT,\n",
            "               SECRETARY OF EDUCATION RICHARD RILEY AND\n",
            "                   SECRETARY OF LABOR ROBERT REICH  IN \n",
            "                GOALS 2000 SATELLITE TOWN HALL MEETING\n",
            "\t     \n",
            "                     Chamber of Commerce Building\n",
            "                    \n",
            "Clase: talk.politics.misc\n",
            "\n",
            "..............Documento similar 3141:\n",
            "\n",
            "       Mr. Parsli, I have to take exception at this.  There are\n",
            "verifiable, previous *examples* of levels of U.S. governments\n",
            "abusing gun-control restrictions.  I don't think it is paranoid\n",
            "to worry that what has been abused in the recent past might be abused\n",
            "in thye future.  After so many times of getting burned any sane person\n",
            "will stop putting his hand on the stove.\n",
            "\n",
            "\n",
            "       I'd love to.  But as long as the politicians grab power to sell\n",
            "pork back to their constituents, there's not a lot I c\n",
            "Clase: talk.politics.guns\n",
            "\n",
            "..............Documento similar 10836:\n",
            "Archive-name: atheism/faq\n",
            "Alt-atheism-archive-name: faq\n",
            "Last-modified: 5 April 1993\n",
            "Version: 1.1\n",
            "\n",
            "                    Alt.Atheism Frequently-Asked Questions\n",
            "\n",
            "This file contains responses to articles which occur repeatedly in\n",
            "alt.atheism.  Points covered here are ones which are not covered in the\n",
            "\"Introduction to Atheism\"; you are advised to read that article as well\n",
            "before posting.\n",
            "\n",
            "These answers are not intended to be exhaustive or definitive. The purpose of\n",
            "the periodic FAQ postings is not to \n",
            "Clase: alt.atheism\n",
            "\n",
            "--------------------------------- Documento 3813:\n",
            "\n",
            "Doesn't it also have the Statue of Liberty on it or is that Richter's Mask?\n",
            "\n",
            "The back actually has a Bee followed by a Z to represent the Beezer. It \n",
            "also has something that looks like the three interconnecting circles from\n",
            "the Led Zepplin 4 album cover. Is that what it is supposed to be? and if\n",
            "it is does anybody know why he would put it there? Ali?\n",
            "\n",
            "\n",
            "John\n",
            "\"The official Language of Golf is Profanity\"\n",
            "\n",
            "\n",
            "\n",
            "Clase: rec.sport.hockey\n",
            "\n",
            "..............Documento similar 10836:\n",
            "Archive-name: atheism/faq\n",
            "Alt-atheism-archive-name: faq\n",
            "Last-modified: 5 April 1993\n",
            "Version: 1.1\n",
            "\n",
            "                    Alt.Atheism Frequently-Asked Questions\n",
            "\n",
            "This file contains responses to articles which occur repeatedly in\n",
            "alt.atheism.  Points covered here are ones which are not covered in the\n",
            "\"Introduction to Atheism\"; you are advised to read that article as well\n",
            "before posting.\n",
            "\n",
            "These answers are not intended to be exhaustive or definitive. The purpose of\n",
            "the periodic FAQ postings is not to \n",
            "Clase: alt.atheism\n",
            "\n",
            "..............Documento similar 759:\n",
            "\n",
            "Oh contrer mon captitan!  There is a way.  Certainly it is not by human reason.\n",
            " Certainly it is not by human experience. (and yet it is both!)  To paraphrase\n",
            "Sartre, the particular is absurd unless it has an infinite reference point.  It\n",
            "is only because of God's own revelation that we can be absolute about a thing. \n",
            "Your logic comes to fruition in relativism.  \n",
            "\n",
            "Ah, now it is clear.  Ludwig was a desciple of Russell. Ludwig's fame is often\n",
            "explained by the fact that he spawned not one but two \n",
            "Clase: soc.religion.christian\n",
            "\n",
            "..............Documento similar 913:\n",
            "The recent rise of nostalgia in this group, combined with the\n",
            "  incredible level of utter bullshit, has prompted me to comb\n",
            "  through my archives and pull out some of \"The Best of Alt.Atheism\"\n",
            "  for your reading pleasure.  I'll post a couple of these a day\n",
            "  unless group concensus demands that I stop, or I run out of good\n",
            "  material.\n",
            "\n",
            "  I haven't been particularly careful in the past about saving\n",
            "  attributions.  I think the following comes from John A. Johnson,\n",
            "  but someone correct me if I'm w\n",
            "Clase: alt.atheism\n",
            "\n",
            "..............Documento similar 5826:\n",
            "A listmember (D Andrew Killie, I think) wrote, in response to the\n",
            "suggestion that genocide may sometimes be the will of God:\n",
            "\n",
            " > Any God who works that way is indescribably evil,\n",
            " > and unworthy of my worship or faith.\n",
            "\n",
            "Nobuya \"Higgy\" Higashiyama replied (as, in substance, did others):\n",
            "\n",
            " > Where is your source of moral standards by which you judge God's\n",
            " > behavior?\n",
            "\n",
            "It is often argued that we have no standing by which to judge God's\n",
            "actions.  Who is the clay to talk back to the potter? But we f\n",
            "Clase: soc.religion.christian\n",
            "\n",
            "..............Documento similar 5856:\n",
            "\n",
            "Thanks for posting this and making it available. This post will be LONG, I will\n",
            "comment on most of it, and am reluctantly leaving all of the original in place\n",
            "to provide context.\n",
            "\n",
            "Please note that an alt. group has been set up for the Clipper stuff.\n",
            "\n",
            "                                                     ^^^^^^^^^\n",
            "Hum, AT&T, VLSI and Mykotronx are 'industry'?\n",
            "Wonder what happened to IBM, this should be right up their street.\n",
            "And a mandateed scheme is voluntary? Mr Orwell would love this.\n",
            "\n",
            "       \n",
            "Clase: sci.crypt\n"
          ]
        }
      ]
    },
    {
      "cell_type": "markdown",
      "source": [
        "Respecto a los textos analizados podemos reconocer ciertos patrones:\n",
        "\n",
        "caso 1: consultas respecto a recomendaciones de hardware relacionadas a un mismo remitente.\n",
        "\n",
        "caso 2: consultas sobre hardware DMA\n",
        "\n",
        "caso 3: ventas de hardware\n",
        "\n",
        "caso 4: cuestiones relacionadas con política\n",
        "\n",
        "caso 5: cuestiones relacionadas con religión"
      ],
      "metadata": {
        "id": "kTFTQ1ToOqmL"
      }
    },
    {
      "cell_type": "markdown",
      "source": [
        "Consigna 2 - Entrenar modelos:"
      ],
      "metadata": {
        "id": "E85_KGfoSyPs"
      }
    },
    {
      "cell_type": "code",
      "source": [
        "# Vectorizador con diferentes parámetros\n",
        "tfidfvect = TfidfVectorizer(max_df=0.99, min_df=2, analyzer='word')\n",
        "X_train = tfidfvect.fit_transform(newsgroups_train.data)\n",
        "X_test = tfidfvect.transform(newsgroups_test.data)\n",
        "y_train = newsgroups_train.target\n",
        "y_test = newsgroups_test.target\n",
        "\n",
        "# Modelo MultinomialNB\n",
        "clf_multinomial = MultinomialNB()\n",
        "clf_multinomial.fit(X_train, y_train)\n",
        "y_pred_multinomial = clf_multinomial.predict(X_test)\n",
        "f1_multinomial = f1_score(y_test, y_pred_multinomial, average='macro')\n",
        "\n",
        "print(f'F1-score MultinomialNB (macro): {f1_multinomial}')\n",
        "\n",
        "# Modelo ComplementNB\n",
        "clf_complement = ComplementNB()\n",
        "clf_complement.fit(X_train, y_train)\n",
        "y_pred_complement = clf_complement.predict(X_test)\n",
        "f1_complement = f1_score(y_test, y_pred_complement, average='macro')\n",
        "\n",
        "print(f'F1-score ComplementNB (macro): {f1_complement}')"
      ],
      "metadata": {
        "colab": {
          "base_uri": "https://localhost:8080/"
        },
        "id": "MPo3jSe0jDIE",
        "outputId": "7f8f7962-f58d-4c7e-b56e-8ea874776b5c"
      },
      "execution_count": null,
      "outputs": [
        {
          "output_type": "stream",
          "name": "stdout",
          "text": [
            "F1-score MultinomialNB (macro): 0.5970494639319617\n",
            "F1-score ComplementNB (macro): 0.6934824308370665\n"
          ]
        }
      ]
    },
    {
      "cell_type": "code",
      "source": [
        "# Definir diferentes configuraciones del vectorizador\n",
        "vectorizer_params = [\n",
        "    {'max_df': 1.0, 'min_df': 1, 'stop_words': None},\n",
        "    {'max_df': 0.95, 'min_df': 2, 'stop_words': 'english'},\n",
        "    {'max_df': 0.9, 'min_df': 5, 'stop_words': 'english'},\n",
        "    {'max_df': 0.85, 'min_df': 10, 'stop_words': 'english'}\n",
        "]\n",
        "\n",
        "X_train_data = newsgroups_train.data\n",
        "y_train = newsgroups_train.target\n",
        "X_test_data = newsgroups_test.data\n",
        "y_test = newsgroups_test.target\n",
        "\n",
        "# Definir diferentes configuraciones del vectorizador\n",
        "vectorizer_params = [\n",
        "    {'max_df': 1.0, 'min_df': 1, 'stop_words': None},\n",
        "    {'max_df': 0.95, 'min_df': 2, 'stop_words': 'english'},\n",
        "    {'max_df': 0.9, 'min_df': 5, 'stop_words': 'english'},\n",
        "    {'max_df': 0.85, 'min_df': 10, 'stop_words': 'english'}\n",
        "]\n",
        "\n",
        "\n",
        "# Función para evaluar modelos con diferentes configuraciones\n",
        "def evaluate_model(vectorizer_params, model_params):\n",
        "    best_f1_multinomial = 0\n",
        "    best_f1_complement = 0\n",
        "    best_params_multinomial = None\n",
        "    best_params_complement = None\n",
        "\n",
        "    for params in vectorizer_params:\n",
        "        print(f\"Evaluando configuración del vectorizador: {params}\")\n",
        "        vectorizer = TfidfVectorizer(**params)\n",
        "        X_train = vectorizer.fit_transform(X_train_data)\n",
        "        X_test = vectorizer.transform(X_test_data)\n",
        "\n",
        "        # Entrenar y evaluar MultinomialNB\n",
        "        clf_multinomial = MultinomialNB()\n",
        "        clf_multinomial.fit(X_train, y_train)\n",
        "        y_pred_multinomial = clf_multinomial.predict(X_test)\n",
        "        f1_multinomial = f1_score(y_test, y_pred_multinomial, average='macro')\n",
        "        print(f'F1-score MultinomialNB (macro): {f1_multinomial}')\n",
        "        if f1_multinomial > best_f1_multinomial:\n",
        "            best_f1_multinomial = f1_multinomial\n",
        "            best_params_multinomial = params\n",
        "\n",
        "        # Entrenar y evaluar ComplementNB\n",
        "        clf_complement = ComplementNB()\n",
        "        clf_complement.fit(X_train, y_train)\n",
        "        y_pred_complement = clf_complement.predict(X_test)\n",
        "        f1_complement = f1_score(y_test, y_pred_complement, average='macro')\n",
        "        print(f'F1-score ComplementNB (macro): {f1_complement}')\n",
        "        if f1_complement > best_f1_complement:\n",
        "            best_f1_complement = f1_complement\n",
        "            best_params_complement = params\n",
        "\n",
        "    return best_f1_multinomial, best_params_multinomial, best_f1_complement, best_params_complement\n",
        "\n",
        "# Evaluar modelos con diferentes configuraciones\n",
        "\n",
        "best_f1_multinomial, best_params_multinomial, best_f1_complement, best_params_complement = evaluate_model(vectorizer_params, model_params)\n",
        "\n",
        "print(f\"\\nMejor F1-score MultinomialNB (macro): {best_f1_multinomial} con parámetros: {best_params_multinomial}\")\n",
        "print(f\"Mejor F1-score ComplementNB (macro): {best_f1_complement} con parámetros: {best_params_complement}\")\n"
      ],
      "metadata": {
        "id": "XdS8NnQdlVVg",
        "colab": {
          "base_uri": "https://localhost:8080/"
        },
        "outputId": "9c91ffa6-d51b-4ada-baa3-7f440d8da519"
      },
      "execution_count": null,
      "outputs": [
        {
          "output_type": "stream",
          "name": "stdout",
          "text": [
            "Evaluando configuración del vectorizador: {'max_df': 1.0, 'min_df': 1, 'stop_words': None}\n",
            "F1-score MultinomialNB (macro): 0.5854345727938506\n",
            "F1-score ComplementNB (macro): 0.692953349950875\n",
            "Evaluando configuración del vectorizador: {'max_df': 0.95, 'min_df': 2, 'stop_words': 'english'}\n",
            "F1-score MultinomialNB (macro): 0.6511573382063232\n",
            "F1-score ComplementNB (macro): 0.6942920490839366\n",
            "Evaluando configuración del vectorizador: {'max_df': 0.9, 'min_df': 5, 'stop_words': 'english'}\n",
            "F1-score MultinomialNB (macro): 0.6503653727588931\n",
            "F1-score ComplementNB (macro): 0.6822855200322546\n",
            "Evaluando configuración del vectorizador: {'max_df': 0.85, 'min_df': 10, 'stop_words': 'english'}\n",
            "F1-score MultinomialNB (macro): 0.64762143634484\n",
            "F1-score ComplementNB (macro): 0.6642153476904588\n",
            "\n",
            "Mejor F1-score MultinomialNB (macro): 0.6511573382063232 con parámetros: {'max_df': 0.95, 'min_df': 2, 'stop_words': 'english'}\n",
            "Mejor F1-score ComplementNB (macro): 0.6942920490839366 con parámetros: {'max_df': 0.95, 'min_df': 2, 'stop_words': 'english'}\n"
          ]
        }
      ]
    },
    {
      "cell_type": "markdown",
      "source": [
        "Consigna 3 - Transponer matriz documento-término"
      ],
      "metadata": {
        "id": "7bM7Wac1O83h"
      }
    },
    {
      "cell_type": "code",
      "source": [
        "# Transponer la matriz documento-término\n",
        "X_train_T = X_train.T\n"
      ],
      "metadata": {
        "id": "zOejoC0QlVGq"
      },
      "execution_count": null,
      "outputs": []
    },
    {
      "cell_type": "code",
      "source": [
        "\n",
        "# Tomar 5 palabras al azar del vocabulario\n",
        "np.random.seed(21)\n",
        "random_words_indices = np.random.choice(X_train_T.shape[0], 5, replace=False)\n",
        "idx2word = {v: k for k, v in tfidfvect.vocabulary_.items()}\n"
      ],
      "metadata": {
        "id": "n6GShvFpWv7u"
      },
      "execution_count": null,
      "outputs": []
    },
    {
      "cell_type": "code",
      "source": [
        "# Medir similaridad y analizar\n",
        "for idx in random_words_indices:\n",
        "    word = idx2word[idx]\n",
        "    print(f\"\\nPalabra '{word}':\")\n",
        "\n",
        "    cossim = cosine_similarity(X_train_T[idx], X_train_T)[0]\n",
        "    mostsim = np.argsort(cossim)[::-1][1:6]\n",
        "\n",
        "    for i in mostsim:\n",
        "        similar_word = idx2word[i]\n",
        "        print(f\"Palabra similar: {similar_word}\")\n"
      ],
      "metadata": {
        "id": "n48YqUlI5ill",
        "colab": {
          "base_uri": "https://localhost:8080/"
        },
        "outputId": "608f5670-ec32-457c-8659-f3bf7fda62c3"
      },
      "execution_count": null,
      "outputs": [
        {
          "output_type": "stream",
          "name": "stdout",
          "text": [
            "\n",
            "Palabra 'amber':\n",
            "Palabra similar: vt100\n",
            "Palabra similar: 1200\n",
            "Palabra similar: corvettes\n",
            "Palabra similar: screens\n",
            "Palabra similar: _national\n",
            "\n",
            "Palabra 'armchair':\n",
            "Palabra similar: flowers\n",
            "Palabra similar: costello\n",
            "Palabra similar: theatre\n",
            "Palabra similar: mccartney\n",
            "Palabra similar: princeton\n",
            "\n",
            "Palabra 'moore':\n",
            "Palabra similar: cindy\n",
            "Palabra similar: tittle\n",
            "Palabra similar: kittys\n",
            "Palabra similar: trumbull\n",
            "Palabra similar: illitch\n",
            "\n",
            "Palabra 'irregulars':\n",
            "Palabra similar: blockaded\n",
            "Palabra similar: troups\n",
            "Palabra similar: deir\n",
            "Palabra similar: snipers\n",
            "Palabra similar: yassin\n",
            "\n",
            "Palabra 'appearence':\n",
            "Palabra similar: messes\n",
            "Palabra similar: splits\n",
            "Palabra similar: hellcats\n",
            "Palabra similar: solicit\n",
            "Palabra similar: breifly\n"
          ]
        }
      ]
    },
    {
      "cell_type": "code",
      "source": [],
      "metadata": {
        "id": "vQLr_xK2Xy0J"
      },
      "execution_count": null,
      "outputs": []
    }
  ],
  "metadata": {
    "colab": {
      "provenance": []
    },
    "kernelspec": {
      "display_name": "Python 3",
      "name": "python3"
    },
    "language_info": {
      "name": "python"
    }
  },
  "nbformat": 4,
  "nbformat_minor": 0
}