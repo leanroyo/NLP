{
  "cells": [
    {
      "cell_type": "markdown",
      "metadata": {
        "id": "sZd5yLnnHOK0"
      },
      "source": [
        "<img src=\"https://github.com/hernancontigiani/ceia_memorias_especializacion/raw/master/Figures/logoFIUBA.jpg\" width=\"500\" align=\"center\">\n",
        "\n",
        "\n",
        "# Procesamiento de lenguaje natural\n",
        "## Custom embedddings con Gensim\n",
        "\n"
      ]
    },
    {
      "cell_type": "markdown",
      "metadata": {
        "id": "vA7nqkumo9z9"
      },
      "source": [
        "### Objetivo\n",
        "El objetivo es utilizar documentos / corpus para crear embeddings de palabras basado en ese contexto. Se utilizará canciones de bandas para generar los embeddings, es decir, que los vectores tendrán la forma en función de como esa banda haya utilizado las palabras en sus canciones."
      ]
    },
    {
      "cell_type": "code",
      "execution_count": null,
      "metadata": {
        "id": "lFToQs5FK5uZ"
      },
      "outputs": [],
      "source": [
        "import pandas as pd\n",
        "import matplotlib.pyplot as plt\n",
        "import seaborn as sns\n",
        "\n",
        "import multiprocessing\n",
        "from gensim.models import Word2Vec"
      ]
    },
    {
      "cell_type": "markdown",
      "metadata": {
        "id": "g07zJxG7H9vG"
      },
      "source": [
        "### Datos\n",
        "Utilizaremos como dataset canciones de bandas de habla inglesa."
      ]
    },
    {
      "cell_type": "code",
      "execution_count": null,
      "metadata": {
        "id": "l7z4CSBfpR3X",
        "colab": {
          "base_uri": "https://localhost:8080/"
        },
        "outputId": "5c54815b-49ba-4d5c-c146-584db7036006"
      },
      "outputs": [
        {
          "output_type": "stream",
          "name": "stdout",
          "text": [
            "--2024-07-09 12:31:02--  http://songs_dataset.zip/\n",
            "Resolving songs_dataset.zip (songs_dataset.zip)... failed: Name or service not known.\n",
            "wget: unable to resolve host address ‘songs_dataset.zip’\n",
            "--2024-07-09 12:31:02--  https://github.com/FIUBA-Posgrado-Inteligencia-Artificial/procesamiento_lenguaje_natural/raw/main/datasets/songs_dataset.zip\n",
            "Resolving github.com (github.com)... 140.82.114.3\n",
            "Connecting to github.com (github.com)|140.82.114.3|:443... connected.\n",
            "HTTP request sent, awaiting response... 302 Found\n",
            "Location: https://raw.githubusercontent.com/FIUBA-Posgrado-Inteligencia-Artificial/procesamiento_lenguaje_natural/main/datasets/songs_dataset.zip [following]\n",
            "--2024-07-09 12:31:03--  https://raw.githubusercontent.com/FIUBA-Posgrado-Inteligencia-Artificial/procesamiento_lenguaje_natural/main/datasets/songs_dataset.zip\n",
            "Resolving raw.githubusercontent.com (raw.githubusercontent.com)... 185.199.108.133, 185.199.110.133, 185.199.109.133, ...\n",
            "Connecting to raw.githubusercontent.com (raw.githubusercontent.com)|185.199.108.133|:443... connected.\n",
            "HTTP request sent, awaiting response... 200 OK\n",
            "Length: 2075036 (2.0M) [application/zip]\n",
            "Saving to: ‘songs_dataset.zip’\n",
            "\n",
            "songs_dataset.zip   100%[===================>]   1.98M  --.-KB/s    in 0.04s   \n",
            "\n",
            "2024-07-09 12:31:03 (46.7 MB/s) - ‘songs_dataset.zip’ saved [2075036/2075036]\n",
            "\n",
            "FINISHED --2024-07-09 12:31:03--\n",
            "Total wall clock time: 1.1s\n",
            "Downloaded: 1 files, 2.0M in 0.04s (46.7 MB/s)\n"
          ]
        }
      ],
      "source": [
        "# Descargar la carpeta de dataset\n",
        "import os\n",
        "import platform\n",
        "if os.access('./songs_dataset', os.F_OK) is False:\n",
        "    if os.access('songs_dataset.zip', os.F_OK) is False:\n",
        "        if platform.system() == 'Windows':\n",
        "            !curl https://raw.githubusercontent.com/FIUBA-Posgrado-Inteligencia-Artificial/procesamiento_lenguaje_natural/main/datasets/songs_dataset.zip -o songs_dataset.zip\n",
        "        else:\n",
        "            !wget songs_dataset.zip https://github.com/FIUBA-Posgrado-Inteligencia-Artificial/procesamiento_lenguaje_natural/raw/main/datasets/songs_dataset.zip\n",
        "    !unzip -q songs_dataset.zip\n",
        "else:\n",
        "    print(\"El dataset ya se encuentra descargado\")"
      ]
    },
    {
      "cell_type": "code",
      "execution_count": null,
      "metadata": {
        "id": "mysGrIw9ljC2",
        "colab": {
          "base_uri": "https://localhost:8080/"
        },
        "outputId": "4eca1b53-b8e6-41a0-b1d0-171e5ab3bf72"
      },
      "outputs": [
        {
          "output_type": "execute_result",
          "data": {
            "text/plain": [
              "['Kanye_West.txt',\n",
              " 'jimi-hendrix.txt',\n",
              " 'al-green.txt',\n",
              " 'eminem.txt',\n",
              " 'leonard-cohen.txt',\n",
              " 'nicki-minaj.txt',\n",
              " 'prince.txt',\n",
              " 'r-kelly.txt',\n",
              " 'beatles.txt',\n",
              " 'paul-simon.txt',\n",
              " 'lady-gaga.txt',\n",
              " 'lil-wayne.txt',\n",
              " 'bjork.txt',\n",
              " 'adele.txt',\n",
              " 'patti-smith.txt',\n",
              " 'nirvana.txt',\n",
              " 'cake.txt',\n",
              " 'radiohead.txt',\n",
              " 'alicia-keys.txt',\n",
              " 'notorious-big.txt',\n",
              " 'johnny-cash.txt',\n",
              " 'amy-winehouse.txt',\n",
              " 'bieber.txt',\n",
              " 'bruno-mars.txt',\n",
              " 'dolly-parton.txt',\n",
              " 'nickelback.txt',\n",
              " 'bruce-springsteen.txt',\n",
              " 'nursery_rhymes.txt',\n",
              " 'disney.txt',\n",
              " 'rihanna.txt',\n",
              " 'dj-khaled.txt',\n",
              " 'notorious_big.txt',\n",
              " 'kanye-west.txt',\n",
              " 'dr-seuss.txt',\n",
              " 'michael-jackson.txt',\n",
              " 'drake.txt',\n",
              " 'bob-marley.txt',\n",
              " 'britney-spears.txt',\n",
              " 'lin-manuel-miranda.txt',\n",
              " 'lorde.txt',\n",
              " 'ludacris.txt',\n",
              " 'bob-dylan.txt',\n",
              " 'blink-182.txt',\n",
              " 'kanye.txt',\n",
              " 'Lil_Wayne.txt',\n",
              " 'joni-mitchell.txt',\n",
              " 'dickinson.txt',\n",
              " 'janisjoplin.txt',\n",
              " 'missy-elliott.txt']"
            ]
          },
          "metadata": {},
          "execution_count": 3
        }
      ],
      "source": [
        "# Posibles bandas\n",
        "os.listdir(\"./songs_dataset/\")"
      ]
    },
    {
      "cell_type": "code",
      "execution_count": null,
      "metadata": {
        "id": "ticoqYD1Z3I7",
        "colab": {
          "base_uri": "https://localhost:8080/",
          "height": 295
        },
        "outputId": "d842e3ea-34fd-488c-89e6-adcf7e19b394"
      },
      "outputs": [
        {
          "output_type": "stream",
          "name": "stderr",
          "text": [
            "<ipython-input-42-5042aa551c22>:2: ParserWarning:\n",
            "\n",
            "Falling back to the 'python' engine because the 'c' engine does not support regex separators (separators > 1 char and different from '\\s+' are interpreted as regex); you can avoid this warning by specifying engine='python'.\n",
            "\n"
          ]
        },
        {
          "output_type": "execute_result",
          "data": {
            "text/plain": [
              "                                                   0\n",
              "0          There must be some kind of way outta here\n",
              "1                        Said the joker to the thief\n",
              "2                         There's too much confusion\n",
              "3  I can't get no relief Business men, they drink...\n",
              "4                               Plowman dig my earth"
            ],
            "text/html": [
              "\n",
              "  <div id=\"df-7ee07ca6-7727-4751-9846-1bb93c5704d0\" class=\"colab-df-container\">\n",
              "    <div>\n",
              "<style scoped>\n",
              "    .dataframe tbody tr th:only-of-type {\n",
              "        vertical-align: middle;\n",
              "    }\n",
              "\n",
              "    .dataframe tbody tr th {\n",
              "        vertical-align: top;\n",
              "    }\n",
              "\n",
              "    .dataframe thead th {\n",
              "        text-align: right;\n",
              "    }\n",
              "</style>\n",
              "<table border=\"1\" class=\"dataframe\">\n",
              "  <thead>\n",
              "    <tr style=\"text-align: right;\">\n",
              "      <th></th>\n",
              "      <th>0</th>\n",
              "    </tr>\n",
              "  </thead>\n",
              "  <tbody>\n",
              "    <tr>\n",
              "      <th>0</th>\n",
              "      <td>There must be some kind of way outta here</td>\n",
              "    </tr>\n",
              "    <tr>\n",
              "      <th>1</th>\n",
              "      <td>Said the joker to the thief</td>\n",
              "    </tr>\n",
              "    <tr>\n",
              "      <th>2</th>\n",
              "      <td>There's too much confusion</td>\n",
              "    </tr>\n",
              "    <tr>\n",
              "      <th>3</th>\n",
              "      <td>I can't get no relief Business men, they drink...</td>\n",
              "    </tr>\n",
              "    <tr>\n",
              "      <th>4</th>\n",
              "      <td>Plowman dig my earth</td>\n",
              "    </tr>\n",
              "  </tbody>\n",
              "</table>\n",
              "</div>\n",
              "    <div class=\"colab-df-buttons\">\n",
              "\n",
              "  <div class=\"colab-df-container\">\n",
              "    <button class=\"colab-df-convert\" onclick=\"convertToInteractive('df-7ee07ca6-7727-4751-9846-1bb93c5704d0')\"\n",
              "            title=\"Convert this dataframe to an interactive table.\"\n",
              "            style=\"display:none;\">\n",
              "\n",
              "  <svg xmlns=\"http://www.w3.org/2000/svg\" height=\"24px\" viewBox=\"0 -960 960 960\">\n",
              "    <path d=\"M120-120v-720h720v720H120Zm60-500h600v-160H180v160Zm220 220h160v-160H400v160Zm0 220h160v-160H400v160ZM180-400h160v-160H180v160Zm440 0h160v-160H620v160ZM180-180h160v-160H180v160Zm440 0h160v-160H620v160Z\"/>\n",
              "  </svg>\n",
              "    </button>\n",
              "\n",
              "  <style>\n",
              "    .colab-df-container {\n",
              "      display:flex;\n",
              "      gap: 12px;\n",
              "    }\n",
              "\n",
              "    .colab-df-convert {\n",
              "      background-color: #E8F0FE;\n",
              "      border: none;\n",
              "      border-radius: 50%;\n",
              "      cursor: pointer;\n",
              "      display: none;\n",
              "      fill: #1967D2;\n",
              "      height: 32px;\n",
              "      padding: 0 0 0 0;\n",
              "      width: 32px;\n",
              "    }\n",
              "\n",
              "    .colab-df-convert:hover {\n",
              "      background-color: #E2EBFA;\n",
              "      box-shadow: 0px 1px 2px rgba(60, 64, 67, 0.3), 0px 1px 3px 1px rgba(60, 64, 67, 0.15);\n",
              "      fill: #174EA6;\n",
              "    }\n",
              "\n",
              "    .colab-df-buttons div {\n",
              "      margin-bottom: 4px;\n",
              "    }\n",
              "\n",
              "    [theme=dark] .colab-df-convert {\n",
              "      background-color: #3B4455;\n",
              "      fill: #D2E3FC;\n",
              "    }\n",
              "\n",
              "    [theme=dark] .colab-df-convert:hover {\n",
              "      background-color: #434B5C;\n",
              "      box-shadow: 0px 1px 3px 1px rgba(0, 0, 0, 0.15);\n",
              "      filter: drop-shadow(0px 1px 2px rgba(0, 0, 0, 0.3));\n",
              "      fill: #FFFFFF;\n",
              "    }\n",
              "  </style>\n",
              "\n",
              "    <script>\n",
              "      const buttonEl =\n",
              "        document.querySelector('#df-7ee07ca6-7727-4751-9846-1bb93c5704d0 button.colab-df-convert');\n",
              "      buttonEl.style.display =\n",
              "        google.colab.kernel.accessAllowed ? 'block' : 'none';\n",
              "\n",
              "      async function convertToInteractive(key) {\n",
              "        const element = document.querySelector('#df-7ee07ca6-7727-4751-9846-1bb93c5704d0');\n",
              "        const dataTable =\n",
              "          await google.colab.kernel.invokeFunction('convertToInteractive',\n",
              "                                                    [key], {});\n",
              "        if (!dataTable) return;\n",
              "\n",
              "        const docLinkHtml = 'Like what you see? Visit the ' +\n",
              "          '<a target=\"_blank\" href=https://colab.research.google.com/notebooks/data_table.ipynb>data table notebook</a>'\n",
              "          + ' to learn more about interactive tables.';\n",
              "        element.innerHTML = '';\n",
              "        dataTable['output_type'] = 'display_data';\n",
              "        await google.colab.output.renderOutput(dataTable, element);\n",
              "        const docLink = document.createElement('div');\n",
              "        docLink.innerHTML = docLinkHtml;\n",
              "        element.appendChild(docLink);\n",
              "      }\n",
              "    </script>\n",
              "  </div>\n",
              "\n",
              "\n",
              "<div id=\"df-dfa86cfe-522a-429b-a63d-6149d2e06b54\">\n",
              "  <button class=\"colab-df-quickchart\" onclick=\"quickchart('df-dfa86cfe-522a-429b-a63d-6149d2e06b54')\"\n",
              "            title=\"Suggest charts\"\n",
              "            style=\"display:none;\">\n",
              "\n",
              "<svg xmlns=\"http://www.w3.org/2000/svg\" height=\"24px\"viewBox=\"0 0 24 24\"\n",
              "     width=\"24px\">\n",
              "    <g>\n",
              "        <path d=\"M19 3H5c-1.1 0-2 .9-2 2v14c0 1.1.9 2 2 2h14c1.1 0 2-.9 2-2V5c0-1.1-.9-2-2-2zM9 17H7v-7h2v7zm4 0h-2V7h2v10zm4 0h-2v-4h2v4z\"/>\n",
              "    </g>\n",
              "</svg>\n",
              "  </button>\n",
              "\n",
              "<style>\n",
              "  .colab-df-quickchart {\n",
              "      --bg-color: #E8F0FE;\n",
              "      --fill-color: #1967D2;\n",
              "      --hover-bg-color: #E2EBFA;\n",
              "      --hover-fill-color: #174EA6;\n",
              "      --disabled-fill-color: #AAA;\n",
              "      --disabled-bg-color: #DDD;\n",
              "  }\n",
              "\n",
              "  [theme=dark] .colab-df-quickchart {\n",
              "      --bg-color: #3B4455;\n",
              "      --fill-color: #D2E3FC;\n",
              "      --hover-bg-color: #434B5C;\n",
              "      --hover-fill-color: #FFFFFF;\n",
              "      --disabled-bg-color: #3B4455;\n",
              "      --disabled-fill-color: #666;\n",
              "  }\n",
              "\n",
              "  .colab-df-quickchart {\n",
              "    background-color: var(--bg-color);\n",
              "    border: none;\n",
              "    border-radius: 50%;\n",
              "    cursor: pointer;\n",
              "    display: none;\n",
              "    fill: var(--fill-color);\n",
              "    height: 32px;\n",
              "    padding: 0;\n",
              "    width: 32px;\n",
              "  }\n",
              "\n",
              "  .colab-df-quickchart:hover {\n",
              "    background-color: var(--hover-bg-color);\n",
              "    box-shadow: 0 1px 2px rgba(60, 64, 67, 0.3), 0 1px 3px 1px rgba(60, 64, 67, 0.15);\n",
              "    fill: var(--button-hover-fill-color);\n",
              "  }\n",
              "\n",
              "  .colab-df-quickchart-complete:disabled,\n",
              "  .colab-df-quickchart-complete:disabled:hover {\n",
              "    background-color: var(--disabled-bg-color);\n",
              "    fill: var(--disabled-fill-color);\n",
              "    box-shadow: none;\n",
              "  }\n",
              "\n",
              "  .colab-df-spinner {\n",
              "    border: 2px solid var(--fill-color);\n",
              "    border-color: transparent;\n",
              "    border-bottom-color: var(--fill-color);\n",
              "    animation:\n",
              "      spin 1s steps(1) infinite;\n",
              "  }\n",
              "\n",
              "  @keyframes spin {\n",
              "    0% {\n",
              "      border-color: transparent;\n",
              "      border-bottom-color: var(--fill-color);\n",
              "      border-left-color: var(--fill-color);\n",
              "    }\n",
              "    20% {\n",
              "      border-color: transparent;\n",
              "      border-left-color: var(--fill-color);\n",
              "      border-top-color: var(--fill-color);\n",
              "    }\n",
              "    30% {\n",
              "      border-color: transparent;\n",
              "      border-left-color: var(--fill-color);\n",
              "      border-top-color: var(--fill-color);\n",
              "      border-right-color: var(--fill-color);\n",
              "    }\n",
              "    40% {\n",
              "      border-color: transparent;\n",
              "      border-right-color: var(--fill-color);\n",
              "      border-top-color: var(--fill-color);\n",
              "    }\n",
              "    60% {\n",
              "      border-color: transparent;\n",
              "      border-right-color: var(--fill-color);\n",
              "    }\n",
              "    80% {\n",
              "      border-color: transparent;\n",
              "      border-right-color: var(--fill-color);\n",
              "      border-bottom-color: var(--fill-color);\n",
              "    }\n",
              "    90% {\n",
              "      border-color: transparent;\n",
              "      border-bottom-color: var(--fill-color);\n",
              "    }\n",
              "  }\n",
              "</style>\n",
              "\n",
              "  <script>\n",
              "    async function quickchart(key) {\n",
              "      const quickchartButtonEl =\n",
              "        document.querySelector('#' + key + ' button');\n",
              "      quickchartButtonEl.disabled = true;  // To prevent multiple clicks.\n",
              "      quickchartButtonEl.classList.add('colab-df-spinner');\n",
              "      try {\n",
              "        const charts = await google.colab.kernel.invokeFunction(\n",
              "            'suggestCharts', [key], {});\n",
              "      } catch (error) {\n",
              "        console.error('Error during call to suggestCharts:', error);\n",
              "      }\n",
              "      quickchartButtonEl.classList.remove('colab-df-spinner');\n",
              "      quickchartButtonEl.classList.add('colab-df-quickchart-complete');\n",
              "    }\n",
              "    (() => {\n",
              "      let quickchartButtonEl =\n",
              "        document.querySelector('#df-dfa86cfe-522a-429b-a63d-6149d2e06b54 button');\n",
              "      quickchartButtonEl.style.display =\n",
              "        google.colab.kernel.accessAllowed ? 'block' : 'none';\n",
              "    })();\n",
              "  </script>\n",
              "</div>\n",
              "\n",
              "    </div>\n",
              "  </div>\n"
            ],
            "application/vnd.google.colaboratory.intrinsic+json": {
              "type": "dataframe",
              "variable_name": "df",
              "summary": "{\n  \"name\": \"df\",\n  \"rows\": 2033,\n  \"fields\": [\n    {\n      \"column\": 0,\n      \"properties\": {\n        \"dtype\": \"string\",\n        \"num_unique_values\": 1746,\n        \"samples\": [\n          \"Now if uh, six uh, huh, turned out to be nine\",\n          \"Maybe now you can't hear them, but you will\",\n          \"I want to know about the new Mother Earth\"\n        ],\n        \"semantic_type\": \"\",\n        \"description\": \"\"\n      }\n    }\n  ]\n}"
            }
          },
          "metadata": {},
          "execution_count": 42
        }
      ],
      "source": [
        "# Armar el dataset utilizando salto de línea para separar las oraciones/docs\n",
        "df = pd.read_csv('songs_dataset/jimi-hendrix.txt', sep='/n', header=None)\n",
        "df.head()"
      ]
    },
    {
      "cell_type": "code",
      "execution_count": null,
      "metadata": {
        "id": "LEpKubK9XzXN",
        "colab": {
          "base_uri": "https://localhost:8080/"
        },
        "outputId": "394aa642-fce9-4f2d-88e3-fd96039a9149"
      },
      "outputs": [
        {
          "output_type": "stream",
          "name": "stdout",
          "text": [
            "Cantidad de documentos: 2033\n"
          ]
        }
      ],
      "source": [
        "print(\"Cantidad de documentos:\", df.shape[0])"
      ]
    },
    {
      "cell_type": "markdown",
      "metadata": {
        "id": "ab94qaFlrA1G"
      },
      "source": [
        "### 1 - Preprocesamiento"
      ]
    },
    {
      "cell_type": "code",
      "execution_count": null,
      "metadata": {
        "id": "rIsmMWmjrDHd"
      },
      "outputs": [],
      "source": [
        "from keras.preprocessing.text import text_to_word_sequence\n",
        "\n",
        "sentence_tokens = []\n",
        "# Recorrer todas las filas y transformar las oraciones\n",
        "# en una secuencia de palabras (esto podría realizarse con NLTK o spaCy también)\n",
        "for _, row in df[:None].iterrows():\n",
        "    sentence_tokens.append(text_to_word_sequence(row[0]))"
      ]
    },
    {
      "cell_type": "code",
      "execution_count": null,
      "metadata": {
        "id": "CHepi_DGrbhq",
        "colab": {
          "base_uri": "https://localhost:8080/"
        },
        "outputId": "ab2cf288-420a-423c-927d-690b20e4e2c3"
      },
      "outputs": [
        {
          "output_type": "execute_result",
          "data": {
            "text/plain": [
              "[['there', 'must', 'be', 'some', 'kind', 'of', 'way', 'outta', 'here'],\n",
              " ['said', 'the', 'joker', 'to', 'the', 'thief']]"
            ]
          },
          "metadata": {},
          "execution_count": 7
        }
      ],
      "source": [
        "# Demos un vistazo\n",
        "sentence_tokens[:2]"
      ]
    },
    {
      "cell_type": "markdown",
      "metadata": {
        "id": "BaXV6nlHr5Aa"
      },
      "source": [
        "### 2 - Crear los vectores (word2vec)"
      ]
    },
    {
      "cell_type": "code",
      "execution_count": null,
      "metadata": {
        "id": "OSb0v7h8r7hK"
      },
      "outputs": [],
      "source": [
        "from gensim.models.callbacks import CallbackAny2Vec\n",
        "# Durante el entrenamiento gensim por defecto no informa el \"loss\" en cada época\n",
        "# Sobrecargamos el callback para poder tener esta información\n",
        "class callback(CallbackAny2Vec):\n",
        "    \"\"\"\n",
        "    Callback to print loss after each epoch\n",
        "    \"\"\"\n",
        "    def __init__(self):\n",
        "        self.epoch = 0\n",
        "\n",
        "    def on_epoch_end(self, model):\n",
        "        loss = model.get_latest_training_loss()\n",
        "        if self.epoch == 0:\n",
        "            print('Loss after epoch {}: {}'.format(self.epoch, loss))\n",
        "        else:\n",
        "            print('Loss after epoch {}: {}'.format(self.epoch, loss- self.loss_previous_step))\n",
        "        self.epoch += 1\n",
        "        self.loss_previous_step = loss"
      ]
    },
    {
      "cell_type": "code",
      "execution_count": null,
      "metadata": {
        "id": "i0wnDdv9sJ47"
      },
      "outputs": [],
      "source": [
        "# Crearmos el modelo generador de vectores\n",
        "# En este caso utilizaremos la estructura modelo Skipgram\n",
        "w2v_model = Word2Vec(min_count=5,    # frecuencia mínima de palabra para incluirla en el vocabulario\n",
        "                     window=2,       # cant de palabras antes y desp de la predicha\n",
        "                     vector_size=300,       # dimensionalidad de los vectores\n",
        "                     negative=20,    # cantidad de negative samples... 0 es no se usa\n",
        "                     workers=1,      # si tienen más cores pueden cambiar este valor\n",
        "                     sg=1)           # modelo 0:CBOW  1:skipgram"
      ]
    },
    {
      "cell_type": "code",
      "execution_count": null,
      "metadata": {
        "id": "5lTt8wErsf17"
      },
      "outputs": [],
      "source": [
        "# Obtener el vocabulario con los tokens\n",
        "w2v_model.build_vocab(sentence_tokens)"
      ]
    },
    {
      "cell_type": "code",
      "execution_count": null,
      "metadata": {
        "id": "TNc9qt4os5AT",
        "colab": {
          "base_uri": "https://localhost:8080/"
        },
        "outputId": "a0278edc-a02d-41f8-87cc-45cc58e9fa87"
      },
      "outputs": [
        {
          "output_type": "stream",
          "name": "stdout",
          "text": [
            "Cantidad de docs en el corpus: 2033\n"
          ]
        }
      ],
      "source": [
        "# Cantidad de filas/docs encontradas en el corpus\n",
        "print(\"Cantidad de docs en el corpus:\", w2v_model.corpus_count)"
      ]
    },
    {
      "cell_type": "code",
      "execution_count": null,
      "metadata": {
        "id": "idw9cHF3tSMl",
        "colab": {
          "base_uri": "https://localhost:8080/"
        },
        "outputId": "9be91ea2-c183-457a-a6ae-a9afa459ac5b"
      },
      "outputs": [
        {
          "output_type": "stream",
          "name": "stdout",
          "text": [
            "Cantidad de words distintas en el corpus: 483\n"
          ]
        }
      ],
      "source": [
        "# Cantidad de words encontradas en el corpus\n",
        "print(\"Cantidad de words distintas en el corpus:\", len(w2v_model.wv.index_to_key))"
      ]
    },
    {
      "cell_type": "markdown",
      "metadata": {
        "id": "fC9mZ8DPk-UC"
      },
      "source": [
        "### 3 - Entrenar embeddings"
      ]
    },
    {
      "cell_type": "code",
      "execution_count": null,
      "metadata": {
        "id": "QSp-x0PAsq56",
        "colab": {
          "base_uri": "https://localhost:8080/"
        },
        "outputId": "175aafe5-257d-4ab2-b762-07a6ba87dce2"
      },
      "outputs": [
        {
          "output_type": "stream",
          "name": "stdout",
          "text": [
            "Loss after epoch 0: 133691.125\n",
            "Loss after epoch 1: 65327.5\n",
            "Loss after epoch 2: 64197.25\n",
            "Loss after epoch 3: 64902.46875\n",
            "Loss after epoch 4: 64708.1875\n",
            "Loss after epoch 5: 63767.53125\n",
            "Loss after epoch 6: 64318.0\n",
            "Loss after epoch 7: 65705.75\n",
            "Loss after epoch 8: 64429.0\n",
            "Loss after epoch 9: 64743.5625\n",
            "Loss after epoch 10: 64815.125\n",
            "Loss after epoch 11: 65451.3125\n",
            "Loss after epoch 12: 64556.1875\n",
            "Loss after epoch 13: 64384.4375\n",
            "Loss after epoch 14: 63444.0625\n",
            "Loss after epoch 15: 56788.25\n",
            "Loss after epoch 16: 55191.375\n",
            "Loss after epoch 17: 55348.375\n",
            "Loss after epoch 18: 55251.375\n",
            "Loss after epoch 19: 55418.875\n"
          ]
        },
        {
          "output_type": "execute_result",
          "data": {
            "text/plain": [
              "(156786, 285540)"
            ]
          },
          "metadata": {},
          "execution_count": 13
        }
      ],
      "source": [
        "# Entrenamos el modelo generador de vectores\n",
        "# Utilizamos nuestro callback\n",
        "w2v_model.train(sentence_tokens,\n",
        "                 total_examples=w2v_model.corpus_count,\n",
        "                 epochs=20,\n",
        "                 compute_loss = True,\n",
        "                 callbacks=[callback()]\n",
        "                 )"
      ]
    },
    {
      "cell_type": "markdown",
      "metadata": {
        "id": "ddT9NVuNlCAe"
      },
      "source": [
        "### 4 - Ensayar"
      ]
    },
    {
      "cell_type": "code",
      "execution_count": null,
      "metadata": {
        "id": "6cHN9xGLuPEm",
        "colab": {
          "base_uri": "https://localhost:8080/"
        },
        "outputId": "5a8965f2-bcfa-4c30-a477-dcedd3d8d54a"
      },
      "outputs": [
        {
          "output_type": "execute_result",
          "data": {
            "text/plain": [
              "[('thought', 0.9930726289749146),\n",
              " ('scene', 0.9928821921348572),\n",
              " ('full', 0.9928471446037292),\n",
              " ('feeling', 0.9925820231437683),\n",
              " ('feet', 0.992576003074646),\n",
              " ('man', 0.992499053478241),\n",
              " ('turned', 0.9923893213272095),\n",
              " ('body', 0.9923678636550903),\n",
              " ('fall', 0.9923567175865173),\n",
              " ('fight', 0.9921563267707825)]"
            ]
          },
          "metadata": {},
          "execution_count": 14
        }
      ],
      "source": [
        "# Palabras que MÁS se relacionan con...:\n",
        "w2v_model.wv.most_similar(positive=[\"darling\"], topn=10)"
      ]
    },
    {
      "cell_type": "code",
      "execution_count": null,
      "metadata": {
        "id": "47HiU5gdkdMq",
        "colab": {
          "base_uri": "https://localhost:8080/"
        },
        "outputId": "11eb520b-b550-4cc7-d26a-c47241c1326d"
      },
      "outputs": [
        {
          "output_type": "execute_result",
          "data": {
            "text/plain": [
              "[(\"floatin'\", -0.26228073239326477),\n",
              " (\"you've\", -0.2762462794780731),\n",
              " ('got', -0.29888230562210083),\n",
              " (\"'round\", -0.30804571509361267),\n",
              " ('go', -0.39515531063079834),\n",
              " ('stop', -0.40961435437202454),\n",
              " ('mine', -0.41921401023864746),\n",
              " (\"nat'rally\", -0.42443859577178955),\n",
              " ('johnny', -0.44523075222969055),\n",
              " ('voodoo', -0.4607124626636505)]"
            ]
          },
          "metadata": {},
          "execution_count": 15
        }
      ],
      "source": [
        "# Palabras que MENOS se relacionan con...:\n",
        "w2v_model.wv.most_similar(negative=[\"love\"], topn=10)"
      ]
    },
    {
      "cell_type": "code",
      "execution_count": null,
      "metadata": {
        "id": "DT4Rvno2mD65",
        "colab": {
          "base_uri": "https://localhost:8080/"
        },
        "outputId": "bec977fc-5bdf-4447-fa5e-f679b6040e2a"
      },
      "outputs": [
        {
          "output_type": "execute_result",
          "data": {
            "text/plain": [
              "[('ooh', 0.9784362316131592),\n",
              " ('foxy', 0.9703792929649353),\n",
              " ('ow', 0.9631498456001282),\n",
              " ('yeah', 0.9588172435760498),\n",
              " (\"you're\", 0.9576972126960754),\n",
              " ('two', 0.9561972618103027),\n",
              " ('wrong', 0.9561073184013367),\n",
              " ('caught', 0.9557348489761353),\n",
              " ('hmmm', 0.9554049968719482),\n",
              " ('goes', 0.9553000330924988)]"
            ]
          },
          "metadata": {},
          "execution_count": 18
        }
      ],
      "source": [
        "# Palabras que MÁS se relacionan con...:\n",
        "w2v_model.wv.most_similar(positive=[\"lady\"], topn=10)"
      ]
    },
    {
      "cell_type": "code",
      "execution_count": null,
      "metadata": {
        "id": "XPLDPgzBmQXt",
        "colab": {
          "base_uri": "https://localhost:8080/"
        },
        "outputId": "b9dc62f6-f959-488d-9f42-c56530f9a655"
      },
      "outputs": [
        {
          "output_type": "execute_result",
          "data": {
            "text/plain": [
              "[('fool', 0.9974985122680664),\n",
              " ('ooo', 0.9969948530197144),\n",
              " ('mess', 0.9967654347419739),\n",
              " ('use', 0.9965922236442566),\n",
              " ('waterfall', 0.9962754845619202)]"
            ]
          },
          "metadata": {},
          "execution_count": 23
        }
      ],
      "source": [
        "# Palabras que MÁS se relacionan con...:\n",
        "w2v_model.wv.most_similar(positive=[\"pain\"], topn=5)"
      ]
    },
    {
      "cell_type": "code",
      "execution_count": null,
      "metadata": {
        "id": "L_UvHPMMklOr",
        "colab": {
          "base_uri": "https://localhost:8080/"
        },
        "outputId": "169cfa1e-09ee-4ef9-f299-bbefde0eab09"
      },
      "outputs": [
        {
          "output_type": "execute_result",
          "data": {
            "text/plain": [
              "[('voodoo', -0.4738563895225525),\n",
              " ('stop', -0.4934901297092438),\n",
              " ('go', -0.49757564067840576),\n",
              " ('johnny', -0.5330703854560852),\n",
              " ('lord', -0.5359761118888855),\n",
              " ('train', -0.5541788935661316),\n",
              " ('hear', -0.571855366230011),\n",
              " (\"i'm\", -0.6065425276756287),\n",
              " ('what', -0.6161960959434509),\n",
              " ('know', -0.6215039491653442)]"
            ]
          },
          "metadata": {},
          "execution_count": 26
        }
      ],
      "source": [
        "# Ensayar con una palabra que no está en el vocabulario:\n",
        "w2v_model.wv.most_similar(negative=[\"all\"])"
      ]
    },
    {
      "cell_type": "code",
      "execution_count": null,
      "metadata": {
        "id": "cPm0MlMi91X7",
        "colab": {
          "base_uri": "https://localhost:8080/"
        },
        "outputId": "9b7821b7-d8da-4582-e369-89e341dfc4a1"
      },
      "outputs": [
        {
          "output_type": "stream",
          "name": "stdout",
          "text": [
            "[ 0.01049728  0.19773228  0.0458908   0.10465935  0.19373137 -0.196871\n",
            " -0.03119683  0.30169213 -0.05386839  0.06960212  0.01529263  0.01674076\n",
            "  0.05928168  0.2508703   0.12619588 -0.11618598  0.21198352 -0.17084923\n",
            " -0.09990938  0.02224028 -0.09447619 -0.10073262  0.19699873  0.19398656\n",
            "  0.21742348 -0.04301547 -0.12328677  0.12229904  0.00153714 -0.09613281\n",
            " -0.0788701   0.00517382  0.07982669 -0.02587628  0.16242616  0.18978362\n",
            " -0.01234346 -0.24535781 -0.21922435  0.08151508 -0.18058376 -0.00439726\n",
            "  0.15874973 -0.05946439 -0.01341624 -0.0441635  -0.03223175  0.16884486\n",
            " -0.21075454 -0.03336628  0.06644834 -0.09050999 -0.34086668 -0.1463878\n",
            "  0.11465127  0.03434211 -0.07963278 -0.00336497 -0.08911004 -0.16748603\n",
            " -0.04264742 -0.04899375  0.14596641  0.08518437  0.06701578  0.07878257\n",
            "  0.2697136   0.019994    0.06646239  0.20964155  0.1449899   0.09719054\n",
            "  0.26551503  0.05487012  0.01957942  0.11293309  0.06735156 -0.2885084\n",
            " -0.1301144   0.12629697 -0.05507597 -0.1730314  -0.09095027  0.1614201\n",
            "  0.10685505  0.31568122  0.08521722  0.02095477  0.07041962 -0.04341093\n",
            "  0.32601783 -0.08396957  0.07838594 -0.13797286  0.21416049  0.0525345\n",
            " -0.00600585  0.03502056 -0.06996936 -0.07290433 -0.19907555  0.28125885\n",
            " -0.11527119 -0.10317932 -0.00230607 -0.08062916 -0.12865007  0.12293461\n",
            " -0.11368122  0.22570498 -0.23776542  0.07401326  0.00646443  0.2749345\n",
            "  0.13463436  0.04478491  0.05226757  0.04584601  0.10803606 -0.10632417\n",
            " -0.09033103  0.02216505 -0.02857996  0.08132487 -0.1190597   0.15512337\n",
            " -0.01002524 -0.07711764  0.01506643 -0.02366604  0.10203057 -0.13164276\n",
            " -0.06824011  0.03141292  0.0072165  -0.07617942 -0.0777669  -0.09262145\n",
            " -0.15770142 -0.07309151  0.18524423 -0.04635954 -0.24105097  0.03160133\n",
            "  0.0686371   0.09715214 -0.05494038 -0.07181524  0.13871975  0.11520608\n",
            "  0.04881507 -0.12573364 -0.28973815 -0.00469874  0.03149656  0.08884696\n",
            " -0.01101716  0.11018413 -0.24366401 -0.11036126  0.08249483  0.22826466\n",
            " -0.27837095  0.02717841  0.15139022 -0.09298025 -0.13811336 -0.06328579\n",
            " -0.14332822  0.27372047  0.17431982 -0.04440153  0.08540994 -0.0028597\n",
            " -0.06139524 -0.12823668 -0.07966985 -0.08856477  0.04770516 -0.2011651\n",
            "  0.11016294  0.0534692  -0.02463245 -0.00880012 -0.20709842 -0.09460989\n",
            "  0.25832477  0.28874862 -0.09617882  0.13751261 -0.08157551  0.05532571\n",
            " -0.00236921 -0.04774716  0.23204839 -0.00267784  0.23271453  0.05328041\n",
            " -0.0311652  -0.07095528 -0.23821339 -0.00699188 -0.21096215 -0.20803124\n",
            " -0.14829588 -0.10953763  0.00892636  0.08517819 -0.2313814   0.07265668\n",
            " -0.04275406 -0.10054365 -0.0036015  -0.13514966 -0.10838748 -0.16529766\n",
            " -0.10549646 -0.01516517 -0.33277923 -0.11492369  0.07425462  0.10207564\n",
            " -0.22858648 -0.23171869 -0.02671672 -0.22536726  0.01965389 -0.2928998\n",
            " -0.09998655  0.19135897 -0.06422815 -0.01054688 -0.1061347   0.02209298\n",
            " -0.11689211  0.0935789  -0.0892758   0.28476188  0.00222478 -0.07819781\n",
            "  0.29225513 -0.16028273  0.09183807 -0.04712063  0.02915492 -0.09047525\n",
            " -0.09458198 -0.00257354 -0.21692692 -0.01445136  0.17760049  0.01737505\n",
            "  0.03916958  0.12213618 -0.02047401 -0.13541158  0.04612648  0.15730195\n",
            " -0.29895347 -0.00127336  0.26267755 -0.09007531  0.173053   -0.11434768\n",
            " -0.23061262  0.17283209  0.14392838  0.19153914 -0.11230599  0.13892831\n",
            " -0.06120267  0.00661274 -0.02025998 -0.10296703  0.06826039  0.01933707\n",
            "  0.11115164  0.01200982 -0.1388821   0.20677872  0.08578083 -0.24779904\n",
            " -0.21553515 -0.09598596 -0.14201777 -0.15555337 -0.24716356  0.23064977\n",
            " -0.19737166  0.1270311  -0.17772616  0.03964675 -0.138575    0.12465119\n",
            "  0.290154    0.19294524  0.06060151 -0.10266845  0.19488502 -0.08347142]\n"
          ]
        }
      ],
      "source": [
        "# el método `get_vector` permite obtener los vectores:\n",
        "vector_love = w2v_model.wv.get_vector(\"love\")\n",
        "print(vector_love)"
      ]
    },
    {
      "cell_type": "code",
      "execution_count": null,
      "metadata": {
        "id": "-amdAaCG91X7",
        "colab": {
          "base_uri": "https://localhost:8080/"
        },
        "outputId": "ccae254e-bbca-49ad-86af-823edd2af782"
      },
      "outputs": [
        {
          "output_type": "execute_result",
          "data": {
            "text/plain": [
              "[('love', 1.0),\n",
              " ('make', 0.9668053984642029),\n",
              " ('thing', 0.8959028124809265),\n",
              " ('wild', 0.8948818445205688),\n",
              " ('everything', 0.890697181224823),\n",
              " ('groovy', 0.8709408640861511),\n",
              " ('will', 0.8411408066749573),\n",
              " ('heart', 0.8352189064025879),\n",
              " (\"you'll\", 0.8206409811973572),\n",
              " ('bold', 0.8081518411636353)]"
            ]
          },
          "metadata": {},
          "execution_count": 28
        }
      ],
      "source": [
        "# el método `most_similar` también permite comparar a partir de vectores\n",
        "w2v_model.wv.most_similar(vector_love)"
      ]
    },
    {
      "cell_type": "code",
      "execution_count": null,
      "metadata": {
        "id": "K3GmCm2t91X8",
        "colab": {
          "base_uri": "https://localhost:8080/"
        },
        "outputId": "85493fdb-aee3-402e-d984-c038035895b4"
      },
      "outputs": [
        {
          "output_type": "execute_result",
          "data": {
            "text/plain": [
              "[('make', 0.9668053984642029),\n",
              " ('thing', 0.8959028124809265),\n",
              " ('wild', 0.8948818445205688),\n",
              " ('everything', 0.890697181224823),\n",
              " ('groovy', 0.8709408640861511),\n",
              " ('will', 0.8411407470703125),\n",
              " ('heart', 0.8352188467979431),\n",
              " (\"you'll\", 0.8206409811973572),\n",
              " ('bold', 0.8081518411636353),\n",
              " ('as', 0.8069232106208801)]"
            ]
          },
          "metadata": {},
          "execution_count": 29
        }
      ],
      "source": [
        "# Palabras que MÁS se relacionan con...:\n",
        "w2v_model.wv.most_similar(positive=[\"love\"], topn=10)"
      ]
    },
    {
      "cell_type": "markdown",
      "metadata": {
        "id": "_g8UVWe6lFmh"
      },
      "source": [
        "### 5 - Visualizar agrupación de vectores"
      ]
    },
    {
      "cell_type": "code",
      "execution_count": null,
      "metadata": {
        "id": "pDxEVXAivjr9"
      },
      "outputs": [],
      "source": [
        "from sklearn.decomposition import IncrementalPCA\n",
        "from sklearn.manifold import TSNE\n",
        "import numpy as np\n",
        "\n",
        "def reduce_dimensions(model, num_dimensions = 2 ):\n",
        "\n",
        "    vectors = np.asarray(model.wv.vectors)\n",
        "    labels = np.asarray(model.wv.index_to_key)\n",
        "\n",
        "    tsne = TSNE(n_components=num_dimensions, random_state=0)\n",
        "    vectors = tsne.fit_transform(vectors)\n",
        "\n",
        "    return vectors, labels"
      ]
    },
    {
      "cell_type": "code",
      "execution_count": null,
      "metadata": {
        "id": "NCCXtDpcugmd",
        "colab": {
          "base_uri": "https://localhost:8080/",
          "height": 542
        },
        "outputId": "8b667935-1181-404a-afb0-53053940719e"
      },
      "outputs": [
        {
          "output_type": "display_data",
          "data": {
            "text/html": [
              "<html>\n",
              "<head><meta charset=\"utf-8\" /></head>\n",
              "<body>\n",
              "    <div>            <script src=\"https://cdnjs.cloudflare.com/ajax/libs/mathjax/2.7.5/MathJax.js?config=TeX-AMS-MML_SVG\"></script><script type=\"text/javascript\">if (window.MathJax && window.MathJax.Hub && window.MathJax.Hub.Config) {window.MathJax.Hub.Config({SVG: {font: \"STIX-Web\"}});}</script>                <script type=\"text/javascript\">window.PlotlyConfig = {MathJaxConfig: 'local'};</script>\n",
              "        <script charset=\"utf-8\" src=\"https://cdn.plot.ly/plotly-2.24.1.min.js\"></script>                <div id=\"54adad87-b59a-4921-a504-8b0c09920aa3\" class=\"plotly-graph-div\" style=\"height:525px; width:100%;\"></div>            <script type=\"text/javascript\">                                    window.PLOTLYENV=window.PLOTLYENV || {};                                    if (document.getElementById(\"54adad87-b59a-4921-a504-8b0c09920aa3\")) {                    Plotly.newPlot(                        \"54adad87-b59a-4921-a504-8b0c09920aa3\",                        [{\"hovertemplate\":\"x=%{x}\\u003cbr\\u003ey=%{y}\\u003cbr\\u003etext=%{text}\\u003cextra\\u003e\\u003c\\u002fextra\\u003e\",\"legendgroup\":\"\",\"marker\":{\"color\":\"#636efa\",\"symbol\":\"circle\"},\"mode\":\"markers+text\",\"name\":\"\",\"orientation\":\"v\",\"showlegend\":false,\"text\":[\"the\",\"you\",\"and\",\"i\",\"to\",\"a\",\"me\",\"my\",\"of\",\"on\",\"yeah\",\"so\",\"in\",\"your\",\"baby\",\"love\",\"all\",\"don't\",\"it\",\"be\",\"i'm\",\"got\",\"is\",\"just\",\"know\",\"down\",\"it's\",\"well\",\"go\",\"we\",\"that\",\"for\",\"no\",\"she\",\"this\",\"see\",\"with\",\"they\",\"hey\",\"but\",\"now\",\"up\",\"can\",\"have\",\"like\",\"what\",\"he\",\"oh\",\"lord\",\"make\",\"get\",\"gonna\",\"out\",\"about\",\"her\",\"from\",\"mind\",\"let\",\"back\",\"right\",\"say\",\"one\",\"way\",\"hear\",\"take\",\"time\",\"around\",\"if\",\"that's\",\"can't\",\"do\",\"ain't\",\"through\",\"as\",\"come\",\"man\",\"said\",\"too\",\"stop\",\"little\",\"there\",\"here\",\"where\",\"when\",\"floatin'\",\"will\",\"at\",\"uh\",\"foxy\",\"live\",\"you've\",\"fly\",\"our\",\"sweet\",\"was\",\"his\",\"had\",\"going\",\"are\",\"been\",\"over\",\"free\",\"everybody\",\"away\",\"i'll\",\"alright\",\"day\",\"world\",\"sing\",\"better\",\"by\",\"feel\",\"stone\",\"look\",\"more\",\"us\",\"old\",\"long\",\"everything\",\"home\",\"or\",\"comin'\",\"want\",\"wanna\",\"train\",\"please\",\"not\",\"you're\",\"ah\",\"heart\",\"thing\",\"voodoo\",\"people\",\"some\",\"then\",\"made\",\"bad\",\"life\",\"side\",\"them\",\"angel\",\"today\",\"ever\",\"sea\",\"johnny\",\"him\",\"'round\",\"red\",\"mine\",\"together\",\"while\",\"ahead\",\"i've\",\"before\",\"think\",\"town\",\"give\",\"blue\",\"ya\",\"good\",\"straight\",\"chile\",\"very\",\"knows\",\"woman\",\"they're\",\"only\",\"never\",\"freedom\",\"child\",\"dig\",\"next\",\"an\",\"sun\",\"he's\",\"every\",\"same\",\"tell\",\"tomorrow\",\"experienced\",\"goin'\",\"their\",\"lady\",\"how\",\"girl\",\"coming\",\"could\",\"there's\",\"run\",\"earth\",\"thank\",\"sky\",\"wind\",\"die\",\"stay\",\"sand\",\"wild\",\"put\",\"fire\",\"comes\"],\"x\":[-19.34299659729004,22.516847610473633,-12.774518966674805,21.144250869750977,9.949739456176758,-18.305526733398438,10.925578117370605,8.68657398223877,-19.645732879638672,7.272740840911865,11.320186614990234,14.738706588745117,-16.297245025634766,-14.814159393310547,-13.015328407287598,-6.023405075073242,7.190028190612793,21.626176834106445,-11.931803703308105,15.037925720214844,-21.08841896057129,10.176149368286133,-17.55531883239746,17.332963943481445,21.358739852905273,-0.8570543527603149,2.942578077316284,16.604450225830078,0.30537161231040955,8.883957862854004,13.029086112976074,-11.221047401428223,19.072708129882812,-4.601346969604492,-18.135662078857422,21.90474510192871,10.09530258178711,19.922067642211914,11.786797523498535,17.56949234008789,15.602021217346191,-8.374300956726074,22.102863311767578,2.1543827056884766,12.694391250610352,22.15036392211914,9.501914024353027,17.757604598999023,-21.755693435668945,-5.899768829345703,9.933688163757324,14.558276176452637,-18.993881225585938,15.846440315246582,-12.265588760375977,-11.408941268920898,10.579438209533691,5.239936828613281,3.3458683490753174,2.192948818206787,21.06745719909668,-6.717723369598389,2.524557590484619,14.54854679107666,12.61026382446289,-14.498266220092773,-13.477519989013672,19.901399612426758,19.19780731201172,21.597341537475586,21.00960350036621,18.112018585205078,5.64542818069458,5.348731994628906,1.0041306018829346,-4.894466876983643,5.969751834869385,2.0344440937042236,-14.141538619995117,-16.77657127380371,5.604248523712158,-6.922894477844238,14.869355201721191,3.3238120079040527,10.697509765625,-10.482806205749512,-9.940847396850586,5.697719573974609,13.117437362670898,8.69433307647705,10.501251220703125,7.691994667053223,-2.7500226497650146,7.947719097137451,-15.956406593322754,-2.49399733543396,-4.690235614776611,14.246503829956055,-11.036572456359863,1.2661324739456177,-3.4404704570770264,16.214773178100586,-2.455368995666504,6.730660438537598,15.341802597045898,11.939175605773926,-5.417464256286621,-11.01336669921875,8.428743362426758,-12.413015365600586,-15.98641586303711,11.318002700805664,16.03761863708496,-18.572429656982422,17.234344482421875,-9.98604965209961,-9.472766876220703,0.6394640803337097,-4.9033379554748535,11.577452659606934,-8.254237174987793,14.238593101501465,21.128475189208984,20.333166122436523,14.110930442810059,11.125126838684082,1.7789359092712402,9.041006088256836,7.350118637084961,8.772586822509766,-5.072264671325684,-22.198047637939453,2.1481096744537354,12.214744567871094,6.489334583282471,-11.239612579345703,1.7656747102737427,-9.923977851867676,-16.082500457763672,-1.161389708518982,7.589366436004639,1.9152255058288574,1.2689546346664429,-14.819513320922852,0.29628172516822815,6.379546642303467,11.550236701965332,-10.835168838500977,9.11960220336914,3.3926548957824707,-6.836814880371094,3.375579595565796,8.00637435913086,-6.506213188171387,19.163043975830078,-18.736215591430664,9.480313301086426,-12.5985689163208,-9.710214614868164,14.635600090026855,3.3749399185180664,-20.650426864624023,0.3462991714477539,-21.18019676208496,-14.564729690551758,6.3186821937561035,0.3172056972980499,9.905152320861816,8.586307525634766,-20.78142547607422,11.711379051208496,4.92916202545166,-12.878105163574219,-7.083992958068848,10.83143138885498,-13.556029319763184,-4.482577323913574,10.997408866882324,6.51162576675415,-11.818324089050293,6.761085033416748,-5.761053562164307,12.57536506652832,13.60572624206543,-13.743958473205566,-12.935042381286621,13.547124862670898,8.091950416564941,5.94309663772583,-16.046154022216797,12.673633575439453,5.313980579376221,-10.397642135620117,5.647416114807129,14.933079719543457,-14.686112403869629,-4.98025369644165,-1.941225528717041,-8.079896926879883,-6.390058517456055],\"xaxis\":\"x\",\"y\":[-8.371139526367188,6.511312007904053,7.759485721588135,2.836456060409546,21.10655403137207,-0.24269765615463257,22.84693717956543,-16.302444458007812,-8.02355670928955,-19.06259536743164,-1.5550841093063354,-0.13509579002857208,-6.28396463394165,8.828022003173828,11.651006698608398,16.711801528930664,20.773283004760742,3.443737268447876,10.679762840270996,15.216750144958496,1.313658595085144,24.67005157470703,-10.197080612182617,3.1841492652893066,3.5511813163757324,-14.440994262695312,9.690661430358887,1.5792484283447266,-24.844921112060547,21.268997192382812,0.2753141522407532,-3.2358899116516113,5.677231311798096,-14.083526611328125,-10.927788734436035,7.425399303436279,-12.429390907287598,3.6888861656188965,21.299598693847656,3.934760570526123,9.191088676452637,-15.786385536193848,8.00443172454834,17.255233764648438,2.416076183319092,3.915731906890869,0.5980030298233032,5.434560298919678,2.4605319499969482,16.56837272644043,18.650440216064453,1.9109476804733276,-6.890317440032959,3.4818763732910156,4.90210485458374,-10.897916793823242,-8.21971321105957,23.57431411743164,-18.118793487548828,-17.506423950195312,4.562023162841797,6.0513200759887695,-10.132281303405762,-12.809067726135254,14.015625953674316,-4.334898471832275,9.739675521850586,8.257823944091797,4.075503826141357,5.994630813598633,4.7772955894470215,6.227513790130615,-18.19578742980957,7.068998336791992,-18.74881362915039,9.961380004882812,-16.222919464111328,11.931827545166016,11.755010604858398,-4.032641887664795,19.76404571533203,-1.9030154943466187,15.54421329498291,8.015501022338867,25.04212188720703,1.5678354501724243,-8.436430931091309,-10.436408042907715,-4.146704196929932,18.711591720581055,25.122833251953125,-19.33416175842285,-21.32805633544922,-19.467540740966797,-1.0330036878585815,-15.580676078796387,-14.158109664916992,16.22429084777832,-20.917360305786133,18.22512435913086,-17.945728302001953,14.947647094726562,4.3171234130859375,18.66888999938965,11.3648042678833,4.298681259155273,-10.686863899230957,-13.013029098510742,-14.6015625,10.884020805358887,7.989981651306152,2.1578433513641357,14.042723655700684,-5.715261936187744,7.987728595733643,7.621383190155029,-11.113897323608398,11.887325286865234,15.18183422088623,11.987135887145996,1.8429076671600342,-13.113911628723145,6.566971778869629,6.9577202796936035,-13.24553108215332,19.94853401184082,8.628274917602539,-9.097428321838379,16.54302406311035,-15.370848655700684,15.214582443237305,1.7435214519500732,6.692550182342529,15.785605430603027,-5.082838535308838,-8.650081634521484,11.476831436157227,-12.942920684814453,7.919310092926025,-21.266605377197266,-19.03847312927246,-6.269697666168213,17.30177879333496,-8.427224159240723,-24.841297149658203,5.8403143882751465,24.338184356689453,-10.245391845703125,23.52454948425293,-16.325725555419922,-12.6156644821167,-21.89969253540039,22.255260467529297,3.512564182281494,8.053973197937012,-12.568127632141113,14.024757385253906,-10.076953887939453,11.580811500549316,3.2808291912078857,-21.895536422729492,1.3387670516967773,10.457745552062988,1.8879731893539429,0.1516747772693634,4.621035099029541,4.626932144165039,22.069103240966797,12.959880828857422,1.3807673454284668,7.710628986358643,22.89643669128418,-7.499633312225342,-6.461674213409424,16.298181533813477,-6.154204845428467,6.018444538116455,14.66573715209961,-10.987820625305176,-20.378446578979492,-7.182145595550537,-17.3892822265625,-4.219582557678223,3.517430305480957,-0.01591302454471588,-4.180344104766846,4.999001502990723,7.633593559265137,13.340875625610352,-7.248027801513672,11.958094596862793,-17.371793746948242,0.21800458431243896,0.020322121679782867,11.003072738647461,-7.452411651611328,15.429218292236328,-12.517312049865723,-15.324150085449219,-1.5889980792999268],\"yaxis\":\"y\",\"type\":\"scatter\"}],                        {\"template\":{\"data\":{\"histogram2dcontour\":[{\"type\":\"histogram2dcontour\",\"colorbar\":{\"outlinewidth\":0,\"ticks\":\"\"},\"colorscale\":[[0.0,\"#0d0887\"],[0.1111111111111111,\"#46039f\"],[0.2222222222222222,\"#7201a8\"],[0.3333333333333333,\"#9c179e\"],[0.4444444444444444,\"#bd3786\"],[0.5555555555555556,\"#d8576b\"],[0.6666666666666666,\"#ed7953\"],[0.7777777777777778,\"#fb9f3a\"],[0.8888888888888888,\"#fdca26\"],[1.0,\"#f0f921\"]]}],\"choropleth\":[{\"type\":\"choropleth\",\"colorbar\":{\"outlinewidth\":0,\"ticks\":\"\"}}],\"histogram2d\":[{\"type\":\"histogram2d\",\"colorbar\":{\"outlinewidth\":0,\"ticks\":\"\"},\"colorscale\":[[0.0,\"#0d0887\"],[0.1111111111111111,\"#46039f\"],[0.2222222222222222,\"#7201a8\"],[0.3333333333333333,\"#9c179e\"],[0.4444444444444444,\"#bd3786\"],[0.5555555555555556,\"#d8576b\"],[0.6666666666666666,\"#ed7953\"],[0.7777777777777778,\"#fb9f3a\"],[0.8888888888888888,\"#fdca26\"],[1.0,\"#f0f921\"]]}],\"heatmap\":[{\"type\":\"heatmap\",\"colorbar\":{\"outlinewidth\":0,\"ticks\":\"\"},\"colorscale\":[[0.0,\"#0d0887\"],[0.1111111111111111,\"#46039f\"],[0.2222222222222222,\"#7201a8\"],[0.3333333333333333,\"#9c179e\"],[0.4444444444444444,\"#bd3786\"],[0.5555555555555556,\"#d8576b\"],[0.6666666666666666,\"#ed7953\"],[0.7777777777777778,\"#fb9f3a\"],[0.8888888888888888,\"#fdca26\"],[1.0,\"#f0f921\"]]}],\"heatmapgl\":[{\"type\":\"heatmapgl\",\"colorbar\":{\"outlinewidth\":0,\"ticks\":\"\"},\"colorscale\":[[0.0,\"#0d0887\"],[0.1111111111111111,\"#46039f\"],[0.2222222222222222,\"#7201a8\"],[0.3333333333333333,\"#9c179e\"],[0.4444444444444444,\"#bd3786\"],[0.5555555555555556,\"#d8576b\"],[0.6666666666666666,\"#ed7953\"],[0.7777777777777778,\"#fb9f3a\"],[0.8888888888888888,\"#fdca26\"],[1.0,\"#f0f921\"]]}],\"contourcarpet\":[{\"type\":\"contourcarpet\",\"colorbar\":{\"outlinewidth\":0,\"ticks\":\"\"}}],\"contour\":[{\"type\":\"contour\",\"colorbar\":{\"outlinewidth\":0,\"ticks\":\"\"},\"colorscale\":[[0.0,\"#0d0887\"],[0.1111111111111111,\"#46039f\"],[0.2222222222222222,\"#7201a8\"],[0.3333333333333333,\"#9c179e\"],[0.4444444444444444,\"#bd3786\"],[0.5555555555555556,\"#d8576b\"],[0.6666666666666666,\"#ed7953\"],[0.7777777777777778,\"#fb9f3a\"],[0.8888888888888888,\"#fdca26\"],[1.0,\"#f0f921\"]]}],\"surface\":[{\"type\":\"surface\",\"colorbar\":{\"outlinewidth\":0,\"ticks\":\"\"},\"colorscale\":[[0.0,\"#0d0887\"],[0.1111111111111111,\"#46039f\"],[0.2222222222222222,\"#7201a8\"],[0.3333333333333333,\"#9c179e\"],[0.4444444444444444,\"#bd3786\"],[0.5555555555555556,\"#d8576b\"],[0.6666666666666666,\"#ed7953\"],[0.7777777777777778,\"#fb9f3a\"],[0.8888888888888888,\"#fdca26\"],[1.0,\"#f0f921\"]]}],\"mesh3d\":[{\"type\":\"mesh3d\",\"colorbar\":{\"outlinewidth\":0,\"ticks\":\"\"}}],\"scatter\":[{\"fillpattern\":{\"fillmode\":\"overlay\",\"size\":10,\"solidity\":0.2},\"type\":\"scatter\"}],\"parcoords\":[{\"type\":\"parcoords\",\"line\":{\"colorbar\":{\"outlinewidth\":0,\"ticks\":\"\"}}}],\"scatterpolargl\":[{\"type\":\"scatterpolargl\",\"marker\":{\"colorbar\":{\"outlinewidth\":0,\"ticks\":\"\"}}}],\"bar\":[{\"error_x\":{\"color\":\"#2a3f5f\"},\"error_y\":{\"color\":\"#2a3f5f\"},\"marker\":{\"line\":{\"color\":\"#E5ECF6\",\"width\":0.5},\"pattern\":{\"fillmode\":\"overlay\",\"size\":10,\"solidity\":0.2}},\"type\":\"bar\"}],\"scattergeo\":[{\"type\":\"scattergeo\",\"marker\":{\"colorbar\":{\"outlinewidth\":0,\"ticks\":\"\"}}}],\"scatterpolar\":[{\"type\":\"scatterpolar\",\"marker\":{\"colorbar\":{\"outlinewidth\":0,\"ticks\":\"\"}}}],\"histogram\":[{\"marker\":{\"pattern\":{\"fillmode\":\"overlay\",\"size\":10,\"solidity\":0.2}},\"type\":\"histogram\"}],\"scattergl\":[{\"type\":\"scattergl\",\"marker\":{\"colorbar\":{\"outlinewidth\":0,\"ticks\":\"\"}}}],\"scatter3d\":[{\"type\":\"scatter3d\",\"line\":{\"colorbar\":{\"outlinewidth\":0,\"ticks\":\"\"}},\"marker\":{\"colorbar\":{\"outlinewidth\":0,\"ticks\":\"\"}}}],\"scattermapbox\":[{\"type\":\"scattermapbox\",\"marker\":{\"colorbar\":{\"outlinewidth\":0,\"ticks\":\"\"}}}],\"scatterternary\":[{\"type\":\"scatterternary\",\"marker\":{\"colorbar\":{\"outlinewidth\":0,\"ticks\":\"\"}}}],\"scattercarpet\":[{\"type\":\"scattercarpet\",\"marker\":{\"colorbar\":{\"outlinewidth\":0,\"ticks\":\"\"}}}],\"carpet\":[{\"aaxis\":{\"endlinecolor\":\"#2a3f5f\",\"gridcolor\":\"white\",\"linecolor\":\"white\",\"minorgridcolor\":\"white\",\"startlinecolor\":\"#2a3f5f\"},\"baxis\":{\"endlinecolor\":\"#2a3f5f\",\"gridcolor\":\"white\",\"linecolor\":\"white\",\"minorgridcolor\":\"white\",\"startlinecolor\":\"#2a3f5f\"},\"type\":\"carpet\"}],\"table\":[{\"cells\":{\"fill\":{\"color\":\"#EBF0F8\"},\"line\":{\"color\":\"white\"}},\"header\":{\"fill\":{\"color\":\"#C8D4E3\"},\"line\":{\"color\":\"white\"}},\"type\":\"table\"}],\"barpolar\":[{\"marker\":{\"line\":{\"color\":\"#E5ECF6\",\"width\":0.5},\"pattern\":{\"fillmode\":\"overlay\",\"size\":10,\"solidity\":0.2}},\"type\":\"barpolar\"}],\"pie\":[{\"automargin\":true,\"type\":\"pie\"}]},\"layout\":{\"autotypenumbers\":\"strict\",\"colorway\":[\"#636efa\",\"#EF553B\",\"#00cc96\",\"#ab63fa\",\"#FFA15A\",\"#19d3f3\",\"#FF6692\",\"#B6E880\",\"#FF97FF\",\"#FECB52\"],\"font\":{\"color\":\"#2a3f5f\"},\"hovermode\":\"closest\",\"hoverlabel\":{\"align\":\"left\"},\"paper_bgcolor\":\"white\",\"plot_bgcolor\":\"#E5ECF6\",\"polar\":{\"bgcolor\":\"#E5ECF6\",\"angularaxis\":{\"gridcolor\":\"white\",\"linecolor\":\"white\",\"ticks\":\"\"},\"radialaxis\":{\"gridcolor\":\"white\",\"linecolor\":\"white\",\"ticks\":\"\"}},\"ternary\":{\"bgcolor\":\"#E5ECF6\",\"aaxis\":{\"gridcolor\":\"white\",\"linecolor\":\"white\",\"ticks\":\"\"},\"baxis\":{\"gridcolor\":\"white\",\"linecolor\":\"white\",\"ticks\":\"\"},\"caxis\":{\"gridcolor\":\"white\",\"linecolor\":\"white\",\"ticks\":\"\"}},\"coloraxis\":{\"colorbar\":{\"outlinewidth\":0,\"ticks\":\"\"}},\"colorscale\":{\"sequential\":[[0.0,\"#0d0887\"],[0.1111111111111111,\"#46039f\"],[0.2222222222222222,\"#7201a8\"],[0.3333333333333333,\"#9c179e\"],[0.4444444444444444,\"#bd3786\"],[0.5555555555555556,\"#d8576b\"],[0.6666666666666666,\"#ed7953\"],[0.7777777777777778,\"#fb9f3a\"],[0.8888888888888888,\"#fdca26\"],[1.0,\"#f0f921\"]],\"sequentialminus\":[[0.0,\"#0d0887\"],[0.1111111111111111,\"#46039f\"],[0.2222222222222222,\"#7201a8\"],[0.3333333333333333,\"#9c179e\"],[0.4444444444444444,\"#bd3786\"],[0.5555555555555556,\"#d8576b\"],[0.6666666666666666,\"#ed7953\"],[0.7777777777777778,\"#fb9f3a\"],[0.8888888888888888,\"#fdca26\"],[1.0,\"#f0f921\"]],\"diverging\":[[0,\"#8e0152\"],[0.1,\"#c51b7d\"],[0.2,\"#de77ae\"],[0.3,\"#f1b6da\"],[0.4,\"#fde0ef\"],[0.5,\"#f7f7f7\"],[0.6,\"#e6f5d0\"],[0.7,\"#b8e186\"],[0.8,\"#7fbc41\"],[0.9,\"#4d9221\"],[1,\"#276419\"]]},\"xaxis\":{\"gridcolor\":\"white\",\"linecolor\":\"white\",\"ticks\":\"\",\"title\":{\"standoff\":15},\"zerolinecolor\":\"white\",\"automargin\":true,\"zerolinewidth\":2},\"yaxis\":{\"gridcolor\":\"white\",\"linecolor\":\"white\",\"ticks\":\"\",\"title\":{\"standoff\":15},\"zerolinecolor\":\"white\",\"automargin\":true,\"zerolinewidth\":2},\"scene\":{\"xaxis\":{\"backgroundcolor\":\"#E5ECF6\",\"gridcolor\":\"white\",\"linecolor\":\"white\",\"showbackground\":true,\"ticks\":\"\",\"zerolinecolor\":\"white\",\"gridwidth\":2},\"yaxis\":{\"backgroundcolor\":\"#E5ECF6\",\"gridcolor\":\"white\",\"linecolor\":\"white\",\"showbackground\":true,\"ticks\":\"\",\"zerolinecolor\":\"white\",\"gridwidth\":2},\"zaxis\":{\"backgroundcolor\":\"#E5ECF6\",\"gridcolor\":\"white\",\"linecolor\":\"white\",\"showbackground\":true,\"ticks\":\"\",\"zerolinecolor\":\"white\",\"gridwidth\":2}},\"shapedefaults\":{\"line\":{\"color\":\"#2a3f5f\"}},\"annotationdefaults\":{\"arrowcolor\":\"#2a3f5f\",\"arrowhead\":0,\"arrowwidth\":1},\"geo\":{\"bgcolor\":\"white\",\"landcolor\":\"#E5ECF6\",\"subunitcolor\":\"white\",\"showland\":true,\"showlakes\":true,\"lakecolor\":\"white\"},\"title\":{\"x\":0.05},\"mapbox\":{\"style\":\"light\"}}},\"xaxis\":{\"anchor\":\"y\",\"domain\":[0.0,1.0],\"title\":{\"text\":\"x\"}},\"yaxis\":{\"anchor\":\"x\",\"domain\":[0.0,1.0],\"title\":{\"text\":\"y\"}},\"legend\":{\"tracegroupgap\":0},\"margin\":{\"t\":60}},                        {\"responsive\": true}                    ).then(function(){\n",
              "                            \n",
              "var gd = document.getElementById('54adad87-b59a-4921-a504-8b0c09920aa3');\n",
              "var x = new MutationObserver(function (mutations, observer) {{\n",
              "        var display = window.getComputedStyle(gd).display;\n",
              "        if (!display || display === 'none') {{\n",
              "            console.log([gd, 'removed!']);\n",
              "            Plotly.purge(gd);\n",
              "            observer.disconnect();\n",
              "        }}\n",
              "}});\n",
              "\n",
              "// Listen for the removal of the full notebook cells\n",
              "var notebookContainer = gd.closest('#notebook-container');\n",
              "if (notebookContainer) {{\n",
              "    x.observe(notebookContainer, {childList: true});\n",
              "}}\n",
              "\n",
              "// Listen for the clearing of the current output cell\n",
              "var outputEl = gd.closest('.output');\n",
              "if (outputEl) {{\n",
              "    x.observe(outputEl, {childList: true});\n",
              "}}\n",
              "\n",
              "                        })                };                            </script>        </div>\n",
              "</body>\n",
              "</html>"
            ]
          },
          "metadata": {}
        }
      ],
      "source": [
        "# Graficar los embedddings en 2D\n",
        "import plotly.graph_objects as go\n",
        "import plotly.express as px\n",
        "\n",
        "vecs, labels = reduce_dimensions(w2v_model)\n",
        "\n",
        "MAX_WORDS=200\n",
        "fig = px.scatter(x=vecs[:MAX_WORDS,0], y=vecs[:MAX_WORDS,1], text=labels[:MAX_WORDS])\n",
        "fig.show(renderer=\"colab\") # esto para plotly en colab"
      ]
    },
    {
      "cell_type": "code",
      "execution_count": null,
      "metadata": {
        "id": "YUPiT7nS91X9",
        "colab": {
          "base_uri": "https://localhost:8080/",
          "height": 542
        },
        "outputId": "f0b40d3c-6f03-442e-a78d-470efdb7c5e8"
      },
      "outputs": [
        {
          "output_type": "display_data",
          "data": {
            "text/html": [
              "<html>\n",
              "<head><meta charset=\"utf-8\" /></head>\n",
              "<body>\n",
              "    <div>            <script src=\"https://cdnjs.cloudflare.com/ajax/libs/mathjax/2.7.5/MathJax.js?config=TeX-AMS-MML_SVG\"></script><script type=\"text/javascript\">if (window.MathJax && window.MathJax.Hub && window.MathJax.Hub.Config) {window.MathJax.Hub.Config({SVG: {font: \"STIX-Web\"}});}</script>                <script type=\"text/javascript\">window.PlotlyConfig = {MathJaxConfig: 'local'};</script>\n",
              "        <script charset=\"utf-8\" src=\"https://cdn.plot.ly/plotly-2.24.1.min.js\"></script>                <div id=\"fe253f93-c6d3-4c60-8dd1-7bcded91f112\" class=\"plotly-graph-div\" style=\"height:525px; width:100%;\"></div>            <script type=\"text/javascript\">                                    window.PLOTLYENV=window.PLOTLYENV || {};                                    if (document.getElementById(\"fe253f93-c6d3-4c60-8dd1-7bcded91f112\")) {                    Plotly.newPlot(                        \"fe253f93-c6d3-4c60-8dd1-7bcded91f112\",                        [{\"hovertemplate\":\"x=%{x}\\u003cbr\\u003ey=%{y}\\u003cbr\\u003ez=%{z}\\u003cbr\\u003etext=%{text}\\u003cextra\\u003e\\u003c\\u002fextra\\u003e\",\"legendgroup\":\"\",\"marker\":{\"color\":\"#636efa\",\"symbol\":\"circle\",\"size\":2},\"mode\":\"markers+text\",\"name\":\"\",\"scene\":\"scene\",\"showlegend\":false,\"text\":[\"the\",\"you\",\"and\",\"i\",\"to\",\"a\",\"me\",\"my\",\"of\",\"on\",\"yeah\",\"so\",\"in\",\"your\",\"baby\",\"love\",\"all\",\"don't\",\"it\",\"be\",\"i'm\",\"got\",\"is\",\"just\",\"know\",\"down\",\"it's\",\"well\",\"go\",\"we\",\"that\",\"for\",\"no\",\"she\",\"this\",\"see\",\"with\",\"they\",\"hey\",\"but\",\"now\",\"up\",\"can\",\"have\",\"like\",\"what\",\"he\",\"oh\",\"lord\",\"make\",\"get\",\"gonna\",\"out\",\"about\",\"her\",\"from\",\"mind\",\"let\",\"back\",\"right\",\"say\",\"one\",\"way\",\"hear\",\"take\",\"time\",\"around\",\"if\",\"that's\",\"can't\",\"do\",\"ain't\",\"through\",\"as\",\"come\",\"man\",\"said\",\"too\",\"stop\",\"little\",\"there\",\"here\",\"where\",\"when\",\"floatin'\",\"will\",\"at\",\"uh\",\"foxy\",\"live\",\"you've\",\"fly\",\"our\",\"sweet\",\"was\",\"his\",\"had\",\"going\",\"are\",\"been\",\"over\",\"free\",\"everybody\",\"away\",\"i'll\",\"alright\",\"day\",\"world\",\"sing\",\"better\",\"by\",\"feel\",\"stone\",\"look\",\"more\",\"us\",\"old\",\"long\",\"everything\",\"home\",\"or\",\"comin'\",\"want\",\"wanna\",\"train\",\"please\",\"not\",\"you're\",\"ah\",\"heart\",\"thing\",\"voodoo\",\"people\",\"some\",\"then\",\"made\",\"bad\",\"life\",\"side\",\"them\",\"angel\",\"today\",\"ever\",\"sea\",\"johnny\",\"him\",\"'round\",\"red\",\"mine\",\"together\",\"while\",\"ahead\",\"i've\",\"before\",\"think\",\"town\",\"give\",\"blue\",\"ya\",\"good\",\"straight\",\"chile\",\"very\",\"knows\",\"woman\",\"they're\",\"only\",\"never\",\"freedom\",\"child\",\"dig\",\"next\",\"an\",\"sun\",\"he's\",\"every\",\"same\",\"tell\",\"tomorrow\",\"experienced\",\"goin'\",\"their\",\"lady\",\"how\",\"girl\",\"coming\",\"could\",\"there's\",\"run\",\"earth\",\"thank\",\"sky\",\"wind\",\"die\",\"stay\",\"sand\",\"wild\",\"put\",\"fire\",\"comes\"],\"x\":[-10.10175609588623,14.264789581298828,0.5227391719818115,17.645164489746094,3.0116612911224365,-15.338516235351562,1.8790425062179565,-9.983321189880371,-10.20828628540039,-13.496713638305664,12.056906700134277,5.470081806182861,-11.291614532470703,1.6949458122253418,4.370125770568848,-4.932568073272705,-0.9470610618591309,17.657730102539062,4.640669822692871,8.139704704284668,-14.271763801574707,-0.2945713400840759,-7.155429840087891,13.205209732055664,16.758373260498047,-7.607112407684326,8.434802055358887,12.569893836975098,-9.139128684997559,1.7881325483322144,9.71408748626709,-3.4276115894317627,16.000049591064453,-5.428298473358154,-5.287765026092529,13.363862991333008,-11.786189079284668,15.979633331298828,0.08495282381772995,14.15109920501709,8.609861373901367,-2.946057081222534,13.182662010192871,10.069169998168945,12.829968452453613,18.18609619140625,7.98715877532959,14.062033653259277,-12.757384300231934,-4.421520709991455,1.7547898292541504,12.42264461517334,-9.490793228149414,13.726324081420898,-1.2853058576583862,-9.109265327453613,-11.559052467346191,4.238048553466797,-12.171216011047363,-11.763751983642578,16.17466163635254,6.5288310050964355,-6.249847888946533,-17.40627098083496,6.9200544357299805,-13.971664428710938,1.5088565349578857,11.467377662658691,16.051742553710938,15.162424087524414,16.781055450439453,15.107311248779297,-12.546659469604492,10.999161720275879,-2.3598363399505615,-4.171859264373779,-12.968777656555176,8.259746551513672,2.592393159866333,-12.891115188598633,1.4186233282089233,0.807197093963623,7.572237014770508,7.133111953735352,-0.8349840641021729,-3.168447971343994,-4.9511942863464355,-6.151902198791504,10.89477825164795,-1.919750452041626,-1.3806227445602417,-13.871023178100586,1.020195484161377,-14.040229797363281,-1.4708359241485596,-12.527835845947266,-5.142075538635254,6.694149971008301,5.847925662994385,9.659421920776367,-7.9861955642700195,8.52674388885498,0.9758172631263733,-0.8181648254394531,10.774908065795898,8.985349655151367,-8.994412422180176,-11.504137992858887,-6.887136459350586,4.003284931182861,-9.247447967529297,11.90158748626709,9.248748779296875,-8.799808502197266,13.718623161315918,2.8595526218414307,-8.938948631286621,8.194003105163574,-3.2296571731567383,5.501898765563965,-0.8442373275756836,-17.05653953552246,13.954626083374023,13.4390869140625,-16.847000122070312,3.443490743637085,6.5859856605529785,1.8564651012420654,1.3217390775680542,-8.457480430603027,-2.435688018798828,-14.470539093017578,4.950493812561035,5.108788967132568,0.7398536205291748,-7.027308464050293,7.883019924163818,-11.526591300964355,-9.39774227142334,-1.020548701286316,-12.845002174377441,-1.6031405925750732,10.451703071594238,-10.843616485595703,-9.286846160888672,10.548355102539062,-0.12830698490142822,-8.186863899230957,-0.7759066820144653,-11.823409080505371,-11.253785133361816,-14.5149564743042,0.6791523098945618,3.5923495292663574,11.256261825561523,-3.14058780670166,3.169905185699463,-5.877984523773193,2.671330213546753,11.517434120178223,-14.435975074768066,-14.411626815795898,5.8592095375061035,-13.261332511901855,-0.7894431948661804,8.800580024719238,5.9918718338012695,1.3027126789093018,4.418598175048828,-13.838360786437988,7.423928260803223,2.7913520336151123,-9.849245071411133,-2.5146918296813965,3.049525499343872,-7.040226936340332,3.8236238956451416,4.488589286804199,-7.9149580001831055,6.891316890716553,-0.3419557511806488,-8.17932415008545,9.798848152160645,12.148065567016602,0.6764801144599915,-8.873858451843262,9.217645645141602,10.256463050842285,0.9804338812828064,-8.055627822875977,7.78751277923584,-11.573921203613281,-4.664653301239014,3.7586629390716553,9.84414005279541,-9.675071716308594,-2.9989001750946045,-2.894585371017456,-2.1935806274414062,0.1519402116537094],\"y\":[8.69077205657959,-7.086052894592285,-6.711932182312012,-2.591768503189087,-13.010978698730469,-6.546591281890869,-14.496386528015137,0.9682676792144775,9.926918029785156,-0.6376514434814453,4.37037467956543,2.719904899597168,8.394204139709473,-7.0059285163879395,-9.2433443069458,2.6006417274475098,-11.482804298400879,-4.480282783508301,-6.70849084854126,-6.840279579162598,-9.618613243103027,-16.069700241088867,7.852557182312012,-1.0506831407546997,-3.7774851322174072,-6.754475116729736,4.969628810882568,1.8271204233169556,-9.95369815826416,-12.086833953857422,0.8914963603019714,8.684102058410645,-5.189741134643555,-6.611603736877441,8.230978965759277,-6.725780010223389,8.208507537841797,-2.726365804672241,-11.78396987915039,-1.90519118309021,-5.169373512268066,-2.593172073364258,-7.053481101989746,1.4164034128189087,0.27643290162086487,-4.1182355880737305,3.9722282886505127,-4.139861106872559,-9.057741165161133,2.08614182472229,-10.204602241516113,2.4058284759521484,11.507144927978516,-0.041077621281147,-4.749224662780762,7.667562484741211,11.60564136505127,-11.853368759155273,-4.257399082183838,-4.240148544311523,-4.79174280166626,10.208941459655762,-5.48369836807251,-7.002181529998779,-9.594991683959961,7.355611801147461,-8.215662002563477,-4.868667125701904,-2.5301835536956787,-5.978756427764893,-4.8803815841674805,-3.7062923908233643,-2.0894734859466553,6.3556318283081055,-7.196430206298828,-0.26262354850769043,-0.2440032660961151,7.2861552238464355,-10.234601974487305,10.20922565460205,-9.633709907531738,8.26430892944336,-6.19718599319458,1.9082708358764648,-16.114093780517578,2.2129323482513428,6.855188369750977,-4.312812805175781,9.110851287841797,-10.820732116699219,-16.316091537475586,0.1732434630393982,-0.4004479944705963,0.973967969417572,11.749824523925781,5.319533824920654,-6.739841938018799,-4.889405250549316,-0.6114319562911987,2.5526835918426514,-6.157418727874756,-8.736151695251465,7.99865198135376,-8.57590103149414,-6.040349960327148,2.980011463165283,0.784236490726471,4.885525226593018,2.017050266265869,-7.73159122467041,2.4187192916870117,2.5135159492492676,-7.6844305992126465,11.918234825134277,-5.040204048156738,-2.812363386154175,4.627182483673096,4.964811325073242,0.4581982493400574,-7.071386814117432,3.4769644737243652,-6.345848560333252,-5.242223739624023,-4.146877288818359,-5.875502109527588,-11.843538284301758,5.787670135498047,10.09776782989502,-8.718113899230957,1.4513660669326782,1.3838549852371216,-9.117300033569336,1.6531498432159424,-6.6621994972229,-3.9997451305389404,7.765335559844971,6.218825817108154,4.217074394226074,2.661210536956787,1.3220030069351196,0.27110716700553894,-3.522519111633301,2.947636365890503,6.5432562828063965,-9.85292911529541,3.429217576980591,-14.956894874572754,6.365147590637207,-14.317628860473633,-2.020819902420044,1.5606060028076172,-0.5253403186798096,-13.667057037353516,6.715752601623535,-3.3623571395874023,7.376007080078125,-6.749915599822998,5.361689567565918,-8.23699951171875,0.03059513494372368,-0.40873652696609497,-8.25306224822998,4.708006858825684,-8.735246658325195,10.612588882446289,4.435150146484375,8.542308807373047,-13.288321495056152,-8.523837089538574,-8.733449935913086,-3.2415101528167725,-12.10291576385498,5.679320335388184,5.587558269500732,-6.331559181213379,8.49718952178955,9.441157341003418,-8.47044563293457,-4.364243507385254,0.18741711974143982,-4.575601100921631,-3.1756396293640137,9.052392959594727,-0.6261717081069946,10.439273834228516,10.269912719726562,-1.902471899986267,-0.17065726220607758,-4.9244513511657715,9.295759201049805,-8.150773048400879,-1.246994137763977,3.138085126876831,-3.533189058303833,-5.512634754180908,7.318861484527588,0.57889324426651,-7.598760604858398,-2.44645357131958,7.868045330047607],\"z\":[5.5644989013671875,3.2197036743164062,5.216218948364258,4.537622928619385,-5.232180118560791,-6.156017780303955,-3.065289258956909,5.556587219238281,5.71948766708374,5.230912208557129,4.79702615737915,9.51602554321289,3.7556917667388916,8.698784828186035,7.165568828582764,11.872868537902832,-6.791663646697998,5.000011920928955,7.774486064910889,-7.070075988769531,-8.261425971984863,-3.9097321033477783,5.7630486488342285,4.6207146644592285,4.93876838684082,-0.7446150183677673,6.422224521636963,5.162163734436035,1.9805006980895996,-6.155082702636719,4.121231555938721,-4.535909652709961,0.5443894863128662,-8.265169143676758,5.782236099243164,4.7438178062438965,-1.1480748653411865,3.3979170322418213,-2.0223636627197266,3.494892120361328,2.2753095626831055,-8.114874839782715,5.937437057495117,11.527714729309082,-1.6783342361450195,3.3781983852386475,2.3611438274383545,1.7728264331817627,-10.011285781860352,12.078544616699219,-2.983354330062866,1.626478672027588,4.587864875793457,2.200221538543701,7.412344932556152,-4.222728729248047,0.5465075969696045,-0.40907523036003113,1.5510923862457275,-0.9866924285888672,3.8143954277038574,-1.5263464450836182,0.028612205758690834,-1.2400991916656494,-2.6087772846221924,0.3817870020866394,6.625297546386719,4.634451866149902,1.8136820793151855,4.500119209289551,2.6480824947357178,0.07152556627988815,4.037562370300293,-3.159327745437622,3.213376045227051,5.889822006225586,2.086930513381958,8.99887466430664,7.50917911529541,2.3185458183288574,-7.839438438415527,5.880378723144531,-7.327009201049805,6.899109840393066,-2.5454323291778564,7.47554349899292,-1.947391390800476,3.3786213397979736,2.375962018966675,-4.014363765716553,-3.2292466163635254,6.139582633972168,-10.032119750976562,5.307172775268555,2.1738393306732178,3.4030466079711914,-9.149209976196289,-7.229098796844482,-7.867344379425049,13.330436706542969,-4.280632972717285,-6.675651550292969,1.0535069704055786,-6.781149864196777,-3.434988260269165,5.718715190887451,-5.306722164154053,-0.9485296607017517,5.434032440185547,7.286943435668945,-10.624378204345703,-0.9978381395339966,-5.598316669464111,2.18703031539917,-1.5774248838424683,6.31448221206665,-5.066762447357178,10.292864799499512,11.298680305480957,0.7346774935722351,6.592898845672607,-1.9260046482086182,4.242623329162598,5.154953956604004,-2.3793816566467285,-3.350320339202881,5.543249607086182,-4.544088363647461,-1.3086730241775513,5.710300445556641,11.487759590148926,-10.163192749023438,5.980133533477783,-6.386323928833008,1.4084932804107666,-2.0781986713409424,8.639885902404785,-2.5256075859069824,-10.449501991271973,-9.484481811523438,5.540149688720703,-0.4445667564868927,11.89673137664795,3.959068775177002,2.1344499588012695,-3.2598769664764404,-1.623963475227356,-3.825984239578247,-5.164669036865234,-0.10872882604598999,-0.8016608953475952,-3.4743716716766357,-6.9166460037231445,5.837517738342285,4.543915271759033,6.411014080047607,-0.33993983268737793,-5.767177581787109,3.268033027648926,3.068042278289795,-3.333002805709839,-7.907023906707764,9.303281784057617,-8.826641082763672,-1.9743492603302002,-2.1481621265411377,-1.2419414520263672,-4.678340435028076,-4.495693206787109,-7.65744161605835,-0.18929308652877808,0.5843888521194458,0.6049256920814514,-8.103198051452637,-6.240589618682861,0.5384066104888916,2.2179737091064453,-1.6642646789550781,4.478272914886475,-8.425434112548828,-2.8362905979156494,-6.417752742767334,2.372145891189575,-0.0331542082130909,-1.4100873470306396,-1.0745359659194946,4.0898118019104,-4.737709045410156,-4.882274627685547,2.720940113067627,0.2243186980485916,3.277493715286255,6.741804122924805,-4.352322578430176,-2.6982152462005615,2.853764057159424,12.304828643798828,-3.433119297027588,-6.92122220993042,4.418397903442383],\"type\":\"scatter3d\"}],                        {\"template\":{\"data\":{\"histogram2dcontour\":[{\"type\":\"histogram2dcontour\",\"colorbar\":{\"outlinewidth\":0,\"ticks\":\"\"},\"colorscale\":[[0.0,\"#0d0887\"],[0.1111111111111111,\"#46039f\"],[0.2222222222222222,\"#7201a8\"],[0.3333333333333333,\"#9c179e\"],[0.4444444444444444,\"#bd3786\"],[0.5555555555555556,\"#d8576b\"],[0.6666666666666666,\"#ed7953\"],[0.7777777777777778,\"#fb9f3a\"],[0.8888888888888888,\"#fdca26\"],[1.0,\"#f0f921\"]]}],\"choropleth\":[{\"type\":\"choropleth\",\"colorbar\":{\"outlinewidth\":0,\"ticks\":\"\"}}],\"histogram2d\":[{\"type\":\"histogram2d\",\"colorbar\":{\"outlinewidth\":0,\"ticks\":\"\"},\"colorscale\":[[0.0,\"#0d0887\"],[0.1111111111111111,\"#46039f\"],[0.2222222222222222,\"#7201a8\"],[0.3333333333333333,\"#9c179e\"],[0.4444444444444444,\"#bd3786\"],[0.5555555555555556,\"#d8576b\"],[0.6666666666666666,\"#ed7953\"],[0.7777777777777778,\"#fb9f3a\"],[0.8888888888888888,\"#fdca26\"],[1.0,\"#f0f921\"]]}],\"heatmap\":[{\"type\":\"heatmap\",\"colorbar\":{\"outlinewidth\":0,\"ticks\":\"\"},\"colorscale\":[[0.0,\"#0d0887\"],[0.1111111111111111,\"#46039f\"],[0.2222222222222222,\"#7201a8\"],[0.3333333333333333,\"#9c179e\"],[0.4444444444444444,\"#bd3786\"],[0.5555555555555556,\"#d8576b\"],[0.6666666666666666,\"#ed7953\"],[0.7777777777777778,\"#fb9f3a\"],[0.8888888888888888,\"#fdca26\"],[1.0,\"#f0f921\"]]}],\"heatmapgl\":[{\"type\":\"heatmapgl\",\"colorbar\":{\"outlinewidth\":0,\"ticks\":\"\"},\"colorscale\":[[0.0,\"#0d0887\"],[0.1111111111111111,\"#46039f\"],[0.2222222222222222,\"#7201a8\"],[0.3333333333333333,\"#9c179e\"],[0.4444444444444444,\"#bd3786\"],[0.5555555555555556,\"#d8576b\"],[0.6666666666666666,\"#ed7953\"],[0.7777777777777778,\"#fb9f3a\"],[0.8888888888888888,\"#fdca26\"],[1.0,\"#f0f921\"]]}],\"contourcarpet\":[{\"type\":\"contourcarpet\",\"colorbar\":{\"outlinewidth\":0,\"ticks\":\"\"}}],\"contour\":[{\"type\":\"contour\",\"colorbar\":{\"outlinewidth\":0,\"ticks\":\"\"},\"colorscale\":[[0.0,\"#0d0887\"],[0.1111111111111111,\"#46039f\"],[0.2222222222222222,\"#7201a8\"],[0.3333333333333333,\"#9c179e\"],[0.4444444444444444,\"#bd3786\"],[0.5555555555555556,\"#d8576b\"],[0.6666666666666666,\"#ed7953\"],[0.7777777777777778,\"#fb9f3a\"],[0.8888888888888888,\"#fdca26\"],[1.0,\"#f0f921\"]]}],\"surface\":[{\"type\":\"surface\",\"colorbar\":{\"outlinewidth\":0,\"ticks\":\"\"},\"colorscale\":[[0.0,\"#0d0887\"],[0.1111111111111111,\"#46039f\"],[0.2222222222222222,\"#7201a8\"],[0.3333333333333333,\"#9c179e\"],[0.4444444444444444,\"#bd3786\"],[0.5555555555555556,\"#d8576b\"],[0.6666666666666666,\"#ed7953\"],[0.7777777777777778,\"#fb9f3a\"],[0.8888888888888888,\"#fdca26\"],[1.0,\"#f0f921\"]]}],\"mesh3d\":[{\"type\":\"mesh3d\",\"colorbar\":{\"outlinewidth\":0,\"ticks\":\"\"}}],\"scatter\":[{\"fillpattern\":{\"fillmode\":\"overlay\",\"size\":10,\"solidity\":0.2},\"type\":\"scatter\"}],\"parcoords\":[{\"type\":\"parcoords\",\"line\":{\"colorbar\":{\"outlinewidth\":0,\"ticks\":\"\"}}}],\"scatterpolargl\":[{\"type\":\"scatterpolargl\",\"marker\":{\"colorbar\":{\"outlinewidth\":0,\"ticks\":\"\"}}}],\"bar\":[{\"error_x\":{\"color\":\"#2a3f5f\"},\"error_y\":{\"color\":\"#2a3f5f\"},\"marker\":{\"line\":{\"color\":\"#E5ECF6\",\"width\":0.5},\"pattern\":{\"fillmode\":\"overlay\",\"size\":10,\"solidity\":0.2}},\"type\":\"bar\"}],\"scattergeo\":[{\"type\":\"scattergeo\",\"marker\":{\"colorbar\":{\"outlinewidth\":0,\"ticks\":\"\"}}}],\"scatterpolar\":[{\"type\":\"scatterpolar\",\"marker\":{\"colorbar\":{\"outlinewidth\":0,\"ticks\":\"\"}}}],\"histogram\":[{\"marker\":{\"pattern\":{\"fillmode\":\"overlay\",\"size\":10,\"solidity\":0.2}},\"type\":\"histogram\"}],\"scattergl\":[{\"type\":\"scattergl\",\"marker\":{\"colorbar\":{\"outlinewidth\":0,\"ticks\":\"\"}}}],\"scatter3d\":[{\"type\":\"scatter3d\",\"line\":{\"colorbar\":{\"outlinewidth\":0,\"ticks\":\"\"}},\"marker\":{\"colorbar\":{\"outlinewidth\":0,\"ticks\":\"\"}}}],\"scattermapbox\":[{\"type\":\"scattermapbox\",\"marker\":{\"colorbar\":{\"outlinewidth\":0,\"ticks\":\"\"}}}],\"scatterternary\":[{\"type\":\"scatterternary\",\"marker\":{\"colorbar\":{\"outlinewidth\":0,\"ticks\":\"\"}}}],\"scattercarpet\":[{\"type\":\"scattercarpet\",\"marker\":{\"colorbar\":{\"outlinewidth\":0,\"ticks\":\"\"}}}],\"carpet\":[{\"aaxis\":{\"endlinecolor\":\"#2a3f5f\",\"gridcolor\":\"white\",\"linecolor\":\"white\",\"minorgridcolor\":\"white\",\"startlinecolor\":\"#2a3f5f\"},\"baxis\":{\"endlinecolor\":\"#2a3f5f\",\"gridcolor\":\"white\",\"linecolor\":\"white\",\"minorgridcolor\":\"white\",\"startlinecolor\":\"#2a3f5f\"},\"type\":\"carpet\"}],\"table\":[{\"cells\":{\"fill\":{\"color\":\"#EBF0F8\"},\"line\":{\"color\":\"white\"}},\"header\":{\"fill\":{\"color\":\"#C8D4E3\"},\"line\":{\"color\":\"white\"}},\"type\":\"table\"}],\"barpolar\":[{\"marker\":{\"line\":{\"color\":\"#E5ECF6\",\"width\":0.5},\"pattern\":{\"fillmode\":\"overlay\",\"size\":10,\"solidity\":0.2}},\"type\":\"barpolar\"}],\"pie\":[{\"automargin\":true,\"type\":\"pie\"}]},\"layout\":{\"autotypenumbers\":\"strict\",\"colorway\":[\"#636efa\",\"#EF553B\",\"#00cc96\",\"#ab63fa\",\"#FFA15A\",\"#19d3f3\",\"#FF6692\",\"#B6E880\",\"#FF97FF\",\"#FECB52\"],\"font\":{\"color\":\"#2a3f5f\"},\"hovermode\":\"closest\",\"hoverlabel\":{\"align\":\"left\"},\"paper_bgcolor\":\"white\",\"plot_bgcolor\":\"#E5ECF6\",\"polar\":{\"bgcolor\":\"#E5ECF6\",\"angularaxis\":{\"gridcolor\":\"white\",\"linecolor\":\"white\",\"ticks\":\"\"},\"radialaxis\":{\"gridcolor\":\"white\",\"linecolor\":\"white\",\"ticks\":\"\"}},\"ternary\":{\"bgcolor\":\"#E5ECF6\",\"aaxis\":{\"gridcolor\":\"white\",\"linecolor\":\"white\",\"ticks\":\"\"},\"baxis\":{\"gridcolor\":\"white\",\"linecolor\":\"white\",\"ticks\":\"\"},\"caxis\":{\"gridcolor\":\"white\",\"linecolor\":\"white\",\"ticks\":\"\"}},\"coloraxis\":{\"colorbar\":{\"outlinewidth\":0,\"ticks\":\"\"}},\"colorscale\":{\"sequential\":[[0.0,\"#0d0887\"],[0.1111111111111111,\"#46039f\"],[0.2222222222222222,\"#7201a8\"],[0.3333333333333333,\"#9c179e\"],[0.4444444444444444,\"#bd3786\"],[0.5555555555555556,\"#d8576b\"],[0.6666666666666666,\"#ed7953\"],[0.7777777777777778,\"#fb9f3a\"],[0.8888888888888888,\"#fdca26\"],[1.0,\"#f0f921\"]],\"sequentialminus\":[[0.0,\"#0d0887\"],[0.1111111111111111,\"#46039f\"],[0.2222222222222222,\"#7201a8\"],[0.3333333333333333,\"#9c179e\"],[0.4444444444444444,\"#bd3786\"],[0.5555555555555556,\"#d8576b\"],[0.6666666666666666,\"#ed7953\"],[0.7777777777777778,\"#fb9f3a\"],[0.8888888888888888,\"#fdca26\"],[1.0,\"#f0f921\"]],\"diverging\":[[0,\"#8e0152\"],[0.1,\"#c51b7d\"],[0.2,\"#de77ae\"],[0.3,\"#f1b6da\"],[0.4,\"#fde0ef\"],[0.5,\"#f7f7f7\"],[0.6,\"#e6f5d0\"],[0.7,\"#b8e186\"],[0.8,\"#7fbc41\"],[0.9,\"#4d9221\"],[1,\"#276419\"]]},\"xaxis\":{\"gridcolor\":\"white\",\"linecolor\":\"white\",\"ticks\":\"\",\"title\":{\"standoff\":15},\"zerolinecolor\":\"white\",\"automargin\":true,\"zerolinewidth\":2},\"yaxis\":{\"gridcolor\":\"white\",\"linecolor\":\"white\",\"ticks\":\"\",\"title\":{\"standoff\":15},\"zerolinecolor\":\"white\",\"automargin\":true,\"zerolinewidth\":2},\"scene\":{\"xaxis\":{\"backgroundcolor\":\"#E5ECF6\",\"gridcolor\":\"white\",\"linecolor\":\"white\",\"showbackground\":true,\"ticks\":\"\",\"zerolinecolor\":\"white\",\"gridwidth\":2},\"yaxis\":{\"backgroundcolor\":\"#E5ECF6\",\"gridcolor\":\"white\",\"linecolor\":\"white\",\"showbackground\":true,\"ticks\":\"\",\"zerolinecolor\":\"white\",\"gridwidth\":2},\"zaxis\":{\"backgroundcolor\":\"#E5ECF6\",\"gridcolor\":\"white\",\"linecolor\":\"white\",\"showbackground\":true,\"ticks\":\"\",\"zerolinecolor\":\"white\",\"gridwidth\":2}},\"shapedefaults\":{\"line\":{\"color\":\"#2a3f5f\"}},\"annotationdefaults\":{\"arrowcolor\":\"#2a3f5f\",\"arrowhead\":0,\"arrowwidth\":1},\"geo\":{\"bgcolor\":\"white\",\"landcolor\":\"#E5ECF6\",\"subunitcolor\":\"white\",\"showland\":true,\"showlakes\":true,\"lakecolor\":\"white\"},\"title\":{\"x\":0.05},\"mapbox\":{\"style\":\"light\"}}},\"scene\":{\"domain\":{\"x\":[0.0,1.0],\"y\":[0.0,1.0]},\"xaxis\":{\"title\":{\"text\":\"x\"}},\"yaxis\":{\"title\":{\"text\":\"y\"}},\"zaxis\":{\"title\":{\"text\":\"z\"}}},\"legend\":{\"tracegroupgap\":0},\"margin\":{\"t\":60}},                        {\"responsive\": true}                    ).then(function(){\n",
              "                            \n",
              "var gd = document.getElementById('fe253f93-c6d3-4c60-8dd1-7bcded91f112');\n",
              "var x = new MutationObserver(function (mutations, observer) {{\n",
              "        var display = window.getComputedStyle(gd).display;\n",
              "        if (!display || display === 'none') {{\n",
              "            console.log([gd, 'removed!']);\n",
              "            Plotly.purge(gd);\n",
              "            observer.disconnect();\n",
              "        }}\n",
              "}});\n",
              "\n",
              "// Listen for the removal of the full notebook cells\n",
              "var notebookContainer = gd.closest('#notebook-container');\n",
              "if (notebookContainer) {{\n",
              "    x.observe(notebookContainer, {childList: true});\n",
              "}}\n",
              "\n",
              "// Listen for the clearing of the current output cell\n",
              "var outputEl = gd.closest('.output');\n",
              "if (outputEl) {{\n",
              "    x.observe(outputEl, {childList: true});\n",
              "}}\n",
              "\n",
              "                        })                };                            </script>        </div>\n",
              "</body>\n",
              "</html>"
            ]
          },
          "metadata": {}
        }
      ],
      "source": [
        "# Graficar los embedddings en 3D\n",
        "\n",
        "vecs, labels = reduce_dimensions(w2v_model,3)\n",
        "\n",
        "fig = px.scatter_3d(x=vecs[:MAX_WORDS,0], y=vecs[:MAX_WORDS,1], z=vecs[:MAX_WORDS,2],text=labels[:MAX_WORDS])\n",
        "fig.update_traces(marker_size = 2)\n",
        "fig.show(renderer=\"colab\") # esto para plotly en colab"
      ]
    },
    {
      "cell_type": "code",
      "execution_count": null,
      "metadata": {
        "id": "iDdWROVB91X-"
      },
      "outputs": [],
      "source": [
        "# También se pueden guardar los vectores y labels como tsv para graficar en\n",
        "# http://projector.tensorflow.org/\n",
        "\n",
        "\n",
        "vectors = np.asarray(w2v_model.wv.vectors)\n",
        "labels = list(w2v_model.wv.index_to_key)\n",
        "\n",
        "np.savetxt(\"vectors.tsv\", vectors, delimiter=\"\\t\")\n",
        "\n",
        "with open(\"labels.tsv\", \"w\") as fp:\n",
        "    for item in labels:\n",
        "        fp.write(\"%s\\n\" % item)"
      ]
    },
    {
      "cell_type": "markdown",
      "metadata": {
        "id": "yMM_SHSaZ9N-"
      },
      "source": [
        "### Alumno"
      ]
    },
    {
      "cell_type": "markdown",
      "metadata": {
        "id": "WivQZ3ZCZ9N_"
      },
      "source": [
        "- Crear sus propios vectores con Gensim basado en lo visto en clase con otro dataset.\n",
        "- Probar términos de interés y explicar similitudes en el espacio de embeddings (sacar conclusiones entre palabras similitudes y diferencias).\n",
        "- Graficarlos.\n",
        "- Obtener conclusiones."
      ]
    },
    {
      "cell_type": "code",
      "source": [
        "import pandas as pd\n",
        "import matplotlib.pyplot as plt\n",
        "import seaborn as sns\n",
        "\n",
        "import multiprocessing\n",
        "from gensim.models import Word2Vec"
      ],
      "metadata": {
        "id": "hIfXCUlrru5-"
      },
      "execution_count": null,
      "outputs": []
    },
    {
      "cell_type": "markdown",
      "source": [
        "Importar y cargar el dataset elegido:"
      ],
      "metadata": {
        "id": "PUHybekwzbr_"
      }
    },
    {
      "cell_type": "code",
      "source": [
        "from google.colab import files\n",
        "uploaded = files.upload()\n"
      ],
      "metadata": {
        "colab": {
          "base_uri": "https://localhost:8080/",
          "height": 73
        },
        "id": "_0FcwThqFin5",
        "outputId": "e713d204-c012-42b3-c609-7de9a509d865"
      },
      "execution_count": null,
      "outputs": [
        {
          "output_type": "display_data",
          "data": {
            "text/plain": [
              "<IPython.core.display.HTML object>"
            ],
            "text/html": [
              "\n",
              "     <input type=\"file\" id=\"files-d6e23ec1-e084-424b-b73f-c4475f169172\" name=\"files[]\" multiple disabled\n",
              "        style=\"border:none\" />\n",
              "     <output id=\"result-d6e23ec1-e084-424b-b73f-c4475f169172\">\n",
              "      Upload widget is only available when the cell has been executed in the\n",
              "      current browser session. Please rerun this cell to enable.\n",
              "      </output>\n",
              "      <script>// Copyright 2017 Google LLC\n",
              "//\n",
              "// Licensed under the Apache License, Version 2.0 (the \"License\");\n",
              "// you may not use this file except in compliance with the License.\n",
              "// You may obtain a copy of the License at\n",
              "//\n",
              "//      http://www.apache.org/licenses/LICENSE-2.0\n",
              "//\n",
              "// Unless required by applicable law or agreed to in writing, software\n",
              "// distributed under the License is distributed on an \"AS IS\" BASIS,\n",
              "// WITHOUT WARRANTIES OR CONDITIONS OF ANY KIND, either express or implied.\n",
              "// See the License for the specific language governing permissions and\n",
              "// limitations under the License.\n",
              "\n",
              "/**\n",
              " * @fileoverview Helpers for google.colab Python module.\n",
              " */\n",
              "(function(scope) {\n",
              "function span(text, styleAttributes = {}) {\n",
              "  const element = document.createElement('span');\n",
              "  element.textContent = text;\n",
              "  for (const key of Object.keys(styleAttributes)) {\n",
              "    element.style[key] = styleAttributes[key];\n",
              "  }\n",
              "  return element;\n",
              "}\n",
              "\n",
              "// Max number of bytes which will be uploaded at a time.\n",
              "const MAX_PAYLOAD_SIZE = 100 * 1024;\n",
              "\n",
              "function _uploadFiles(inputId, outputId) {\n",
              "  const steps = uploadFilesStep(inputId, outputId);\n",
              "  const outputElement = document.getElementById(outputId);\n",
              "  // Cache steps on the outputElement to make it available for the next call\n",
              "  // to uploadFilesContinue from Python.\n",
              "  outputElement.steps = steps;\n",
              "\n",
              "  return _uploadFilesContinue(outputId);\n",
              "}\n",
              "\n",
              "// This is roughly an async generator (not supported in the browser yet),\n",
              "// where there are multiple asynchronous steps and the Python side is going\n",
              "// to poll for completion of each step.\n",
              "// This uses a Promise to block the python side on completion of each step,\n",
              "// then passes the result of the previous step as the input to the next step.\n",
              "function _uploadFilesContinue(outputId) {\n",
              "  const outputElement = document.getElementById(outputId);\n",
              "  const steps = outputElement.steps;\n",
              "\n",
              "  const next = steps.next(outputElement.lastPromiseValue);\n",
              "  return Promise.resolve(next.value.promise).then((value) => {\n",
              "    // Cache the last promise value to make it available to the next\n",
              "    // step of the generator.\n",
              "    outputElement.lastPromiseValue = value;\n",
              "    return next.value.response;\n",
              "  });\n",
              "}\n",
              "\n",
              "/**\n",
              " * Generator function which is called between each async step of the upload\n",
              " * process.\n",
              " * @param {string} inputId Element ID of the input file picker element.\n",
              " * @param {string} outputId Element ID of the output display.\n",
              " * @return {!Iterable<!Object>} Iterable of next steps.\n",
              " */\n",
              "function* uploadFilesStep(inputId, outputId) {\n",
              "  const inputElement = document.getElementById(inputId);\n",
              "  inputElement.disabled = false;\n",
              "\n",
              "  const outputElement = document.getElementById(outputId);\n",
              "  outputElement.innerHTML = '';\n",
              "\n",
              "  const pickedPromise = new Promise((resolve) => {\n",
              "    inputElement.addEventListener('change', (e) => {\n",
              "      resolve(e.target.files);\n",
              "    });\n",
              "  });\n",
              "\n",
              "  const cancel = document.createElement('button');\n",
              "  inputElement.parentElement.appendChild(cancel);\n",
              "  cancel.textContent = 'Cancel upload';\n",
              "  const cancelPromise = new Promise((resolve) => {\n",
              "    cancel.onclick = () => {\n",
              "      resolve(null);\n",
              "    };\n",
              "  });\n",
              "\n",
              "  // Wait for the user to pick the files.\n",
              "  const files = yield {\n",
              "    promise: Promise.race([pickedPromise, cancelPromise]),\n",
              "    response: {\n",
              "      action: 'starting',\n",
              "    }\n",
              "  };\n",
              "\n",
              "  cancel.remove();\n",
              "\n",
              "  // Disable the input element since further picks are not allowed.\n",
              "  inputElement.disabled = true;\n",
              "\n",
              "  if (!files) {\n",
              "    return {\n",
              "      response: {\n",
              "        action: 'complete',\n",
              "      }\n",
              "    };\n",
              "  }\n",
              "\n",
              "  for (const file of files) {\n",
              "    const li = document.createElement('li');\n",
              "    li.append(span(file.name, {fontWeight: 'bold'}));\n",
              "    li.append(span(\n",
              "        `(${file.type || 'n/a'}) - ${file.size} bytes, ` +\n",
              "        `last modified: ${\n",
              "            file.lastModifiedDate ? file.lastModifiedDate.toLocaleDateString() :\n",
              "                                    'n/a'} - `));\n",
              "    const percent = span('0% done');\n",
              "    li.appendChild(percent);\n",
              "\n",
              "    outputElement.appendChild(li);\n",
              "\n",
              "    const fileDataPromise = new Promise((resolve) => {\n",
              "      const reader = new FileReader();\n",
              "      reader.onload = (e) => {\n",
              "        resolve(e.target.result);\n",
              "      };\n",
              "      reader.readAsArrayBuffer(file);\n",
              "    });\n",
              "    // Wait for the data to be ready.\n",
              "    let fileData = yield {\n",
              "      promise: fileDataPromise,\n",
              "      response: {\n",
              "        action: 'continue',\n",
              "      }\n",
              "    };\n",
              "\n",
              "    // Use a chunked sending to avoid message size limits. See b/62115660.\n",
              "    let position = 0;\n",
              "    do {\n",
              "      const length = Math.min(fileData.byteLength - position, MAX_PAYLOAD_SIZE);\n",
              "      const chunk = new Uint8Array(fileData, position, length);\n",
              "      position += length;\n",
              "\n",
              "      const base64 = btoa(String.fromCharCode.apply(null, chunk));\n",
              "      yield {\n",
              "        response: {\n",
              "          action: 'append',\n",
              "          file: file.name,\n",
              "          data: base64,\n",
              "        },\n",
              "      };\n",
              "\n",
              "      let percentDone = fileData.byteLength === 0 ?\n",
              "          100 :\n",
              "          Math.round((position / fileData.byteLength) * 100);\n",
              "      percent.textContent = `${percentDone}% done`;\n",
              "\n",
              "    } while (position < fileData.byteLength);\n",
              "  }\n",
              "\n",
              "  // All done.\n",
              "  yield {\n",
              "    response: {\n",
              "      action: 'complete',\n",
              "    }\n",
              "  };\n",
              "}\n",
              "\n",
              "scope.google = scope.google || {};\n",
              "scope.google.colab = scope.google.colab || {};\n",
              "scope.google.colab._files = {\n",
              "  _uploadFiles,\n",
              "  _uploadFilesContinue,\n",
              "};\n",
              "})(self);\n",
              "</script> "
            ]
          },
          "metadata": {}
        },
        {
          "output_type": "stream",
          "name": "stdout",
          "text": [
            "Saving archive.zip to archive.zip\n"
          ]
        }
      ]
    },
    {
      "cell_type": "code",
      "source": [
        "import zipfile\n",
        "import os\n",
        "\n",
        "# Ruta del archivo zip subido (ajusta el nombre según el archivo que hayas subido)\n",
        "zip_path = 'archive.zip'\n",
        "\n",
        "# Crear una carpeta para extraer los archivos\n",
        "extract_folder = 'extracted_files'\n",
        "os.makedirs(extract_folder, exist_ok=True)\n",
        "\n",
        "# Descomprimir el archivo\n",
        "with zipfile.ZipFile(zip_path, 'r') as zip_ref:\n",
        "    zip_ref.extractall(extract_folder)\n",
        "\n",
        "# Listar los archivos descomprimidos\n",
        "print(\"Archivos descomprimidos:\")\n",
        "os.listdir(extract_folder)\n"
      ],
      "metadata": {
        "colab": {
          "base_uri": "https://localhost:8080/"
        },
        "id": "gNRmnPq9HiAg",
        "outputId": "ce011cd4-983c-4e82-fdbf-909988fa2ce0"
      },
      "execution_count": null,
      "outputs": [
        {
          "output_type": "stream",
          "name": "stdout",
          "text": [
            "Archivos descomprimidos:\n"
          ]
        },
        {
          "output_type": "execute_result",
          "data": {
            "text/plain": [
              "['Beginner_Reviews_dataset.csv']"
            ]
          },
          "metadata": {},
          "execution_count": 3
        }
      ]
    },
    {
      "cell_type": "code",
      "source": [
        "\n",
        "# Ruta del archivo CSV dentro de la carpeta descomprimida (ajusta el nombre según sea necesario)\n",
        "csv_file_path = os.path.join(extract_folder, 'Beginner_Reviews_dataset.csv')\n",
        "data = pd.read_csv(csv_file_path)\n",
        "\n",
        "# Ver las primeras filas del dataset\n",
        "df = data.drop('Unnamed: 0', axis=1)\n",
        "df = df.drop('label', axis=1)\n",
        "\n",
        "df.tail()\n"
      ],
      "metadata": {
        "colab": {
          "base_uri": "https://localhost:8080/",
          "height": 206
        },
        "id": "OkPxZyvYIiBX",
        "outputId": "1a304310-2df5-4faa-c51e-59e3d566e83b"
      },
      "execution_count": null,
      "outputs": [
        {
          "output_type": "execute_result",
          "data": {
            "text/plain": [
              "                                              sentence\n",
              "995  I think food should have flavor and texture an...\n",
              "996                           Appetite instantly gone.\n",
              "997  Overall I was not impressed and would not go b...\n",
              "998  The whole experience was underwhelming, and I ...\n",
              "999  Then, as if I hadn't wasted enough of my life ..."
            ],
            "text/html": [
              "\n",
              "  <div id=\"df-07169e92-b277-4873-af7d-9f8fadad532d\" class=\"colab-df-container\">\n",
              "    <div>\n",
              "<style scoped>\n",
              "    .dataframe tbody tr th:only-of-type {\n",
              "        vertical-align: middle;\n",
              "    }\n",
              "\n",
              "    .dataframe tbody tr th {\n",
              "        vertical-align: top;\n",
              "    }\n",
              "\n",
              "    .dataframe thead th {\n",
              "        text-align: right;\n",
              "    }\n",
              "</style>\n",
              "<table border=\"1\" class=\"dataframe\">\n",
              "  <thead>\n",
              "    <tr style=\"text-align: right;\">\n",
              "      <th></th>\n",
              "      <th>sentence</th>\n",
              "    </tr>\n",
              "  </thead>\n",
              "  <tbody>\n",
              "    <tr>\n",
              "      <th>995</th>\n",
              "      <td>I think food should have flavor and texture an...</td>\n",
              "    </tr>\n",
              "    <tr>\n",
              "      <th>996</th>\n",
              "      <td>Appetite instantly gone.</td>\n",
              "    </tr>\n",
              "    <tr>\n",
              "      <th>997</th>\n",
              "      <td>Overall I was not impressed and would not go b...</td>\n",
              "    </tr>\n",
              "    <tr>\n",
              "      <th>998</th>\n",
              "      <td>The whole experience was underwhelming, and I ...</td>\n",
              "    </tr>\n",
              "    <tr>\n",
              "      <th>999</th>\n",
              "      <td>Then, as if I hadn't wasted enough of my life ...</td>\n",
              "    </tr>\n",
              "  </tbody>\n",
              "</table>\n",
              "</div>\n",
              "    <div class=\"colab-df-buttons\">\n",
              "\n",
              "  <div class=\"colab-df-container\">\n",
              "    <button class=\"colab-df-convert\" onclick=\"convertToInteractive('df-07169e92-b277-4873-af7d-9f8fadad532d')\"\n",
              "            title=\"Convert this dataframe to an interactive table.\"\n",
              "            style=\"display:none;\">\n",
              "\n",
              "  <svg xmlns=\"http://www.w3.org/2000/svg\" height=\"24px\" viewBox=\"0 -960 960 960\">\n",
              "    <path d=\"M120-120v-720h720v720H120Zm60-500h600v-160H180v160Zm220 220h160v-160H400v160Zm0 220h160v-160H400v160ZM180-400h160v-160H180v160Zm440 0h160v-160H620v160ZM180-180h160v-160H180v160Zm440 0h160v-160H620v160Z\"/>\n",
              "  </svg>\n",
              "    </button>\n",
              "\n",
              "  <style>\n",
              "    .colab-df-container {\n",
              "      display:flex;\n",
              "      gap: 12px;\n",
              "    }\n",
              "\n",
              "    .colab-df-convert {\n",
              "      background-color: #E8F0FE;\n",
              "      border: none;\n",
              "      border-radius: 50%;\n",
              "      cursor: pointer;\n",
              "      display: none;\n",
              "      fill: #1967D2;\n",
              "      height: 32px;\n",
              "      padding: 0 0 0 0;\n",
              "      width: 32px;\n",
              "    }\n",
              "\n",
              "    .colab-df-convert:hover {\n",
              "      background-color: #E2EBFA;\n",
              "      box-shadow: 0px 1px 2px rgba(60, 64, 67, 0.3), 0px 1px 3px 1px rgba(60, 64, 67, 0.15);\n",
              "      fill: #174EA6;\n",
              "    }\n",
              "\n",
              "    .colab-df-buttons div {\n",
              "      margin-bottom: 4px;\n",
              "    }\n",
              "\n",
              "    [theme=dark] .colab-df-convert {\n",
              "      background-color: #3B4455;\n",
              "      fill: #D2E3FC;\n",
              "    }\n",
              "\n",
              "    [theme=dark] .colab-df-convert:hover {\n",
              "      background-color: #434B5C;\n",
              "      box-shadow: 0px 1px 3px 1px rgba(0, 0, 0, 0.15);\n",
              "      filter: drop-shadow(0px 1px 2px rgba(0, 0, 0, 0.3));\n",
              "      fill: #FFFFFF;\n",
              "    }\n",
              "  </style>\n",
              "\n",
              "    <script>\n",
              "      const buttonEl =\n",
              "        document.querySelector('#df-07169e92-b277-4873-af7d-9f8fadad532d button.colab-df-convert');\n",
              "      buttonEl.style.display =\n",
              "        google.colab.kernel.accessAllowed ? 'block' : 'none';\n",
              "\n",
              "      async function convertToInteractive(key) {\n",
              "        const element = document.querySelector('#df-07169e92-b277-4873-af7d-9f8fadad532d');\n",
              "        const dataTable =\n",
              "          await google.colab.kernel.invokeFunction('convertToInteractive',\n",
              "                                                    [key], {});\n",
              "        if (!dataTable) return;\n",
              "\n",
              "        const docLinkHtml = 'Like what you see? Visit the ' +\n",
              "          '<a target=\"_blank\" href=https://colab.research.google.com/notebooks/data_table.ipynb>data table notebook</a>'\n",
              "          + ' to learn more about interactive tables.';\n",
              "        element.innerHTML = '';\n",
              "        dataTable['output_type'] = 'display_data';\n",
              "        await google.colab.output.renderOutput(dataTable, element);\n",
              "        const docLink = document.createElement('div');\n",
              "        docLink.innerHTML = docLinkHtml;\n",
              "        element.appendChild(docLink);\n",
              "      }\n",
              "    </script>\n",
              "  </div>\n",
              "\n",
              "\n",
              "<div id=\"df-b908da94-fa7a-422c-b7aa-1ba463442910\">\n",
              "  <button class=\"colab-df-quickchart\" onclick=\"quickchart('df-b908da94-fa7a-422c-b7aa-1ba463442910')\"\n",
              "            title=\"Suggest charts\"\n",
              "            style=\"display:none;\">\n",
              "\n",
              "<svg xmlns=\"http://www.w3.org/2000/svg\" height=\"24px\"viewBox=\"0 0 24 24\"\n",
              "     width=\"24px\">\n",
              "    <g>\n",
              "        <path d=\"M19 3H5c-1.1 0-2 .9-2 2v14c0 1.1.9 2 2 2h14c1.1 0 2-.9 2-2V5c0-1.1-.9-2-2-2zM9 17H7v-7h2v7zm4 0h-2V7h2v10zm4 0h-2v-4h2v4z\"/>\n",
              "    </g>\n",
              "</svg>\n",
              "  </button>\n",
              "\n",
              "<style>\n",
              "  .colab-df-quickchart {\n",
              "      --bg-color: #E8F0FE;\n",
              "      --fill-color: #1967D2;\n",
              "      --hover-bg-color: #E2EBFA;\n",
              "      --hover-fill-color: #174EA6;\n",
              "      --disabled-fill-color: #AAA;\n",
              "      --disabled-bg-color: #DDD;\n",
              "  }\n",
              "\n",
              "  [theme=dark] .colab-df-quickchart {\n",
              "      --bg-color: #3B4455;\n",
              "      --fill-color: #D2E3FC;\n",
              "      --hover-bg-color: #434B5C;\n",
              "      --hover-fill-color: #FFFFFF;\n",
              "      --disabled-bg-color: #3B4455;\n",
              "      --disabled-fill-color: #666;\n",
              "  }\n",
              "\n",
              "  .colab-df-quickchart {\n",
              "    background-color: var(--bg-color);\n",
              "    border: none;\n",
              "    border-radius: 50%;\n",
              "    cursor: pointer;\n",
              "    display: none;\n",
              "    fill: var(--fill-color);\n",
              "    height: 32px;\n",
              "    padding: 0;\n",
              "    width: 32px;\n",
              "  }\n",
              "\n",
              "  .colab-df-quickchart:hover {\n",
              "    background-color: var(--hover-bg-color);\n",
              "    box-shadow: 0 1px 2px rgba(60, 64, 67, 0.3), 0 1px 3px 1px rgba(60, 64, 67, 0.15);\n",
              "    fill: var(--button-hover-fill-color);\n",
              "  }\n",
              "\n",
              "  .colab-df-quickchart-complete:disabled,\n",
              "  .colab-df-quickchart-complete:disabled:hover {\n",
              "    background-color: var(--disabled-bg-color);\n",
              "    fill: var(--disabled-fill-color);\n",
              "    box-shadow: none;\n",
              "  }\n",
              "\n",
              "  .colab-df-spinner {\n",
              "    border: 2px solid var(--fill-color);\n",
              "    border-color: transparent;\n",
              "    border-bottom-color: var(--fill-color);\n",
              "    animation:\n",
              "      spin 1s steps(1) infinite;\n",
              "  }\n",
              "\n",
              "  @keyframes spin {\n",
              "    0% {\n",
              "      border-color: transparent;\n",
              "      border-bottom-color: var(--fill-color);\n",
              "      border-left-color: var(--fill-color);\n",
              "    }\n",
              "    20% {\n",
              "      border-color: transparent;\n",
              "      border-left-color: var(--fill-color);\n",
              "      border-top-color: var(--fill-color);\n",
              "    }\n",
              "    30% {\n",
              "      border-color: transparent;\n",
              "      border-left-color: var(--fill-color);\n",
              "      border-top-color: var(--fill-color);\n",
              "      border-right-color: var(--fill-color);\n",
              "    }\n",
              "    40% {\n",
              "      border-color: transparent;\n",
              "      border-right-color: var(--fill-color);\n",
              "      border-top-color: var(--fill-color);\n",
              "    }\n",
              "    60% {\n",
              "      border-color: transparent;\n",
              "      border-right-color: var(--fill-color);\n",
              "    }\n",
              "    80% {\n",
              "      border-color: transparent;\n",
              "      border-right-color: var(--fill-color);\n",
              "      border-bottom-color: var(--fill-color);\n",
              "    }\n",
              "    90% {\n",
              "      border-color: transparent;\n",
              "      border-bottom-color: var(--fill-color);\n",
              "    }\n",
              "  }\n",
              "</style>\n",
              "\n",
              "  <script>\n",
              "    async function quickchart(key) {\n",
              "      const quickchartButtonEl =\n",
              "        document.querySelector('#' + key + ' button');\n",
              "      quickchartButtonEl.disabled = true;  // To prevent multiple clicks.\n",
              "      quickchartButtonEl.classList.add('colab-df-spinner');\n",
              "      try {\n",
              "        const charts = await google.colab.kernel.invokeFunction(\n",
              "            'suggestCharts', [key], {});\n",
              "      } catch (error) {\n",
              "        console.error('Error during call to suggestCharts:', error);\n",
              "      }\n",
              "      quickchartButtonEl.classList.remove('colab-df-spinner');\n",
              "      quickchartButtonEl.classList.add('colab-df-quickchart-complete');\n",
              "    }\n",
              "    (() => {\n",
              "      let quickchartButtonEl =\n",
              "        document.querySelector('#df-b908da94-fa7a-422c-b7aa-1ba463442910 button');\n",
              "      quickchartButtonEl.style.display =\n",
              "        google.colab.kernel.accessAllowed ? 'block' : 'none';\n",
              "    })();\n",
              "  </script>\n",
              "</div>\n",
              "\n",
              "    </div>\n",
              "  </div>\n"
            ],
            "application/vnd.google.colaboratory.intrinsic+json": {
              "type": "dataframe",
              "summary": "{\n  \"name\": \"df\",\n  \"rows\": 5,\n  \"fields\": [\n    {\n      \"column\": \"sentence\",\n      \"properties\": {\n        \"dtype\": \"string\",\n        \"num_unique_values\": 5,\n        \"samples\": [\n          \"Appetite instantly gone.\",\n          \"Then, as if I hadn't wasted enough of my life there, they poured salt in the wound by drawing out the time it took to bring the check.\",\n          \"Overall I was not impressed and would not go back.\"\n        ],\n        \"semantic_type\": \"\",\n        \"description\": \"\"\n      }\n    }\n  ]\n}"
            }
          },
          "metadata": {},
          "execution_count": 4
        }
      ]
    },
    {
      "cell_type": "code",
      "source": [
        "print('Cantidad de documentos: ', df.shape[0])"
      ],
      "metadata": {
        "colab": {
          "base_uri": "https://localhost:8080/"
        },
        "id": "OrwXRrym0CIj",
        "outputId": "67867e31-0c7f-45d0-bbb4-a88acc8a317a"
      },
      "execution_count": null,
      "outputs": [
        {
          "output_type": "stream",
          "name": "stdout",
          "text": [
            "Cantidad de documentos:  1000\n"
          ]
        }
      ]
    },
    {
      "cell_type": "code",
      "source": [
        "from keras.preprocessing.text import text_to_word_sequence\n",
        "\n",
        "sentence_tokens = []\n",
        "# Recorrer todas las filas y transformar las oraciones\n",
        "for _, row in df[:None].iterrows():\n",
        "    sentence_tokens.append(text_to_word_sequence(row[0]))"
      ],
      "metadata": {
        "id": "wO573haI0VU8"
      },
      "execution_count": null,
      "outputs": []
    },
    {
      "cell_type": "code",
      "source": [
        "sentence_tokens[:2]"
      ],
      "metadata": {
        "colab": {
          "base_uri": "https://localhost:8080/"
        },
        "id": "eYzYMNp90kpb",
        "outputId": "6136a794-fb0c-4e0e-a687-89b87abc0edd"
      },
      "execution_count": null,
      "outputs": [
        {
          "output_type": "execute_result",
          "data": {
            "text/plain": [
              "[['wow', 'loved', 'this', 'place'], ['crust', 'is', 'not', 'good']]"
            ]
          },
          "metadata": {},
          "execution_count": 7
        }
      ]
    },
    {
      "cell_type": "code",
      "source": [
        "from collections import Counter\n",
        "\n",
        "# Aplanar el corpus a una lista de palabras\n",
        "all_words = [word for document in sentence_tokens for word in document]\n",
        "\n",
        "# Contar la frecuencia de las palabras\n",
        "word_counts = Counter(all_words)\n",
        "\n",
        "# Obtener las palabras más comunes\n",
        "most_common_words = word_counts.most_common(10)\n",
        "\n",
        "print(\"Palabras más comunes:\", most_common_words)"
      ],
      "metadata": {
        "colab": {
          "base_uri": "https://localhost:8080/"
        },
        "id": "t24b9etW5hev",
        "outputId": "214c355d-5e72-491c-ec83-a9269a8c89c3"
      },
      "execution_count": null,
      "outputs": [
        {
          "output_type": "stream",
          "name": "stdout",
          "text": [
            "Palabras más comunes: [('the', 585), ('and', 393), ('i', 305), ('was', 295), ('a', 237), ('to', 220), ('is', 171), ('this', 143), ('it', 134), ('of', 127)]\n"
          ]
        }
      ]
    },
    {
      "cell_type": "code",
      "source": [
        "from gensim.models.callbacks import CallbackAny2Vec\n",
        "# Sobrecargamos el callback para imprimir el loss de cada época\n",
        "class callback(CallbackAny2Vec):\n",
        "    \"\"\"\n",
        "    Callback to print loss after each epoch\n",
        "    \"\"\"\n",
        "    def __init__(self):\n",
        "        self.epoch = 0\n",
        "\n",
        "    def on_epoch_end(self, model):\n",
        "        loss = model.get_latest_training_loss()\n",
        "        if self.epoch == 0:\n",
        "            print('Loss after epoch {}: {}'.format(self.epoch, loss))\n",
        "        else:\n",
        "            print('Loss after epoch {}: {}'.format(self.epoch, loss- self.loss_previous_step))\n",
        "        self.epoch += 1\n",
        "        self.loss_previous_step = loss"
      ],
      "metadata": {
        "id": "RIYwlANK4WpC"
      },
      "execution_count": null,
      "outputs": []
    },
    {
      "cell_type": "code",
      "source": [
        "# Crear el modelo generador de vectores\n",
        "w2v_model = Word2Vec(min_count=5, window=2, vector_size = 200, negative=10, workers=1, sg=1) # sg1: skipgram"
      ],
      "metadata": {
        "id": "D145Bjxw4isX"
      },
      "execution_count": null,
      "outputs": []
    },
    {
      "cell_type": "code",
      "source": [
        "w2v_model.build_vocab(sentence_tokens)"
      ],
      "metadata": {
        "id": "xDVQ7eeG49Mg"
      },
      "execution_count": null,
      "outputs": []
    },
    {
      "cell_type": "code",
      "source": [
        "# imprimir cantidad de palabras encontradas en el corpus\n",
        "print('Cantidad de palabras distintas en el corpus: ', len(w2v_model.wv.index_to_key))\n"
      ],
      "metadata": {
        "colab": {
          "base_uri": "https://localhost:8080/"
        },
        "id": "JKvhFPyH5Etj",
        "outputId": "945b9384-8310-4d7a-ef2c-12ca75111dea"
      },
      "execution_count": null,
      "outputs": [
        {
          "output_type": "stream",
          "name": "stdout",
          "text": [
            "Cantidad de palabras distintas en el corpus:  349\n"
          ]
        }
      ]
    },
    {
      "cell_type": "code",
      "source": [
        "# Cantidad de filas o docs en el corpus\n",
        "print('Cantidad de docs: ', w2v_model.corpus_count)"
      ],
      "metadata": {
        "colab": {
          "base_uri": "https://localhost:8080/"
        },
        "id": "GMKDC-D95aW1",
        "outputId": "88e81b58-f6a8-43d0-a5cb-226e40c87bbf"
      },
      "execution_count": null,
      "outputs": [
        {
          "output_type": "stream",
          "name": "stdout",
          "text": [
            "Cantidad de docs:  1000\n"
          ]
        }
      ]
    },
    {
      "cell_type": "code",
      "source": [
        "# Entrenamos el modelo generador de vectores\n",
        "# Utilizamos nuestro callback\n",
        "w2v_model.train(sentence_tokens,\n",
        "                 total_examples=w2v_model.corpus_count,\n",
        "                 epochs=20,\n",
        "                 compute_loss = True,\n",
        "                 callbacks=[callback()]\n",
        "                 )"
      ],
      "metadata": {
        "colab": {
          "base_uri": "https://localhost:8080/"
        },
        "id": "H2ex21SW_MKz",
        "outputId": "6f037180-9319-4af8-bd80-f472817c0d86"
      },
      "execution_count": null,
      "outputs": [
        {
          "output_type": "stream",
          "name": "stdout",
          "text": [
            "Loss after epoch 0: 79419.1640625\n",
            "Loss after epoch 1: 43486.90625\n",
            "Loss after epoch 2: 37347.2421875\n",
            "Loss after epoch 3: 36405.765625\n",
            "Loss after epoch 4: 37400.078125\n",
            "Loss after epoch 5: 36800.875\n",
            "Loss after epoch 6: 36586.46875\n",
            "Loss after epoch 7: 36917.25\n",
            "Loss after epoch 8: 35845.71875\n",
            "Loss after epoch 9: 36793.40625\n",
            "Loss after epoch 10: 37350.375\n",
            "Loss after epoch 11: 37259.6875\n",
            "Loss after epoch 12: 37637.25\n",
            "Loss after epoch 13: 36907.875\n",
            "Loss after epoch 14: 36920.0\n",
            "Loss after epoch 15: 37402.75\n",
            "Loss after epoch 16: 37109.875\n",
            "Loss after epoch 17: 37612.375\n",
            "Loss after epoch 18: 36977.9375\n",
            "Loss after epoch 19: 36631.0625\n"
          ]
        },
        {
          "output_type": "execute_result",
          "data": {
            "text/plain": [
              "(98323, 218120)"
            ]
          },
          "metadata": {},
          "execution_count": 14
        }
      ]
    },
    {
      "cell_type": "code",
      "source": [
        "from sklearn.decomposition import IncrementalPCA\n",
        "from sklearn.manifold import TSNE\n",
        "import numpy as np\n",
        "\n",
        "def reduce_dimensions(model, num_dimensions = 2 ):\n",
        "\n",
        "    vectors = np.asarray(model.wv.vectors)\n",
        "    labels = np.asarray(model.wv.index_to_key)\n",
        "\n",
        "    tsne = TSNE(n_components=num_dimensions, random_state=0)\n",
        "    vectors = tsne.fit_transform(vectors)\n",
        "\n",
        "    return vectors, labels"
      ],
      "metadata": {
        "id": "S3s8eL8-J8RI"
      },
      "execution_count": null,
      "outputs": []
    },
    {
      "cell_type": "code",
      "source": [
        "# Palabras que MÁS se relacionan con \"bad\"\n",
        "similar_to_bad = w2v_model.wv.most_similar(positive=[\"bad\"], topn=10)\n",
        "print(\"Palabras más relacionadas con 'bad':\", similar_to_bad)\n"
      ],
      "metadata": {
        "colab": {
          "base_uri": "https://localhost:8080/"
        },
        "id": "i6yQdd-mr8TU",
        "outputId": "db693a4f-f92f-4833-c15c-aa3761a18c65"
      },
      "execution_count": null,
      "outputs": [
        {
          "output_type": "stream",
          "name": "stdout",
          "text": [
            "Palabras más relacionadas con 'bad': [('waitress', 0.9978378415107727), ('terrible', 0.9978376626968384), ('tender', 0.9977381229400635), ('slow', 0.9977093935012817), ('tasty', 0.9976891279220581), ('ambiance', 0.9976723194122314), ('wonderful', 0.9974862933158875), ('prices', 0.9974544048309326), ('excellent', 0.9974522590637207), ('waiter', 0.9974120855331421)]\n"
          ]
        }
      ]
    },
    {
      "cell_type": "code",
      "source": [
        "# Palabras que MÁS se relacionan con \"amazing\"\n",
        "similar_to_amazing = w2v_model.wv.most_similar(positive=[\"amazing\"], topn=10)\n",
        "print(\"Palabras más relacionadas con 'amazing':\", similar_to_amazing)\n"
      ],
      "metadata": {
        "colab": {
          "base_uri": "https://localhost:8080/"
        },
        "id": "cY7bI8qcsOc9",
        "outputId": "c73f4260-4ead-4317-b582-c82eb2ac0cb4"
      },
      "execution_count": null,
      "outputs": [
        {
          "output_type": "stream",
          "name": "stdout",
          "text": [
            "Palabras más relacionadas con 'amazing': [('burger', 0.9977477192878723), ('wonderful', 0.9976289868354797), ('perfect', 0.9976158738136292), ('terrible', 0.9976111650466919), ('waitress', 0.9975799322128296), ('bland', 0.9975767135620117), ('steak', 0.9975324273109436), ('warm', 0.997504711151123), ('sauce', 0.9974865913391113), ('tasty', 0.9974698424339294)]\n"
          ]
        }
      ]
    },
    {
      "cell_type": "code",
      "source": [
        "\n",
        "# Palabras que MENOS se relacionan con \"worst\"\n",
        "similar_to_worst = w2v_model.wv.most_similar(negative=[\"worst\"], topn=10)\n",
        "print(\"Palabras menos relacionadas con 'worst':\", similar_to_worst)\n"
      ],
      "metadata": {
        "colab": {
          "base_uri": "https://localhost:8080/"
        },
        "id": "CTaZjUFNsYCQ",
        "outputId": "844bfe6e-f68c-4448-fdf3-1f157271e55d"
      },
      "execution_count": null,
      "outputs": [
        {
          "output_type": "stream",
          "name": "stdout",
          "text": [
            "Palabras menos relacionadas con 'worst': [('back', -0.7760929465293884), ('be', -0.8094397187232971), ('will', -0.8104535341262817), ('go', -0.834240198135376), (\"won't\", -0.8448553681373596), ('again', -0.8887776136398315), ('never', -0.9016766548156738), ('going', -0.9049822092056274), ('would', -0.934967577457428), ('you', -0.9349810481071472)]\n"
          ]
        }
      ]
    },
    {
      "cell_type": "code",
      "source": [
        "# Graficar los embedddings en 2D\n",
        "import plotly.graph_objects as go\n",
        "import plotly.express as px\n",
        "\n",
        "vecs, labels = reduce_dimensions(w2v_model)\n",
        "\n",
        "MAX_WORDS=200\n",
        "fig = px.scatter(x=vecs[:MAX_WORDS,0], y=vecs[:MAX_WORDS,1], text=labels[:MAX_WORDS])\n",
        "fig.show(renderer=\"colab\") # esto para plotly en colab"
      ],
      "metadata": {
        "colab": {
          "base_uri": "https://localhost:8080/",
          "height": 542
        },
        "id": "QiJ8Kz17KLY1",
        "outputId": "a7b3089d-8c60-4a83-9c51-278f09f0102c"
      },
      "execution_count": null,
      "outputs": [
        {
          "output_type": "display_data",
          "data": {
            "text/html": [
              "<html>\n",
              "<head><meta charset=\"utf-8\" /></head>\n",
              "<body>\n",
              "    <div>            <script src=\"https://cdnjs.cloudflare.com/ajax/libs/mathjax/2.7.5/MathJax.js?config=TeX-AMS-MML_SVG\"></script><script type=\"text/javascript\">if (window.MathJax && window.MathJax.Hub && window.MathJax.Hub.Config) {window.MathJax.Hub.Config({SVG: {font: \"STIX-Web\"}});}</script>                <script type=\"text/javascript\">window.PlotlyConfig = {MathJaxConfig: 'local'};</script>\n",
              "        <script charset=\"utf-8\" src=\"https://cdn.plot.ly/plotly-2.24.1.min.js\"></script>                <div id=\"2c6f144d-68ad-4178-b496-31cf6a900d12\" class=\"plotly-graph-div\" style=\"height:525px; width:100%;\"></div>            <script type=\"text/javascript\">                                    window.PLOTLYENV=window.PLOTLYENV || {};                                    if (document.getElementById(\"2c6f144d-68ad-4178-b496-31cf6a900d12\")) {                    Plotly.newPlot(                        \"2c6f144d-68ad-4178-b496-31cf6a900d12\",                        [{\"hovertemplate\":\"x=%{x}\\u003cbr\\u003ey=%{y}\\u003cbr\\u003etext=%{text}\\u003cextra\\u003e\\u003c\\u002fextra\\u003e\",\"legendgroup\":\"\",\"marker\":{\"color\":\"#636efa\",\"symbol\":\"circle\"},\"mode\":\"markers+text\",\"name\":\"\",\"orientation\":\"v\",\"showlegend\":false,\"text\":[\"the\",\"and\",\"i\",\"was\",\"a\",\"to\",\"is\",\"this\",\"it\",\"of\",\"food\",\"not\",\"for\",\"in\",\"place\",\"good\",\"service\",\"we\",\"very\",\"my\",\"with\",\"had\",\"great\",\"that\",\"be\",\"so\",\"were\",\"are\",\"but\",\"have\",\"back\",\"you\",\"here\",\"they\",\"on\",\"at\",\"like\",\"go\",\"all\",\"time\",\"our\",\"will\",\"really\",\"there\",\"as\",\"just\",\"an\",\"their\",\"best\",\"if\",\"ever\",\"would\",\"friendly\",\"also\",\"one\",\"up\",\"only\",\"never\",\"no\",\"your\",\"out\",\"don't\",\"restaurant\",\"nice\",\"amazing\",\"what\",\"been\",\"from\",\"again\",\"delicious\",\"vegas\",\"did\",\"by\",\"which\",\"experience\",\"came\",\"some\",\"pretty\",\"i've\",\"when\",\"me\",\"i'm\",\"eat\",\"staff\",\"love\",\"get\",\"minutes\",\"won't\",\"even\",\"or\",\"disappointed\",\"definitely\",\"us\",\"much\",\"it's\",\"got\",\"he\",\"going\",\"bad\",\"about\",\"chicken\",\"more\",\"made\",\"first\",\"think\",\"better\",\"could\",\"say\",\"way\",\"well\",\"always\",\"stars\",\"than\",\"salad\",\"how\",\"menu\",\"pizza\",\"can\",\"too\",\"has\",\"worst\",\"quality\",\"fresh\",\"being\",\"them\",\"because\",\"wait\",\"other\",\"ordered\",\"steak\",\"flavor\",\"didn't\",\"sushi\",\"wasn't\",\"want\",\"times\",\"went\",\"taste\",\"server\",\"any\",\"over\",\"fantastic\",\"after\",\"awesome\",\"enough\",\"now\",\"everything\",\"burger\",\"night\",\"do\",\"feel\",\"recommend\",\"tasty\",\"meal\",\"know\",\"down\",\"next\",\"bland\",\"order\",\"atmosphere\",\"still\",\"buffet\",\"slow\",\"come\",\"prices\",\"little\",\"selection\",\"worth\",\"sauce\",\"loved\",\"coming\",\"breakfast\",\"waited\",\"another\",\"probably\",\"excellent\",\"perfect\",\"lunch\",\"terrible\",\"before\",\"right\",\"sandwich\",\"dishes\",\"clean\",\"people\",\"can't\",\"off\",\"every\",\"meat\",\"many\",\"table\",\"then\",\"day\",\"fries\",\"give\",\"hot\",\"soon\",\"she\",\"2\",\"cold\"],\"x\":[-22.223114013671875,-21.661727905273438,22.061527252197266,-22.500938415527344,-14.502391815185547,22.093509674072266,-20.769901275634766,9.645923614501953,4.342354774475098,-19.657716751098633,-20.213159561157227,19.237796783447266,8.72995376586914,-10.534381866455078,9.98586368560791,-20.520219802856445,-20.591196060180664,13.090197563171387,-21.720565795898438,-4.0659613609313965,-19.026844024658203,-6.84187650680542,-20.8759765625,8.974444389343262,24.563329696655273,-11.190985679626465,-19.45215606689453,-11.149438858032227,10.696385383605957,15.653467178344727,24.79413414001465,21.85546875,21.77801513671875,0.3553558588027954,-18.494964599609375,-8.982260704040527,0.6166125535964966,24.191049575805664,-15.650749206542969,4.151798725128174,-19.11539649963379,24.517366409301758,-15.462343215942383,13.11942195892334,-16.96131134033203,6.704410552978516,2.419888496398926,-8.57959270477295,-10.15345573425293,20.74393081665039,20.80443572998047,22.403093338012695,-22.181882858276367,-18.392841339111328,-1.2985495328903198,19.174991607666016,-6.716206073760986,23.219942092895508,-2.469264507293701,1.86933171749115,-5.644077301025391,20.06203842163086,-14.144680976867676,-20.505985260009766,-12.14087200164795,7.052367210388184,15.806543350219727,6.76657772064209,23.522144317626953,-10.066665649414062,1.0750395059585571,-0.4814813733100891,-8.785183906555176,-17.77503776550293,-10.267658233642578,6.18126106262207,-13.13561725616455,-14.757802963256836,15.427437782287598,-0.07180873304605484,6.82220983505249,13.776470184326172,18.989349365234375,-21.216007232666016,10.987380027770996,17.80573844909668,11.940827369689941,24.262414932250977,-1.6488945484161377,-9.438867568969727,15.013275146484375,21.359272003173828,-5.673019886016846,-13.077240943908691,-5.641044616699219,-7.2947235107421875,-11.794544219970703,23.184619903564453,-13.956542015075684,7.840362548828125,-18.73047637939453,-8.32091999053955,-12.433956146240234,-7.070171356201172,21.88858985900879,-8.398807525634766,15.920618057250977,16.89421272277832,-4.298725605010986,-16.921966552734375,-18.03504180908203,8.760980606079102,-6.348980903625488,-13.15000057220459,14.693327903747559,-18.57166290283203,-15.200034141540527,20.261995315551758,-5.009711265563965,-9.977493286132812,-2.252868175506592,-14.076623916625977,-15.596097946166992,4.525788307189941,7.885833263397217,5.362596035003662,12.36940860748291,1.797485589981079,-11.918737411499023,-11.135360717773438,-6.489391803741455,-5.51348876953125,10.654797554016113,-9.074960708618164,16.964998245239258,11.712130546569824,13.06130313873291,-10.033801078796387,-19.051881790161133,6.268070697784424,12.893178939819336,-6.71301794052124,10.835000991821289,-4.888387680053711,1.7357662916183472,-0.11056587845087051,-13.104874610900879,-12.759539604187012,3.075453758239746,15.026033401489258,5.731666088104248,17.375919342041016,-13.851656913757324,-6.963900089263916,15.113121032714844,1.92659330368042,12.648728370666504,-13.678433418273926,6.020256996154785,-14.98504638671875,-4.236492156982422,-2.606828451156616,-14.933199882507324,21.891551971435547,-15.1565580368042,-12.840370178222656,-13.645444869995117,3.72660493850708,-12.210472106933594,-1.9822238683700562,19.57575035095215,2.0466291904449463,12.962991714477539,11.113929748535156,19.204601287841797,-14.619150161743164,-11.958855628967285,0.397500604391098,-14.770153999328613,17.79161262512207,4.948051929473877,-5.900723457336426,-10.094091415405273,-17.815677642822266,8.137507438659668,17.57295036315918,3.3879942893981934,17.961442947387695,-6.7096428871154785,13.496346473693848,-6.834989070892334,7.981135368347168,-5.293352127075195,-10.369906425476074,11.273253440856934,-7.775265693664551,18.78065299987793,-10.729934692382812,10.837259292602539,-1.1361149549484253],\"xaxis\":\"x\",\"y\":[-1.8485254049301147,-1.2699251174926758,-2.6326904296875,-1.2963372468948364,2.6219515800476074,-3.137434959411621,-2.442685842514038,-5.088879108428955,-5.789614677429199,-2.334559202194214,-1.3320293426513672,-1.3478856086730957,5.3531084060668945,1.8451844453811646,-4.386738300323486,-0.9844833612442017,-1.4008429050445557,-2.2591636180877686,-1.0142278671264648,3.7649383544921875,-1.7186923027038574,-1.4216195344924927,-1.8222404718399048,-3.676173448562622,-3.7322230339050293,-5.065542221069336,-0.8966957926750183,0.887329638004303,-5.08032751083374,2.513239622116089,-3.5813915729522705,-1.5435084104537964,-3.4665122032165527,3.693469524383545,-2.575186014175415,4.50670862197876,-1.1686781644821167,-3.7471842765808105,0.48550811409950256,-1.7108268737792969,1.0299196243286133,-3.4729104042053223,-0.7585930824279785,-3.147465705871582,2.080838918685913,-4.021670341491699,5.813689231872559,-1.3134186267852783,-2.6554653644561768,-1.3904924392700195,-3.981410264968872,-2.5938897132873535,-0.9448868036270142,-1.1328516006469727,4.303017616271973,-3.1143462657928467,3.374157190322876,-3.681528329849243,7.3377532958984375,-5.3998918533325195,5.819283485412598,-1.3226702213287354,2.154571771621704,-0.9172318577766418,-2.6425371170043945,1.2475650310516357,1.7511324882507324,-0.8933436274528503,-3.4717345237731934,-4.521640777587891,6.901339054107666,2.5682995319366455,4.3589324951171875,-0.5299028754234314,-2.2517762184143066,4.128615379333496,1.306870937347412,-1.6210041046142578,2.7323856353759766,5.310306072235107,5.8660783767700195,-1.2230428457260132,-3.524129629135132,-1.5067815780639648,-4.8617658615112305,-0.6347607970237732,4.993094444274902,-3.301884889602661,2.902766227722168,2.4660727977752686,-3.5390031337738037,-2.7718780040740967,4.91470193862915,-0.23215265572071075,-1.3400276899337769,-2.010706901550293,4.032172679901123,-3.379164218902588,-0.34975889325141907,-5.31050968170166,-2.6981873512268066,-7.287662506103516,2.305091619491577,6.28655481338501,-2.520739793777466,-7.01281213760376,0.15819835662841797,-1.3737893104553223,-4.309933662414551,1.9906020164489746,-1.201596975326538,3.121377468109131,-7.702577114105225,-2.4387996196746826,-0.051922768354415894,-1.6864863634109497,1.2727971076965332,-1.2515792846679688,-3.651431083679199,-1.3587106466293335,-0.959326982498169,0.672074556350708,-1.5059150457382202,5.729770660400391,3.2187016010284424,-4.8957414627075195,2.1940155029296875,2.4159862995147705,-3.692366361618042,-1.9857372045516968,1.4577490091323853,3.5809707641601562,-3.4812216758728027,-4.37293004989624,-0.6157727241516113,-2.336792469024658,-4.527895927429199,0.2519007623195648,0.588054358959198,0.0945575162768364,-0.6635507941246033,-3.180811643600464,2.283596992492676,-0.9246950745582581,1.022871494293213,0.4723990857601166,-1.2465957403182983,-2.7932307720184326,4.204402446746826,-0.7320330142974854,2.364550828933716,-2.51198673248291,-1.6610368490219116,5.175148963928223,-0.35489538311958313,-1.9364122152328491,0.8042589426040649,-3.1252851486206055,-0.86167311668396,-0.05292316526174545,2.3242104053497314,4.754364490509033,-3.107177734375,-3.229738712310791,-2.7328903675079346,0.7856443524360657,-3.793222188949585,-0.16184373199939728,-1.2921885251998901,-5.519401550292969,-2.732675075531006,3.4996891021728516,-5.340342044830322,5.0239410400390625,-2.3538501262664795,0.19825445115566254,-1.8080443143844604,-4.409256935119629,-3.757354497909546,-1.677045464515686,-2.908536672592163,0.37683841586112976,0.5945700407028198,-1.447400450706482,-1.1634238958358765,-1.4742556810379028,3.787076234817505,-2.916177988052368,-0.7230575680732727,1.4139961004257202,5.2721333503723145,4.664409637451172,2.5400876998901367,0.7269949316978455,-0.24729186296463013,0.09667882323265076,-2.7503674030303955,3.1725502014160156,1.2155630588531494,2.2276670932769775],\"yaxis\":\"y\",\"type\":\"scatter\"}],                        {\"template\":{\"data\":{\"histogram2dcontour\":[{\"type\":\"histogram2dcontour\",\"colorbar\":{\"outlinewidth\":0,\"ticks\":\"\"},\"colorscale\":[[0.0,\"#0d0887\"],[0.1111111111111111,\"#46039f\"],[0.2222222222222222,\"#7201a8\"],[0.3333333333333333,\"#9c179e\"],[0.4444444444444444,\"#bd3786\"],[0.5555555555555556,\"#d8576b\"],[0.6666666666666666,\"#ed7953\"],[0.7777777777777778,\"#fb9f3a\"],[0.8888888888888888,\"#fdca26\"],[1.0,\"#f0f921\"]]}],\"choropleth\":[{\"type\":\"choropleth\",\"colorbar\":{\"outlinewidth\":0,\"ticks\":\"\"}}],\"histogram2d\":[{\"type\":\"histogram2d\",\"colorbar\":{\"outlinewidth\":0,\"ticks\":\"\"},\"colorscale\":[[0.0,\"#0d0887\"],[0.1111111111111111,\"#46039f\"],[0.2222222222222222,\"#7201a8\"],[0.3333333333333333,\"#9c179e\"],[0.4444444444444444,\"#bd3786\"],[0.5555555555555556,\"#d8576b\"],[0.6666666666666666,\"#ed7953\"],[0.7777777777777778,\"#fb9f3a\"],[0.8888888888888888,\"#fdca26\"],[1.0,\"#f0f921\"]]}],\"heatmap\":[{\"type\":\"heatmap\",\"colorbar\":{\"outlinewidth\":0,\"ticks\":\"\"},\"colorscale\":[[0.0,\"#0d0887\"],[0.1111111111111111,\"#46039f\"],[0.2222222222222222,\"#7201a8\"],[0.3333333333333333,\"#9c179e\"],[0.4444444444444444,\"#bd3786\"],[0.5555555555555556,\"#d8576b\"],[0.6666666666666666,\"#ed7953\"],[0.7777777777777778,\"#fb9f3a\"],[0.8888888888888888,\"#fdca26\"],[1.0,\"#f0f921\"]]}],\"heatmapgl\":[{\"type\":\"heatmapgl\",\"colorbar\":{\"outlinewidth\":0,\"ticks\":\"\"},\"colorscale\":[[0.0,\"#0d0887\"],[0.1111111111111111,\"#46039f\"],[0.2222222222222222,\"#7201a8\"],[0.3333333333333333,\"#9c179e\"],[0.4444444444444444,\"#bd3786\"],[0.5555555555555556,\"#d8576b\"],[0.6666666666666666,\"#ed7953\"],[0.7777777777777778,\"#fb9f3a\"],[0.8888888888888888,\"#fdca26\"],[1.0,\"#f0f921\"]]}],\"contourcarpet\":[{\"type\":\"contourcarpet\",\"colorbar\":{\"outlinewidth\":0,\"ticks\":\"\"}}],\"contour\":[{\"type\":\"contour\",\"colorbar\":{\"outlinewidth\":0,\"ticks\":\"\"},\"colorscale\":[[0.0,\"#0d0887\"],[0.1111111111111111,\"#46039f\"],[0.2222222222222222,\"#7201a8\"],[0.3333333333333333,\"#9c179e\"],[0.4444444444444444,\"#bd3786\"],[0.5555555555555556,\"#d8576b\"],[0.6666666666666666,\"#ed7953\"],[0.7777777777777778,\"#fb9f3a\"],[0.8888888888888888,\"#fdca26\"],[1.0,\"#f0f921\"]]}],\"surface\":[{\"type\":\"surface\",\"colorbar\":{\"outlinewidth\":0,\"ticks\":\"\"},\"colorscale\":[[0.0,\"#0d0887\"],[0.1111111111111111,\"#46039f\"],[0.2222222222222222,\"#7201a8\"],[0.3333333333333333,\"#9c179e\"],[0.4444444444444444,\"#bd3786\"],[0.5555555555555556,\"#d8576b\"],[0.6666666666666666,\"#ed7953\"],[0.7777777777777778,\"#fb9f3a\"],[0.8888888888888888,\"#fdca26\"],[1.0,\"#f0f921\"]]}],\"mesh3d\":[{\"type\":\"mesh3d\",\"colorbar\":{\"outlinewidth\":0,\"ticks\":\"\"}}],\"scatter\":[{\"fillpattern\":{\"fillmode\":\"overlay\",\"size\":10,\"solidity\":0.2},\"type\":\"scatter\"}],\"parcoords\":[{\"type\":\"parcoords\",\"line\":{\"colorbar\":{\"outlinewidth\":0,\"ticks\":\"\"}}}],\"scatterpolargl\":[{\"type\":\"scatterpolargl\",\"marker\":{\"colorbar\":{\"outlinewidth\":0,\"ticks\":\"\"}}}],\"bar\":[{\"error_x\":{\"color\":\"#2a3f5f\"},\"error_y\":{\"color\":\"#2a3f5f\"},\"marker\":{\"line\":{\"color\":\"#E5ECF6\",\"width\":0.5},\"pattern\":{\"fillmode\":\"overlay\",\"size\":10,\"solidity\":0.2}},\"type\":\"bar\"}],\"scattergeo\":[{\"type\":\"scattergeo\",\"marker\":{\"colorbar\":{\"outlinewidth\":0,\"ticks\":\"\"}}}],\"scatterpolar\":[{\"type\":\"scatterpolar\",\"marker\":{\"colorbar\":{\"outlinewidth\":0,\"ticks\":\"\"}}}],\"histogram\":[{\"marker\":{\"pattern\":{\"fillmode\":\"overlay\",\"size\":10,\"solidity\":0.2}},\"type\":\"histogram\"}],\"scattergl\":[{\"type\":\"scattergl\",\"marker\":{\"colorbar\":{\"outlinewidth\":0,\"ticks\":\"\"}}}],\"scatter3d\":[{\"type\":\"scatter3d\",\"line\":{\"colorbar\":{\"outlinewidth\":0,\"ticks\":\"\"}},\"marker\":{\"colorbar\":{\"outlinewidth\":0,\"ticks\":\"\"}}}],\"scattermapbox\":[{\"type\":\"scattermapbox\",\"marker\":{\"colorbar\":{\"outlinewidth\":0,\"ticks\":\"\"}}}],\"scatterternary\":[{\"type\":\"scatterternary\",\"marker\":{\"colorbar\":{\"outlinewidth\":0,\"ticks\":\"\"}}}],\"scattercarpet\":[{\"type\":\"scattercarpet\",\"marker\":{\"colorbar\":{\"outlinewidth\":0,\"ticks\":\"\"}}}],\"carpet\":[{\"aaxis\":{\"endlinecolor\":\"#2a3f5f\",\"gridcolor\":\"white\",\"linecolor\":\"white\",\"minorgridcolor\":\"white\",\"startlinecolor\":\"#2a3f5f\"},\"baxis\":{\"endlinecolor\":\"#2a3f5f\",\"gridcolor\":\"white\",\"linecolor\":\"white\",\"minorgridcolor\":\"white\",\"startlinecolor\":\"#2a3f5f\"},\"type\":\"carpet\"}],\"table\":[{\"cells\":{\"fill\":{\"color\":\"#EBF0F8\"},\"line\":{\"color\":\"white\"}},\"header\":{\"fill\":{\"color\":\"#C8D4E3\"},\"line\":{\"color\":\"white\"}},\"type\":\"table\"}],\"barpolar\":[{\"marker\":{\"line\":{\"color\":\"#E5ECF6\",\"width\":0.5},\"pattern\":{\"fillmode\":\"overlay\",\"size\":10,\"solidity\":0.2}},\"type\":\"barpolar\"}],\"pie\":[{\"automargin\":true,\"type\":\"pie\"}]},\"layout\":{\"autotypenumbers\":\"strict\",\"colorway\":[\"#636efa\",\"#EF553B\",\"#00cc96\",\"#ab63fa\",\"#FFA15A\",\"#19d3f3\",\"#FF6692\",\"#B6E880\",\"#FF97FF\",\"#FECB52\"],\"font\":{\"color\":\"#2a3f5f\"},\"hovermode\":\"closest\",\"hoverlabel\":{\"align\":\"left\"},\"paper_bgcolor\":\"white\",\"plot_bgcolor\":\"#E5ECF6\",\"polar\":{\"bgcolor\":\"#E5ECF6\",\"angularaxis\":{\"gridcolor\":\"white\",\"linecolor\":\"white\",\"ticks\":\"\"},\"radialaxis\":{\"gridcolor\":\"white\",\"linecolor\":\"white\",\"ticks\":\"\"}},\"ternary\":{\"bgcolor\":\"#E5ECF6\",\"aaxis\":{\"gridcolor\":\"white\",\"linecolor\":\"white\",\"ticks\":\"\"},\"baxis\":{\"gridcolor\":\"white\",\"linecolor\":\"white\",\"ticks\":\"\"},\"caxis\":{\"gridcolor\":\"white\",\"linecolor\":\"white\",\"ticks\":\"\"}},\"coloraxis\":{\"colorbar\":{\"outlinewidth\":0,\"ticks\":\"\"}},\"colorscale\":{\"sequential\":[[0.0,\"#0d0887\"],[0.1111111111111111,\"#46039f\"],[0.2222222222222222,\"#7201a8\"],[0.3333333333333333,\"#9c179e\"],[0.4444444444444444,\"#bd3786\"],[0.5555555555555556,\"#d8576b\"],[0.6666666666666666,\"#ed7953\"],[0.7777777777777778,\"#fb9f3a\"],[0.8888888888888888,\"#fdca26\"],[1.0,\"#f0f921\"]],\"sequentialminus\":[[0.0,\"#0d0887\"],[0.1111111111111111,\"#46039f\"],[0.2222222222222222,\"#7201a8\"],[0.3333333333333333,\"#9c179e\"],[0.4444444444444444,\"#bd3786\"],[0.5555555555555556,\"#d8576b\"],[0.6666666666666666,\"#ed7953\"],[0.7777777777777778,\"#fb9f3a\"],[0.8888888888888888,\"#fdca26\"],[1.0,\"#f0f921\"]],\"diverging\":[[0,\"#8e0152\"],[0.1,\"#c51b7d\"],[0.2,\"#de77ae\"],[0.3,\"#f1b6da\"],[0.4,\"#fde0ef\"],[0.5,\"#f7f7f7\"],[0.6,\"#e6f5d0\"],[0.7,\"#b8e186\"],[0.8,\"#7fbc41\"],[0.9,\"#4d9221\"],[1,\"#276419\"]]},\"xaxis\":{\"gridcolor\":\"white\",\"linecolor\":\"white\",\"ticks\":\"\",\"title\":{\"standoff\":15},\"zerolinecolor\":\"white\",\"automargin\":true,\"zerolinewidth\":2},\"yaxis\":{\"gridcolor\":\"white\",\"linecolor\":\"white\",\"ticks\":\"\",\"title\":{\"standoff\":15},\"zerolinecolor\":\"white\",\"automargin\":true,\"zerolinewidth\":2},\"scene\":{\"xaxis\":{\"backgroundcolor\":\"#E5ECF6\",\"gridcolor\":\"white\",\"linecolor\":\"white\",\"showbackground\":true,\"ticks\":\"\",\"zerolinecolor\":\"white\",\"gridwidth\":2},\"yaxis\":{\"backgroundcolor\":\"#E5ECF6\",\"gridcolor\":\"white\",\"linecolor\":\"white\",\"showbackground\":true,\"ticks\":\"\",\"zerolinecolor\":\"white\",\"gridwidth\":2},\"zaxis\":{\"backgroundcolor\":\"#E5ECF6\",\"gridcolor\":\"white\",\"linecolor\":\"white\",\"showbackground\":true,\"ticks\":\"\",\"zerolinecolor\":\"white\",\"gridwidth\":2}},\"shapedefaults\":{\"line\":{\"color\":\"#2a3f5f\"}},\"annotationdefaults\":{\"arrowcolor\":\"#2a3f5f\",\"arrowhead\":0,\"arrowwidth\":1},\"geo\":{\"bgcolor\":\"white\",\"landcolor\":\"#E5ECF6\",\"subunitcolor\":\"white\",\"showland\":true,\"showlakes\":true,\"lakecolor\":\"white\"},\"title\":{\"x\":0.05},\"mapbox\":{\"style\":\"light\"}}},\"xaxis\":{\"anchor\":\"y\",\"domain\":[0.0,1.0],\"title\":{\"text\":\"x\"}},\"yaxis\":{\"anchor\":\"x\",\"domain\":[0.0,1.0],\"title\":{\"text\":\"y\"}},\"legend\":{\"tracegroupgap\":0},\"margin\":{\"t\":60}},                        {\"responsive\": true}                    ).then(function(){\n",
              "                            \n",
              "var gd = document.getElementById('2c6f144d-68ad-4178-b496-31cf6a900d12');\n",
              "var x = new MutationObserver(function (mutations, observer) {{\n",
              "        var display = window.getComputedStyle(gd).display;\n",
              "        if (!display || display === 'none') {{\n",
              "            console.log([gd, 'removed!']);\n",
              "            Plotly.purge(gd);\n",
              "            observer.disconnect();\n",
              "        }}\n",
              "}});\n",
              "\n",
              "// Listen for the removal of the full notebook cells\n",
              "var notebookContainer = gd.closest('#notebook-container');\n",
              "if (notebookContainer) {{\n",
              "    x.observe(notebookContainer, {childList: true});\n",
              "}}\n",
              "\n",
              "// Listen for the clearing of the current output cell\n",
              "var outputEl = gd.closest('.output');\n",
              "if (outputEl) {{\n",
              "    x.observe(outputEl, {childList: true});\n",
              "}}\n",
              "\n",
              "                        })                };                            </script>        </div>\n",
              "</body>\n",
              "</html>"
            ]
          },
          "metadata": {}
        }
      ]
    },
    {
      "cell_type": "code",
      "source": [
        "# Graficar los embedddings en 3D\n",
        "\n",
        "vecs, labels = reduce_dimensions(w2v_model,3)\n",
        "\n",
        "fig = px.scatter_3d(x=vecs[:MAX_WORDS,0], y=vecs[:MAX_WORDS,1], z=vecs[:MAX_WORDS,2],text=labels[:MAX_WORDS])\n",
        "fig.update_traces(marker_size = 2)\n",
        "fig.show(renderer=\"colab\") # esto para plotly en colab"
      ],
      "metadata": {
        "colab": {
          "base_uri": "https://localhost:8080/",
          "height": 542
        },
        "id": "Dy3cpVvVV0BP",
        "outputId": "535d994f-24a3-47d2-9af3-9d6fe7d7f0c1"
      },
      "execution_count": null,
      "outputs": [
        {
          "output_type": "display_data",
          "data": {
            "text/html": [
              "<html>\n",
              "<head><meta charset=\"utf-8\" /></head>\n",
              "<body>\n",
              "    <div>            <script src=\"https://cdnjs.cloudflare.com/ajax/libs/mathjax/2.7.5/MathJax.js?config=TeX-AMS-MML_SVG\"></script><script type=\"text/javascript\">if (window.MathJax && window.MathJax.Hub && window.MathJax.Hub.Config) {window.MathJax.Hub.Config({SVG: {font: \"STIX-Web\"}});}</script>                <script type=\"text/javascript\">window.PlotlyConfig = {MathJaxConfig: 'local'};</script>\n",
              "        <script charset=\"utf-8\" src=\"https://cdn.plot.ly/plotly-2.24.1.min.js\"></script>                <div id=\"a80c0777-b2b3-4570-ae9a-c061818978e8\" class=\"plotly-graph-div\" style=\"height:525px; width:100%;\"></div>            <script type=\"text/javascript\">                                    window.PLOTLYENV=window.PLOTLYENV || {};                                    if (document.getElementById(\"a80c0777-b2b3-4570-ae9a-c061818978e8\")) {                    Plotly.newPlot(                        \"a80c0777-b2b3-4570-ae9a-c061818978e8\",                        [{\"hovertemplate\":\"x=%{x}\\u003cbr\\u003ey=%{y}\\u003cbr\\u003ez=%{z}\\u003cbr\\u003etext=%{text}\\u003cextra\\u003e\\u003c\\u002fextra\\u003e\",\"legendgroup\":\"\",\"marker\":{\"color\":\"#636efa\",\"symbol\":\"circle\",\"size\":2},\"mode\":\"markers+text\",\"name\":\"\",\"scene\":\"scene\",\"showlegend\":false,\"text\":[\"the\",\"and\",\"i\",\"was\",\"a\",\"to\",\"is\",\"this\",\"it\",\"of\",\"food\",\"not\",\"for\",\"in\",\"place\",\"good\",\"service\",\"we\",\"very\",\"my\",\"with\",\"had\",\"great\",\"that\",\"be\",\"so\",\"were\",\"are\",\"but\",\"have\",\"back\",\"you\",\"here\",\"they\",\"on\",\"at\",\"like\",\"go\",\"all\",\"time\",\"our\",\"will\",\"really\",\"there\",\"as\",\"just\",\"an\",\"their\",\"best\",\"if\",\"ever\",\"would\",\"friendly\",\"also\",\"one\",\"up\",\"only\",\"never\",\"no\",\"your\",\"out\",\"don't\",\"restaurant\",\"nice\",\"amazing\",\"what\",\"been\",\"from\",\"again\",\"delicious\",\"vegas\",\"did\",\"by\",\"which\",\"experience\",\"came\",\"some\",\"pretty\",\"i've\",\"when\",\"me\",\"i'm\",\"eat\",\"staff\",\"love\",\"get\",\"minutes\",\"won't\",\"even\",\"or\",\"disappointed\",\"definitely\",\"us\",\"much\",\"it's\",\"got\",\"he\",\"going\",\"bad\",\"about\",\"chicken\",\"more\",\"made\",\"first\",\"think\",\"better\",\"could\",\"say\",\"way\",\"well\",\"always\",\"stars\",\"than\",\"salad\",\"how\",\"menu\",\"pizza\",\"can\",\"too\",\"has\",\"worst\",\"quality\",\"fresh\",\"being\",\"them\",\"because\",\"wait\",\"other\",\"ordered\",\"steak\",\"flavor\",\"didn't\",\"sushi\",\"wasn't\",\"want\",\"times\",\"went\",\"taste\",\"server\",\"any\",\"over\",\"fantastic\",\"after\",\"awesome\",\"enough\",\"now\",\"everything\",\"burger\",\"night\",\"do\",\"feel\",\"recommend\",\"tasty\",\"meal\",\"know\",\"down\",\"next\",\"bland\",\"order\",\"atmosphere\",\"still\",\"buffet\",\"slow\",\"come\",\"prices\",\"little\",\"selection\",\"worth\",\"sauce\",\"loved\",\"coming\",\"breakfast\",\"waited\",\"another\",\"probably\",\"excellent\",\"perfect\",\"lunch\",\"terrible\",\"before\",\"right\",\"sandwich\",\"dishes\",\"clean\",\"people\",\"can't\",\"off\",\"every\",\"meat\",\"many\",\"table\",\"then\",\"day\",\"fries\",\"give\",\"hot\",\"soon\",\"she\",\"2\",\"cold\"],\"x\":[-12.664204597473145,-12.063828468322754,10.74963092803955,-12.476219177246094,-7.85967493057251,10.861416816711426,-12.128615379333496,4.057568550109863,1.0855131149291992,-11.266204833984375,-11.33013916015625,8.68011474609375,4.880409240722656,-5.360641002655029,4.750138282775879,-11.521754264831543,-11.519316673278809,5.487893104553223,-12.16441822052002,-1.2721484899520874,-10.675453186035156,-1.7283297777175903,-11.933002471923828,3.8644845485687256,12.707510948181152,-6.79655122756958,-10.9166898727417,-5.558780670166016,4.363029956817627,6.976321697235107,12.832029342651367,10.927658081054688,10.561934471130371,2.220381259918213,-10.228496551513672,-4.359507083892822,-0.5724102258682251,12.483990669250488,-8.117840766906738,1.8698103427886963,-9.741661071777344,12.6686429977417,-7.107029438018799,4.898612976074219,-9.982650756835938,2.935474395751953,0.7964056730270386,-4.684707164764404,-6.004941940307617,10.164535522460938,9.757392883300781,10.927779197692871,-12.535141944885254,-10.009856224060059,-1.9988232851028442,9.374828338623047,-2.8284332752227783,11.720438957214355,-0.24844390153884888,1.0013620853424072,-2.4913718700408936,9.60788345336914,-7.4969940185546875,-11.483842849731445,-6.883028030395508,3.5816757678985596,7.4228034019470215,4.556259632110596,11.930360794067383,-6.117562294006348,0.4475330114364624,-0.9140740633010864,-4.151195526123047,-9.478328704833984,-5.990532398223877,3.0445075035095215,-6.991894245147705,-8.186572074890137,6.712618827819824,0.6160759925842285,1.0404331684112549,6.582403659820557,9.474016189575195,-12.066996574401855,4.523897171020508,9.125572204589844,7.034083366394043,12.494221687316895,-1.332835078239441,-4.556629180908203,6.053114414215088,10.243768692016602,-2.3839643001556396,-8.283278465270996,-3.796931028366089,-2.8576407432556152,-4.932783603668213,11.656482696533203,-6.662337779998779,2.5264480113983154,-10.430964469909668,-6.095549583435059,-6.043086528778076,-2.948324680328369,10.73189640045166,-6.155739784240723,7.715451240539551,8.123987197875977,-3.702286958694458,-9.943795204162598,-9.966970443725586,5.131129741668701,-4.012615203857422,-7.924725532531738,7.357995510101318,-10.341524124145508,-7.5565338134765625,9.8072509765625,-3.1981115341186523,-6.511292457580566,-0.9732337594032288,-7.607248783111572,-8.350285530090332,2.938119649887085,4.559468746185303,2.1059365272521973,7.080683708190918,1.2844517230987549,-6.5868306159973145,-6.015108585357666,-2.613086223602295,-2.6557090282440186,4.89659309387207,-5.5778632164001465,8.46562671661377,4.899264335632324,4.192159652709961,-5.25369930267334,-9.865994453430176,3.0576159954071045,6.671627521514893,-3.9610962867736816,5.55571985244751,-2.752765655517578,0.9250096082687378,0.2635429799556732,-6.873754978179932,-7.03037691116333,1.3254905939102173,7.159152030944824,2.576735734939575,8.130789756774902,-7.471657752990723,-3.546459674835205,7.483025074005127,-0.44777727127075195,6.811126232147217,-7.122921943664551,3.3483195304870605,-8.04599380493164,-1.986675500869751,-0.3398389518260956,-8.152619361877441,10.673290252685547,-8.31825065612793,-6.666031837463379,-6.885939598083496,1.869958519935608,-6.892552852630615,-2.571506977081299,8.974804878234863,0.5628318786621094,3.6526925563812256,6.416995525360107,8.893205642700195,-7.681054592132568,-6.330089569091797,-0.7522798776626587,-7.9195075035095215,8.657506942749023,1.9971153736114502,-2.8196299076080322,-5.114502429962158,-9.942456245422363,4.182775974273682,8.548675537109375,1.5243809223175049,8.184120178222656,-2.4744513034820557,6.0764923095703125,-3.4170470237731934,4.236541271209717,-2.2254655361175537,-5.201636791229248,5.601988315582275,-4.0456862449646,8.708415031433105,-4.787535667419434,5.417459011077881,-0.9861606955528259],\"y\":[-2.7136123180389404,-2.3695173263549805,6.468111515045166,-2.7068123817443848,-2.447838306427002,6.061295509338379,-2.073472738265991,3.6933255195617676,4.488206386566162,-2.9311881065368652,-1.957726240158081,5.870746612548828,-1.7016561031341553,-2.5713067054748535,3.352189064025879,-1.5636531114578247,-1.737824559211731,3.352355718612671,-2.171084403991699,-3.3745529651641846,-2.6144487857818604,-0.4617496430873871,-2.130877733230591,2.351853132247925,5.6507768630981445,1.3068671226501465,-1.3926076889038086,-2.484988212585449,4.388527870178223,2.3606133460998535,5.56547212600708,5.965325355529785,6.138304710388184,-1.8387497663497925,-3.21187162399292,-1.6469656229019165,1.3736026287078857,5.8191022872924805,-3.3985297679901123,2.078301191329956,-2.317190170288086,5.684659957885742,-2.7855377197265625,4.131544589996338,-1.3466641902923584,2.9962246417999268,-2.742696523666382,-0.9282941222190857,-0.45194992423057556,5.420470714569092,5.920739650726318,6.633439064025879,-2.229788303375244,-2.261186122894287,0.7410287857055664,4.684831619262695,-3.4190218448638916,6.29067325592041,-2.7569196224212646,2.364025115966797,-3.9326586723327637,5.461857318878174,-2.3202574253082275,-1.6320106983184814,-0.8923014402389526,-0.27099087834358215,2.2683684825897217,-1.162598729133606,6.124570369720459,1.1603420972824097,0.7038405537605286,-0.7403310537338257,-1.6521519422531128,-2.372009515762329,-0.807970404624939,-0.9139963388442993,-3.1033859252929688,-1.0015287399291992,2.2207117080688477,-3.7987940311431885,0.27488481998443604,3.691770076751709,4.526187419891357,-1.9819194078445435,4.366539478302002,3.42573881149292,-1.4872249364852905,5.776642799377441,-2.1888949871063232,-3.953622579574585,4.862608432769775,6.263696670532227,-3.606050729751587,-0.028705492615699768,1.3764549493789673,-0.5694142580032349,-4.465882301330566,6.138963222503662,-3.4565749168395996,3.0465941429138184,-3.2757787704467773,-2.495084524154663,-3.5405399799346924,-4.795268535614014,6.253114700317383,-2.4295551776885986,2.575571060180664,3.953378438949585,1.4811718463897705,-1.3528343439102173,-2.0331263542175293,0.11429612338542938,-4.117387294769287,-0.8712676763534546,2.3412117958068848,-2.400559663772583,-2.7861135005950928,5.280056476593018,0.3927825093269348,-1.9747045040130615,0.34479019045829773,-2.4186930656433105,-1.3718969821929932,-2.0638229846954346,-0.06174323335289955,4.015172481536865,0.4181460738182068,-2.2148072719573975,-0.10117053985595703,-0.9600048065185547,-2.4433162212371826,-1.8955163955688477,3.2391722202301025,1.3207437992095947,3.4447827339172363,2.44031023979187,4.486469268798828,-2.35396671295166,-2.222215414047241,0.5148178339004517,1.0083675384521484,0.9347385168075562,-0.023929115384817123,0.8707311749458313,-0.8926409482955933,-2.595208168029785,-1.2521730661392212,-0.6296793818473816,-1.4537137746810913,2.9055449962615967,0.1904996931552887,4.914046764373779,-1.0168746709823608,-3.993032693862915,2.749122381210327,2.5931854248046875,1.2225092649459839,0.0886315107345581,0.7960203886032104,-2.1776528358459473,-1.885404109954834,-1.0923370122909546,0.11535030603408813,6.168923854827881,-0.14678676426410675,-2.418764114379883,-0.036452554166316986,1.1673883199691772,-1.8527635335922241,3.259962320327759,5.43015193939209,-0.04140960052609444,4.973199844360352,-1.7203508615493774,5.239274024963379,-2.439851999282837,-1.0082664489746094,2.998762607574463,0.6413758993148804,4.0482964515686035,2.420347213745117,-1.45112943649292,-2.282175064086914,-1.6709312200546265,1.372889518737793,4.009744644165039,-1.1981253623962402,4.527633190155029,-0.9335578083992004,1.529941439628601,-4.040385723114014,-1.3492262363433838,-2.5074822902679443,-2.0477399826049805,1.1693880558013916,-1.3196771144866943,4.951825141906738,-3.4076199531555176,0.7138238549232483,-1.3252004384994507],\"z\":[-2.1948745250701904,-2.356264352798462,1.5263618230819702,-2.716705799102783,1.4331684112548828,1.7133125066757202,-0.9499601721763611,-2.3532309532165527,1.3909270763397217,-0.7386310696601868,-1.650482416152954,0.4027552008628845,-0.8711745142936707,1.250736117362976,-2.2873876094818115,-1.7127070426940918,-1.873669147491455,1.1482731103897095,-2.4723050594329834,-0.613793134689331,-0.7592766284942627,-3.1313915252685547,-1.5469214916229248,-2.0677385330200195,2.4599080085754395,-2.274615526199341,-0.9835788011550903,-3.1248116493225098,-1.6459994316101074,3.213095188140869,2.468125104904175,0.5407994389533997,2.105895519256592,3.3388831615448,-1.4597376585006714,1.9252008199691772,2.7028260231018066,2.447364330291748,-0.4189245104789734,2.8836517333984375,-3.0593342781066895,2.4492554664611816,-2.8583967685699463,1.5954760313034058,1.2056714296340942,0.6399984359741211,-1.3438613414764404,-3.2690117359161377,1.6468652486801147,0.30838868021965027,2.656698703765869,1.55829656124115,-2.6307764053344727,-0.9827155470848083,3.6117968559265137,1.5365194082260132,-0.7484363317489624,2.398757219314575,-3.481299877166748,1.2469803094863892,1.7487225532531738,0.21339227259159088,1.3833991289138794,-1.7012561559677124,-2.1618154048919678,3.4985580444335938,2.617769956588745,2.179004430770874,2.3428454399108887,-1.7293446063995361,-2.661552906036377,2.9801318645477295,1.7413979768753052,-0.6925068497657776,1.4007627964019775,-2.250478744506836,0.21517404913902283,-0.13638554513454437,3.3264942169189453,0.4618881940841675,4.315728664398193,-0.8405534029006958,1.6935865879058838,-1.937253713607788,-1.4147207736968994,0.24388539791107178,-0.38870805501937866,2.405024766921997,2.305180788040161,-1.6452490091323853,0.9088206887245178,1.5148135423660278,0.9198595881462097,1.3111016750335693,-3.157327890396118,-3.503377914428711,0.24310775101184845,2.269937515258789,-1.166489839553833,-1.8743321895599365,-1.4359230995178223,3.510599374771118,0.24893718957901,0.45358017086982727,1.3582549095153809,3.119889736175537,1.0818394422531128,0.15040670335292816,1.4124321937561035,1.1384942531585693,-0.6996046304702759,-2.2891297340393066,2.784188747406006,-2.648669958114624,-0.4143126606941223,-1.005014181137085,-1.3238800764083862,0.17658399045467377,1.896546483039856,2.027341604232788,-2.2194414138793945,0.07001004368066788,-1.2942190170288086,0.5887735486030579,-2.5711803436279297,0.9116212129592896,-0.03707929328083992,1.8740782737731934,-2.4936091899871826,0.6191990971565247,-2.323491334915161,1.2153520584106445,-1.3233379125595093,-1.7540242671966553,-0.31839993596076965,2.2373926639556885,0.4165245592594147,-2.227701425552368,-2.751335859298706,1.9043684005737305,-0.9930500984191895,-1.3514246940612793,-0.3554927110671997,-2.5282843112945557,2.5327460765838623,2.0275778770446777,-0.8299249410629272,-2.012678623199463,-1.1896041631698608,-0.11249139904975891,-1.6529970169067383,-0.008425760082900524,-1.029987096786499,1.1897720098495483,-0.5748239159584045,2.188520669937134,0.7655511498451233,-0.8868274092674255,0.19122537970542908,-0.21739640831947327,0.067244753241539,-1.7530285120010376,-0.8629001975059509,1.8995383977890015,-1.1052452325820923,0.07606098800897598,-0.1273123174905777,1.2502952814102173,-1.7931185960769653,-0.11650683730840683,1.6208157539367676,-1.4769880771636963,0.4715607166290283,-0.09500868618488312,1.2320889234542847,-0.6682499051094055,-0.2256641387939453,-0.7458794116973877,-0.8372834920883179,0.7906976938247681,-0.10478785634040833,-1.7622220516204834,-2.378852367401123,-1.1844754219055176,2.660935878753662,0.5139421820640564,-1.007451057434082,1.6921285390853882,-2.6414825916290283,1.8163855075836182,0.9652225375175476,-0.5469954013824463,0.7800649404525757,-2.0897247791290283,-1.2887248992919922,-1.8127729892730713,1.6744513511657715,-0.3295143246650696,0.6669585108757019,2.2068495750427246],\"type\":\"scatter3d\"}],                        {\"template\":{\"data\":{\"histogram2dcontour\":[{\"type\":\"histogram2dcontour\",\"colorbar\":{\"outlinewidth\":0,\"ticks\":\"\"},\"colorscale\":[[0.0,\"#0d0887\"],[0.1111111111111111,\"#46039f\"],[0.2222222222222222,\"#7201a8\"],[0.3333333333333333,\"#9c179e\"],[0.4444444444444444,\"#bd3786\"],[0.5555555555555556,\"#d8576b\"],[0.6666666666666666,\"#ed7953\"],[0.7777777777777778,\"#fb9f3a\"],[0.8888888888888888,\"#fdca26\"],[1.0,\"#f0f921\"]]}],\"choropleth\":[{\"type\":\"choropleth\",\"colorbar\":{\"outlinewidth\":0,\"ticks\":\"\"}}],\"histogram2d\":[{\"type\":\"histogram2d\",\"colorbar\":{\"outlinewidth\":0,\"ticks\":\"\"},\"colorscale\":[[0.0,\"#0d0887\"],[0.1111111111111111,\"#46039f\"],[0.2222222222222222,\"#7201a8\"],[0.3333333333333333,\"#9c179e\"],[0.4444444444444444,\"#bd3786\"],[0.5555555555555556,\"#d8576b\"],[0.6666666666666666,\"#ed7953\"],[0.7777777777777778,\"#fb9f3a\"],[0.8888888888888888,\"#fdca26\"],[1.0,\"#f0f921\"]]}],\"heatmap\":[{\"type\":\"heatmap\",\"colorbar\":{\"outlinewidth\":0,\"ticks\":\"\"},\"colorscale\":[[0.0,\"#0d0887\"],[0.1111111111111111,\"#46039f\"],[0.2222222222222222,\"#7201a8\"],[0.3333333333333333,\"#9c179e\"],[0.4444444444444444,\"#bd3786\"],[0.5555555555555556,\"#d8576b\"],[0.6666666666666666,\"#ed7953\"],[0.7777777777777778,\"#fb9f3a\"],[0.8888888888888888,\"#fdca26\"],[1.0,\"#f0f921\"]]}],\"heatmapgl\":[{\"type\":\"heatmapgl\",\"colorbar\":{\"outlinewidth\":0,\"ticks\":\"\"},\"colorscale\":[[0.0,\"#0d0887\"],[0.1111111111111111,\"#46039f\"],[0.2222222222222222,\"#7201a8\"],[0.3333333333333333,\"#9c179e\"],[0.4444444444444444,\"#bd3786\"],[0.5555555555555556,\"#d8576b\"],[0.6666666666666666,\"#ed7953\"],[0.7777777777777778,\"#fb9f3a\"],[0.8888888888888888,\"#fdca26\"],[1.0,\"#f0f921\"]]}],\"contourcarpet\":[{\"type\":\"contourcarpet\",\"colorbar\":{\"outlinewidth\":0,\"ticks\":\"\"}}],\"contour\":[{\"type\":\"contour\",\"colorbar\":{\"outlinewidth\":0,\"ticks\":\"\"},\"colorscale\":[[0.0,\"#0d0887\"],[0.1111111111111111,\"#46039f\"],[0.2222222222222222,\"#7201a8\"],[0.3333333333333333,\"#9c179e\"],[0.4444444444444444,\"#bd3786\"],[0.5555555555555556,\"#d8576b\"],[0.6666666666666666,\"#ed7953\"],[0.7777777777777778,\"#fb9f3a\"],[0.8888888888888888,\"#fdca26\"],[1.0,\"#f0f921\"]]}],\"surface\":[{\"type\":\"surface\",\"colorbar\":{\"outlinewidth\":0,\"ticks\":\"\"},\"colorscale\":[[0.0,\"#0d0887\"],[0.1111111111111111,\"#46039f\"],[0.2222222222222222,\"#7201a8\"],[0.3333333333333333,\"#9c179e\"],[0.4444444444444444,\"#bd3786\"],[0.5555555555555556,\"#d8576b\"],[0.6666666666666666,\"#ed7953\"],[0.7777777777777778,\"#fb9f3a\"],[0.8888888888888888,\"#fdca26\"],[1.0,\"#f0f921\"]]}],\"mesh3d\":[{\"type\":\"mesh3d\",\"colorbar\":{\"outlinewidth\":0,\"ticks\":\"\"}}],\"scatter\":[{\"fillpattern\":{\"fillmode\":\"overlay\",\"size\":10,\"solidity\":0.2},\"type\":\"scatter\"}],\"parcoords\":[{\"type\":\"parcoords\",\"line\":{\"colorbar\":{\"outlinewidth\":0,\"ticks\":\"\"}}}],\"scatterpolargl\":[{\"type\":\"scatterpolargl\",\"marker\":{\"colorbar\":{\"outlinewidth\":0,\"ticks\":\"\"}}}],\"bar\":[{\"error_x\":{\"color\":\"#2a3f5f\"},\"error_y\":{\"color\":\"#2a3f5f\"},\"marker\":{\"line\":{\"color\":\"#E5ECF6\",\"width\":0.5},\"pattern\":{\"fillmode\":\"overlay\",\"size\":10,\"solidity\":0.2}},\"type\":\"bar\"}],\"scattergeo\":[{\"type\":\"scattergeo\",\"marker\":{\"colorbar\":{\"outlinewidth\":0,\"ticks\":\"\"}}}],\"scatterpolar\":[{\"type\":\"scatterpolar\",\"marker\":{\"colorbar\":{\"outlinewidth\":0,\"ticks\":\"\"}}}],\"histogram\":[{\"marker\":{\"pattern\":{\"fillmode\":\"overlay\",\"size\":10,\"solidity\":0.2}},\"type\":\"histogram\"}],\"scattergl\":[{\"type\":\"scattergl\",\"marker\":{\"colorbar\":{\"outlinewidth\":0,\"ticks\":\"\"}}}],\"scatter3d\":[{\"type\":\"scatter3d\",\"line\":{\"colorbar\":{\"outlinewidth\":0,\"ticks\":\"\"}},\"marker\":{\"colorbar\":{\"outlinewidth\":0,\"ticks\":\"\"}}}],\"scattermapbox\":[{\"type\":\"scattermapbox\",\"marker\":{\"colorbar\":{\"outlinewidth\":0,\"ticks\":\"\"}}}],\"scatterternary\":[{\"type\":\"scatterternary\",\"marker\":{\"colorbar\":{\"outlinewidth\":0,\"ticks\":\"\"}}}],\"scattercarpet\":[{\"type\":\"scattercarpet\",\"marker\":{\"colorbar\":{\"outlinewidth\":0,\"ticks\":\"\"}}}],\"carpet\":[{\"aaxis\":{\"endlinecolor\":\"#2a3f5f\",\"gridcolor\":\"white\",\"linecolor\":\"white\",\"minorgridcolor\":\"white\",\"startlinecolor\":\"#2a3f5f\"},\"baxis\":{\"endlinecolor\":\"#2a3f5f\",\"gridcolor\":\"white\",\"linecolor\":\"white\",\"minorgridcolor\":\"white\",\"startlinecolor\":\"#2a3f5f\"},\"type\":\"carpet\"}],\"table\":[{\"cells\":{\"fill\":{\"color\":\"#EBF0F8\"},\"line\":{\"color\":\"white\"}},\"header\":{\"fill\":{\"color\":\"#C8D4E3\"},\"line\":{\"color\":\"white\"}},\"type\":\"table\"}],\"barpolar\":[{\"marker\":{\"line\":{\"color\":\"#E5ECF6\",\"width\":0.5},\"pattern\":{\"fillmode\":\"overlay\",\"size\":10,\"solidity\":0.2}},\"type\":\"barpolar\"}],\"pie\":[{\"automargin\":true,\"type\":\"pie\"}]},\"layout\":{\"autotypenumbers\":\"strict\",\"colorway\":[\"#636efa\",\"#EF553B\",\"#00cc96\",\"#ab63fa\",\"#FFA15A\",\"#19d3f3\",\"#FF6692\",\"#B6E880\",\"#FF97FF\",\"#FECB52\"],\"font\":{\"color\":\"#2a3f5f\"},\"hovermode\":\"closest\",\"hoverlabel\":{\"align\":\"left\"},\"paper_bgcolor\":\"white\",\"plot_bgcolor\":\"#E5ECF6\",\"polar\":{\"bgcolor\":\"#E5ECF6\",\"angularaxis\":{\"gridcolor\":\"white\",\"linecolor\":\"white\",\"ticks\":\"\"},\"radialaxis\":{\"gridcolor\":\"white\",\"linecolor\":\"white\",\"ticks\":\"\"}},\"ternary\":{\"bgcolor\":\"#E5ECF6\",\"aaxis\":{\"gridcolor\":\"white\",\"linecolor\":\"white\",\"ticks\":\"\"},\"baxis\":{\"gridcolor\":\"white\",\"linecolor\":\"white\",\"ticks\":\"\"},\"caxis\":{\"gridcolor\":\"white\",\"linecolor\":\"white\",\"ticks\":\"\"}},\"coloraxis\":{\"colorbar\":{\"outlinewidth\":0,\"ticks\":\"\"}},\"colorscale\":{\"sequential\":[[0.0,\"#0d0887\"],[0.1111111111111111,\"#46039f\"],[0.2222222222222222,\"#7201a8\"],[0.3333333333333333,\"#9c179e\"],[0.4444444444444444,\"#bd3786\"],[0.5555555555555556,\"#d8576b\"],[0.6666666666666666,\"#ed7953\"],[0.7777777777777778,\"#fb9f3a\"],[0.8888888888888888,\"#fdca26\"],[1.0,\"#f0f921\"]],\"sequentialminus\":[[0.0,\"#0d0887\"],[0.1111111111111111,\"#46039f\"],[0.2222222222222222,\"#7201a8\"],[0.3333333333333333,\"#9c179e\"],[0.4444444444444444,\"#bd3786\"],[0.5555555555555556,\"#d8576b\"],[0.6666666666666666,\"#ed7953\"],[0.7777777777777778,\"#fb9f3a\"],[0.8888888888888888,\"#fdca26\"],[1.0,\"#f0f921\"]],\"diverging\":[[0,\"#8e0152\"],[0.1,\"#c51b7d\"],[0.2,\"#de77ae\"],[0.3,\"#f1b6da\"],[0.4,\"#fde0ef\"],[0.5,\"#f7f7f7\"],[0.6,\"#e6f5d0\"],[0.7,\"#b8e186\"],[0.8,\"#7fbc41\"],[0.9,\"#4d9221\"],[1,\"#276419\"]]},\"xaxis\":{\"gridcolor\":\"white\",\"linecolor\":\"white\",\"ticks\":\"\",\"title\":{\"standoff\":15},\"zerolinecolor\":\"white\",\"automargin\":true,\"zerolinewidth\":2},\"yaxis\":{\"gridcolor\":\"white\",\"linecolor\":\"white\",\"ticks\":\"\",\"title\":{\"standoff\":15},\"zerolinecolor\":\"white\",\"automargin\":true,\"zerolinewidth\":2},\"scene\":{\"xaxis\":{\"backgroundcolor\":\"#E5ECF6\",\"gridcolor\":\"white\",\"linecolor\":\"white\",\"showbackground\":true,\"ticks\":\"\",\"zerolinecolor\":\"white\",\"gridwidth\":2},\"yaxis\":{\"backgroundcolor\":\"#E5ECF6\",\"gridcolor\":\"white\",\"linecolor\":\"white\",\"showbackground\":true,\"ticks\":\"\",\"zerolinecolor\":\"white\",\"gridwidth\":2},\"zaxis\":{\"backgroundcolor\":\"#E5ECF6\",\"gridcolor\":\"white\",\"linecolor\":\"white\",\"showbackground\":true,\"ticks\":\"\",\"zerolinecolor\":\"white\",\"gridwidth\":2}},\"shapedefaults\":{\"line\":{\"color\":\"#2a3f5f\"}},\"annotationdefaults\":{\"arrowcolor\":\"#2a3f5f\",\"arrowhead\":0,\"arrowwidth\":1},\"geo\":{\"bgcolor\":\"white\",\"landcolor\":\"#E5ECF6\",\"subunitcolor\":\"white\",\"showland\":true,\"showlakes\":true,\"lakecolor\":\"white\"},\"title\":{\"x\":0.05},\"mapbox\":{\"style\":\"light\"}}},\"scene\":{\"domain\":{\"x\":[0.0,1.0],\"y\":[0.0,1.0]},\"xaxis\":{\"title\":{\"text\":\"x\"}},\"yaxis\":{\"title\":{\"text\":\"y\"}},\"zaxis\":{\"title\":{\"text\":\"z\"}}},\"legend\":{\"tracegroupgap\":0},\"margin\":{\"t\":60}},                        {\"responsive\": true}                    ).then(function(){\n",
              "                            \n",
              "var gd = document.getElementById('a80c0777-b2b3-4570-ae9a-c061818978e8');\n",
              "var x = new MutationObserver(function (mutations, observer) {{\n",
              "        var display = window.getComputedStyle(gd).display;\n",
              "        if (!display || display === 'none') {{\n",
              "            console.log([gd, 'removed!']);\n",
              "            Plotly.purge(gd);\n",
              "            observer.disconnect();\n",
              "        }}\n",
              "}});\n",
              "\n",
              "// Listen for the removal of the full notebook cells\n",
              "var notebookContainer = gd.closest('#notebook-container');\n",
              "if (notebookContainer) {{\n",
              "    x.observe(notebookContainer, {childList: true});\n",
              "}}\n",
              "\n",
              "// Listen for the clearing of the current output cell\n",
              "var outputEl = gd.closest('.output');\n",
              "if (outputEl) {{\n",
              "    x.observe(outputEl, {childList: true});\n",
              "}}\n",
              "\n",
              "                        })                };                            </script>        </div>\n",
              "</body>\n",
              "</html>"
            ]
          },
          "metadata": {}
        }
      ]
    },
    {
      "cell_type": "code",
      "source": [],
      "metadata": {
        "id": "2-exAPm3V8OX"
      },
      "execution_count": null,
      "outputs": []
    }
  ],
  "metadata": {
    "colab": {
      "provenance": []
    },
    "kernelspec": {
      "display_name": "Python 3 (ipykernel)",
      "language": "python",
      "name": "python3"
    },
    "language_info": {
      "codemirror_mode": {
        "name": "ipython",
        "version": 3
      },
      "file_extension": ".py",
      "mimetype": "text/x-python",
      "name": "python",
      "nbconvert_exporter": "python",
      "pygments_lexer": "ipython3",
      "version": "3.10.6"
    }
  },
  "nbformat": 4,
  "nbformat_minor": 0
}